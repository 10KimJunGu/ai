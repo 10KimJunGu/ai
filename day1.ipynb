{
  "nbformat": 4,
  "nbformat_minor": 0,
  "metadata": {
    "colab": {
      "name": "Untitled0.ipynb",
      "provenance": [],
      "authorship_tag": "ABX9TyOOWC4E8wYI2EOPI0bnRsXH",
      "include_colab_link": true
    },
    "kernelspec": {
      "name": "python3",
      "display_name": "Python 3"
    },
    "language_info": {
      "name": "python"
    }
  },
  "cells": [
    {
      "cell_type": "markdown",
      "metadata": {
        "id": "view-in-github",
        "colab_type": "text"
      },
      "source": [
        "<a href=\"https://colab.research.google.com/github/32KimJunGu/ai/blob/main/day1.ipynb\" target=\"_parent\"><img src=\"https://colab.research.google.com/assets/colab-badge.svg\" alt=\"Open In Colab\"/></a>"
      ]
    },
    {
      "cell_type": "code",
      "execution_count": null,
      "metadata": {
        "colab": {
          "base_uri": "https://localhost:8080/"
        },
        "id": "Ct4qVwT5xUgO",
        "outputId": "cee6d2d2-2bf6-4955-f0f5-daff05b8434a"
      },
      "outputs": [
        {
          "output_type": "stream",
          "name": "stdout",
          "text": [
            "hellow World\n"
          ]
        }
      ],
      "source": [
        "'''\n",
        "작성자 : 홍길동\n",
        "작성일 : 2022-01-25\n",
        "버전 : 0.1\n",
        "'''\n",
        "\n",
        "# 보통 삼중 따옴표 주석은 \n",
        "# 여러줄을 주석으로 사용할 때 사용한다.\n",
        "\n",
        "#주석 붙이는 위치\n",
        "\n",
        "print('hellow World') # 보통 행의 우측 또는 위에 주석을 붙인다."
      ]
    },
    {
      "cell_type": "code",
      "source": [
        "###############\n",
        "# 변수 Variable\n",
        "###############\n",
        "\n",
        "score = 100\n",
        "\n",
        "print(score)"
      ],
      "metadata": {
        "colab": {
          "base_uri": "https://localhost:8080/"
        },
        "id": "-Fl0ily1_Tx7",
        "outputId": "2d90ad83-397c-4373-c237-590eccc761bc"
      },
      "execution_count": null,
      "outputs": [
        {
          "output_type": "stream",
          "name": "stdout",
          "text": [
            "100\n"
          ]
        }
      ]
    },
    {
      "cell_type": "code",
      "source": [
        "name ='Alice'\n",
        "age=25\n",
        "address='''우편번호 12345\n",
        "서울시 영등포구 여의도동\n",
        "서울빌딩 501호'''\n",
        "boyfriend = None\n",
        "height = 168.5\n",
        "\n",
        "print(name);\n",
        "print(age);\n",
        "print(address);\n",
        "print(boyfriend);\n",
        "print(height);\n"
      ],
      "metadata": {
        "colab": {
          "base_uri": "https://localhost:8080/"
        },
        "id": "BJtFpwziCpaP",
        "outputId": "f6125d4d-0058-44c8-9d50-69c4efea3152"
      },
      "execution_count": null,
      "outputs": [
        {
          "output_type": "stream",
          "name": "stdout",
          "text": [
            "Alice\n",
            "25\n",
            "우편번호 12345\n",
            "서울시 영등포구 여의도동\n",
            "서울빌딩 501호\n",
            "None\n",
            "168.5\n"
          ]
        }
      ]
    },
    {
      "cell_type": "code",
      "source": [
        "##################\n",
        "# 기본 자료형 type\n",
        "##################\n",
        "\n",
        "a = int(1.9)\n",
        "print(a)\n",
        "\n",
        "b = int(True)\n",
        "print(b)\n",
        "\n",
        "c = int(False)\n",
        "print(c)\n",
        "\n",
        "\n",
        "\n",
        "\n",
        "\n",
        "\n"
      ],
      "metadata": {
        "colab": {
          "base_uri": "https://localhost:8080/"
        },
        "id": "PMBJ5NCaDp49",
        "outputId": "f91e376d-d351-4c36-dd3d-bab32ab01d91"
      },
      "execution_count": null,
      "outputs": [
        {
          "output_type": "stream",
          "name": "stdout",
          "text": [
            "1\n",
            "1\n",
            "0\n"
          ]
        }
      ]
    },
    {
      "cell_type": "code",
      "source": [
        "print(100)\n",
        "print('100')"
      ],
      "metadata": {
        "colab": {
          "base_uri": "https://localhost:8080/"
        },
        "id": "ejShD9SYE7SH",
        "outputId": "47412caa-f826-4ce0-e605-126acd25ee3f"
      },
      "execution_count": null,
      "outputs": [
        {
          "output_type": "stream",
          "name": "stdout",
          "text": [
            "100\n",
            "100\n"
          ]
        }
      ]
    },
    {
      "cell_type": "code",
      "source": [
        "a = 100\n",
        "b = '100'\n",
        "print(type(a))\n",
        "print(type(b))\n",
        "\n",
        "print(a)\n",
        "print(b)\n",
        "print(a==b)\n",
        "\n",
        "c = int(b)\n",
        "print(type(c))\n",
        "print(a==c)"
      ],
      "metadata": {
        "colab": {
          "base_uri": "https://localhost:8080/"
        },
        "id": "TI5no7VtFOow",
        "outputId": "beb5cfcd-414f-40e3-e556-99dd2d470f46"
      },
      "execution_count": null,
      "outputs": [
        {
          "output_type": "stream",
          "name": "stdout",
          "text": [
            "<class 'int'>\n",
            "<class 'str'>\n",
            "100\n",
            "100\n",
            "False\n",
            "<class 'int'>\n",
            "True\n"
          ]
        }
      ]
    },
    {
      "cell_type": "code",
      "source": [
        "# 실수 float\n",
        "\n",
        "a = float(1)\n",
        "print (a)\n",
        "\n",
        "b = float(True)\n",
        "print(b)\n",
        "\n",
        "c = float('3.14')\n",
        "print(c)\n",
        "\n",
        "d = float('100')\n",
        "print(d)"
      ],
      "metadata": {
        "colab": {
          "base_uri": "https://localhost:8080/"
        },
        "id": "6vWs6Qx0GXE0",
        "outputId": "1897f03a-fcb5-407d-a378-12d834a749a8"
      },
      "execution_count": null,
      "outputs": [
        {
          "output_type": "stream",
          "name": "stdout",
          "text": [
            "1.0\n",
            "1.0\n",
            "3.14\n"
          ]
        }
      ]
    },
    {
      "cell_type": "code",
      "source": [
        "# bool 논리 True or False\n",
        "\n",
        "a = bool(0)\n",
        "print(a)\n",
        "\n",
        "b = bool()\n",
        "print(b)\n",
        "\n",
        "c = bool([])\n",
        "print(c)\n",
        "\n",
        "d = bool([1])\n",
        "print(d)"
      ],
      "metadata": {
        "colab": {
          "base_uri": "https://localhost:8080/"
        },
        "id": "-2Ulhzg0ae0X",
        "outputId": "155ba8f3-d78e-4e86-980e-bb31af6deda3"
      },
      "execution_count": null,
      "outputs": [
        {
          "output_type": "stream",
          "name": "stdout",
          "text": [
            "False\n",
            "False\n",
            "False\n",
            "True\n"
          ]
        }
      ]
    },
    {
      "cell_type": "code",
      "source": [
        "#############\n",
        "# 문자열\n",
        "############\n",
        "\n",
        "\n",
        "a = '대한민국'\n",
        "a = \"대한민국\"\n",
        "\n",
        "b = str(100)\n",
        "print(b)\n",
        "print(type(b))\n",
        "\n",
        "c = str(True)\n",
        "print(c)\n",
        "print(type(c))\n"
      ],
      "metadata": {
        "colab": {
          "base_uri": "https://localhost:8080/"
        },
        "id": "mmbi0T2ibOl2",
        "outputId": "aad25bfa-49bb-43a8-9012-277c9ece6f0c"
      },
      "execution_count": null,
      "outputs": [
        {
          "output_type": "stream",
          "name": "stdout",
          "text": [
            "100\n",
            "<class 'str'>\n",
            "True\n",
            "<class 'str'>\n"
          ]
        }
      ]
    },
    {
      "cell_type": "code",
      "source": [
        "# 문자열 인덱싱\n",
        "\n",
        "#hello 파이썬은 0에서 시작한다.\n",
        "\n",
        "s = 'Hello'\n",
        "print(s[4])\n",
        "\n",
        "print(s[-1])\n",
        "print(s[-5] == s[0])\n",
        "\n",
        "ss = \"990211-1005432\"\n",
        "print(ss[7])"
      ],
      "metadata": {
        "colab": {
          "base_uri": "https://localhost:8080/"
        },
        "id": "FBdHcTGWb62q",
        "outputId": "5f2dae8a-d635-4156-dec0-8e79c4292c97"
      },
      "execution_count": null,
      "outputs": [
        {
          "output_type": "stream",
          "name": "stdout",
          "text": [
            "o\n",
            "o\n",
            "True\n",
            "1\n"
          ]
        }
      ]
    },
    {
      "cell_type": "code",
      "source": [
        "ss = \"990211-1005432\"\n",
        "print(ss[0:2]) # 0번째부터 2번째 미만까지...[start: stop : step] , 미만 조심!!!\n",
        "print(ss[0:2]) # step은 생략 가능\n",
        "print(ss[0:10:2]) # step은 생략 가능\n"
      ],
      "metadata": {
        "colab": {
          "base_uri": "https://localhost:8080/"
        },
        "id": "YqsVhONEfKX_",
        "outputId": "fe1aebea-1243-4871-b09e-0a98f8aef875"
      },
      "execution_count": null,
      "outputs": [
        {
          "output_type": "stream",
          "name": "stdout",
          "text": [
            "99\n",
            "99\n",
            "901-0\n"
          ]
        }
      ]
    },
    {
      "cell_type": "code",
      "source": [
        "# print\n",
        "\n",
        "print('Hello World')\n"
      ],
      "metadata": {
        "colab": {
          "base_uri": "https://localhost:8080/"
        },
        "id": "jgH34VP1gRaI",
        "outputId": "08901a5b-ebe8-4de0-ca6b-eba80b48ee95"
      },
      "execution_count": null,
      "outputs": [
        {
          "output_type": "stream",
          "name": "stdout",
          "text": [
            "Hello World\n"
          ]
        }
      ]
    },
    {
      "cell_type": "code",
      "source": [
        "print(\"Hello 'World'\")"
      ],
      "metadata": {
        "colab": {
          "base_uri": "https://localhost:8080/"
        },
        "id": "2iZ7jkPshCU0",
        "outputId": "fff73d17-c687-4632-8b22-8f56c24176c8"
      },
      "execution_count": null,
      "outputs": [
        {
          "output_type": "stream",
          "name": "stdout",
          "text": [
            "Hello 'World'\n"
          ]
        }
      ]
    },
    {
      "cell_type": "code",
      "source": [
        "print('Hello \\'World\\'') # \\ 은 무시한다?\n",
        "print(\"Hello \\\"World\\\"\")\n",
        "print('Hello \"World\"') #셋 다 같다\n",
        "\n"
      ],
      "metadata": {
        "colab": {
          "base_uri": "https://localhost:8080/"
        },
        "id": "XEqtGveKhK5l",
        "outputId": "6403deec-50ad-4e2e-b14b-f8587201c310"
      },
      "execution_count": null,
      "outputs": [
        {
          "output_type": "stream",
          "name": "stdout",
          "text": [
            "Hello 'World'\n",
            "Hello \"World\"\n",
            "Hello \"World\"\n"
          ]
        }
      ]
    },
    {
      "cell_type": "code",
      "source": [
        "print('hello\\n \"World\"') # \\n 은 줄바꿈"
      ],
      "metadata": {
        "colab": {
          "base_uri": "https://localhost:8080/"
        },
        "id": "y9wiwkJDiFwf",
        "outputId": "658df022-cb4e-4dce-8827-7319c31deed9"
      },
      "execution_count": null,
      "outputs": [
        {
          "output_type": "stream",
          "name": "stdout",
          "text": [
            "hello\n",
            " \"World\"\n"
          ]
        }
      ]
    },
    {
      "cell_type": "code",
      "source": [
        "print(\"이름 \\n전화\")"
      ],
      "metadata": {
        "colab": {
          "base_uri": "https://localhost:8080/"
        },
        "id": "NQBE8rS4iYzs",
        "outputId": "a89b8f77-25cb-4445-c817-85dc25087e2d"
      },
      "execution_count": null,
      "outputs": [
        {
          "output_type": "stream",
          "name": "stdout",
          "text": [
            "이름 \n",
            "전화\n"
          ]
        }
      ]
    },
    {
      "cell_type": "code",
      "source": [
        "print('이름\\t연락처') # \\t는 탭 (공간을 띄워줌)\n",
        "print('홍길동\\t010-2020-2903')"
      ],
      "metadata": {
        "colab": {
          "base_uri": "https://localhost:8080/"
        },
        "id": "_wioxD2uisL3",
        "outputId": "57ff09d1-d6a5-4ea7-db01-c879f8eaf7ed"
      },
      "execution_count": null,
      "outputs": [
        {
          "output_type": "stream",
          "name": "stdout",
          "text": [
            "이름\t연락처\n",
            "홍길동\t010-2020-2903\n"
          ]
        }
      ]
    },
    {
      "cell_type": "code",
      "source": [
        "print('재미있는', '파이썬')"
      ],
      "metadata": {
        "colab": {
          "base_uri": "https://localhost:8080/"
        },
        "id": "nV38TOjgjJ7b",
        "outputId": "e06ec16d-db0b-4560-b344-5edc0b378c52"
      },
      "execution_count": null,
      "outputs": [
        {
          "output_type": "stream",
          "name": "stdout",
          "text": [
            "재미있는 파이썬\n"
          ]
        }
      ]
    },
    {
      "cell_type": "code",
      "source": [
        "print('평점')\n",
        "print('5점')"
      ],
      "metadata": {
        "colab": {
          "base_uri": "https://localhost:8080/"
        },
        "id": "xwcd-eopjdWH",
        "outputId": "cbeb5825-ec78-41ac-a5b8-3089d9a3e601"
      },
      "execution_count": null,
      "outputs": [
        {
          "output_type": "stream",
          "name": "stdout",
          "text": [
            "평점\n",
            "5점\n"
          ]
        }
      ]
    },
    {
      "cell_type": "code",
      "source": [
        "print('평점', end=':') # end=':'는 밑으로 가지말고 옆에다가 붙여라 라는 뜻이다\n",
        "print('5점')"
      ],
      "metadata": {
        "colab": {
          "base_uri": "https://localhost:8080/"
        },
        "id": "9sWLfLsrjv9o",
        "outputId": "4d4d6bef-d7d9-4eca-8b39-a717ae15244e"
      },
      "execution_count": null,
      "outputs": [
        {
          "output_type": "stream",
          "name": "stdout",
          "text": [
            "평점:5점\n"
          ]
        }
      ]
    },
    {
      "cell_type": "code",
      "source": [
        "print('국어', '영어', '수학')\n",
        "print('국어', '영어', '수학', sep = '/') # sep ='/' 는 사이에 /\n",
        "print('국어', '영어', '수학', sep = ',') # sep = ','는 사이에 ,\n",
        "print('국어', '영어', '수학', sep = '\\n') # sep = '\\n'은 줄바꿈\n",
        "print('\\n국어\\n영어\\n수학')\n"
      ],
      "metadata": {
        "colab": {
          "base_uri": "https://localhost:8080/"
        },
        "id": "20RPBofwkHpA",
        "outputId": "7ee748d4-b61e-439f-8c3b-f97dba247e7a"
      },
      "execution_count": null,
      "outputs": [
        {
          "output_type": "stream",
          "name": "stdout",
          "text": [
            "국어 영어 수학\n",
            "국어/영어/수학\n",
            "국어,영어,수학\n",
            "국어\n",
            "영어\n",
            "수학\n",
            "\n",
            "국어\n",
            "영어\n",
            "수학\n"
          ]
        }
      ]
    },
    {
      "cell_type": "code",
      "source": [
        "# %연산자\n",
        "\n",
        "print(10)\n",
        "print('%d' % 10)    # %d decimal 정수\n",
        "print('%f' % 3.14)   # %f float 실수\n",
        "print('%s' % '학생')   # %s string 문자열\n",
        "\n",
        "print('%d 을 입력하세요' % 10)    # %d decimal 정수\n",
        "print('원주율은 %f 입니다.' % 3.14)   # %f float 실수\n",
        "print('원주율은 %s 입니다.' % 3.14)\n",
        "\n",
        "std = \"대학생\"\n",
        "print('저는 %s 입니다'  %std)   # %s string 문자열\n",
        "print('저는', std, '입니다.')"
      ],
      "metadata": {
        "colab": {
          "base_uri": "https://localhost:8080/"
        },
        "id": "5epgfspyqSJX",
        "outputId": "4f5198f0-79bb-406e-b01e-fe7ba55ad940"
      },
      "execution_count": null,
      "outputs": [
        {
          "output_type": "stream",
          "name": "stdout",
          "text": [
            "10\n",
            "10\n",
            "3.140000\n",
            "학생\n",
            "10 을 입력하세요\n",
            "원주율은 3.140000 입니다.\n",
            "원주율은 3.14 입니다.\n",
            "저는 대학생 입니다\n",
            "저는 대학생 입니다.\n"
          ]
        }
      ]
    },
    {
      "cell_type": "code",
      "source": [
        "print(\"%d\" % 1)\n",
        "print(\"%5d\" % 1) # %와 d 사이에 숫자 넣으면 그 숫자만큼 칸이 띄워진다\n",
        "print(\"%-5d\" % 1)\n",
        "print(\"%5d\" % 11)\n",
        "print(\"%-5d\" % 11)"
      ],
      "metadata": {
        "colab": {
          "base_uri": "https://localhost:8080/"
        },
        "id": "1I6TXI3crSbG",
        "outputId": "9e736d18-4361-4008-8544-c1597c5041f7"
      },
      "execution_count": null,
      "outputs": [
        {
          "output_type": "stream",
          "name": "stdout",
          "text": [
            "1\n",
            "    1\n",
            "1    \n",
            "   11\n",
            "11   \n"
          ]
        }
      ]
    },
    {
      "cell_type": "code",
      "source": [
        "print('원주율은 %f 입니다.' % 3.14)\n",
        "print('원주율은 %5.2f 입니다.' % 3.14) # 5는 5자리를 확보하고 2는 소숫점2자리까지 나온다\n",
        "print('원주율은 %-5.1f 입니다.' % 3.14)\n",
        "print('원주율은 %.2f 입니다.' % 3.14)\n"
      ],
      "metadata": {
        "colab": {
          "base_uri": "https://localhost:8080/"
        },
        "id": "aW6gwZLzuH0X",
        "outputId": "634e42d4-9d0c-42ec-9b54-9f7b0bdd38f9"
      },
      "execution_count": null,
      "outputs": [
        {
          "output_type": "stream",
          "name": "stdout",
          "text": [
            "원주율은 3.140000 입니다.\n",
            "원주율은  3.14 입니다.\n",
            "원주율은 3.1   입니다.\n",
            "원주율은 3.14 입니다.\n"
          ]
        }
      ]
    },
    {
      "cell_type": "code",
      "source": [
        "name = 'kai'\n",
        "print('내 이름은 %s입니다.' % name)"
      ],
      "metadata": {
        "colab": {
          "base_uri": "https://localhost:8080/"
        },
        "id": "H_CqAImfvQLd",
        "outputId": "3ac1fcde-3e53-4d56-ee3e-ad6fe235fe86"
      },
      "execution_count": null,
      "outputs": [
        {
          "output_type": "stream",
          "name": "stdout",
          "text": [
            "내 이름은 kai입니다.\n"
          ]
        }
      ]
    },
    {
      "cell_type": "code",
      "source": [
        "height = 185.5\n",
        "print('내 키는 %f입니다.' % height)\n",
        "print('내 키는 %.1f입니다.' % height)\n",
        "print('내 키는 %s입니다.' % height)\n",
        "print('내 키는 %s이고 이름은 %s입니다.' % (height, name))"
      ],
      "metadata": {
        "colab": {
          "base_uri": "https://localhost:8080/"
        },
        "id": "LL2hTks9vahS",
        "outputId": "ca565424-230a-4457-c956-c97484b55277"
      },
      "execution_count": null,
      "outputs": [
        {
          "output_type": "stream",
          "name": "stdout",
          "text": [
            "내 키는 185.500000입니다.\n",
            "내 키는 185.5입니다.\n",
            "내 키는 185.5입니다.\n",
            "내 키는 185.5이고 이름은 kai입니다.\n"
          ]
        }
      ]
    },
    {
      "cell_type": "code",
      "source": [
        "# format()\n",
        "\n",
        "zipcode = '06236'\n",
        "print('우편번호 : %s' % zipcode)\n",
        "print('우편번호 : {}'. format(zipcode))\n",
        "print('내 키는 {}이고 이름은 {}입니다.' .format(height, name))"
      ],
      "metadata": {
        "colab": {
          "base_uri": "https://localhost:8080/"
        },
        "id": "bxVWIbVuv478",
        "outputId": "402d140f-0931-4f1f-d9ed-f46e4a641f43"
      },
      "execution_count": null,
      "outputs": [
        {
          "output_type": "stream",
          "name": "stdout",
          "text": [
            "우편번호 : 06236\n",
            "우편번호 : 06236\n",
            "내 키는 185.5이고 이름은 kai입니다.\n"
          ]
        }
      ]
    },
    {
      "cell_type": "code",
      "source": [
        "print('My name is {}. I\\'m {} years old.' . format('James', 25))\n",
        "print('My name is {1}. I\\'m {0} years old.' . format(25, 'James'))\n",
        "print('My name is {name}. I\\'m {age} years old.' . format(age=25, name='James'))"
      ],
      "metadata": {
        "colab": {
          "base_uri": "https://localhost:8080/"
        },
        "id": "bDp-vU1y19dC",
        "outputId": "bd328c93-bf2e-4fdf-9cb2-0258e64fb40d"
      },
      "execution_count": null,
      "outputs": [
        {
          "output_type": "stream",
          "name": "stdout",
          "text": [
            "My name is James. I'm 25 years old.\n",
            "My name is James. I'm 25 years old.\n",
            "My name is James. I'm 25 years old.\n"
          ]
        }
      ]
    },
    {
      "cell_type": "code",
      "source": [
        "# f-strings\n",
        "# 파이썬 3.6 이후 부터 사용 가능\n",
        "\n",
        "who = 'you'\n",
        "how = 'happy'\n",
        "print(f'{who} make me {how}')"
      ],
      "metadata": {
        "colab": {
          "base_uri": "https://localhost:8080/"
        },
        "id": "fgdJbMYt20xJ",
        "outputId": "f0947f3e-2d88-4218-dc18-dc6ddaa76f59"
      },
      "execution_count": null,
      "outputs": [
        {
          "output_type": "stream",
          "name": "stdout",
          "text": [
            "you make me happy\n"
          ]
        }
      ]
    },
    {
      "cell_type": "code",
      "source": [
        "age = 25\n",
        "print(f'내년에는 {age+1} 입니다.')"
      ],
      "metadata": {
        "colab": {
          "base_uri": "https://localhost:8080/"
        },
        "id": "h8DWq4AX3wL4",
        "outputId": "86cf9ca8-efaf-4e82-a4c3-350225e0e005"
      },
      "execution_count": null,
      "outputs": [
        {
          "output_type": "stream",
          "name": "stdout",
          "text": [
            "내년에는 26 입니다\n"
          ]
        }
      ]
    },
    {
      "cell_type": "code",
      "source": [
        "#######################\n",
        "# 입력 input()\n",
        "#######################\n",
        "\n",
        "n = input())\n",
        "print(f'당신이 입력한 내용은 {n}입니다.')  # 아래것보다 옆에것이 훨씬 편하다\n",
        "print('당신이 입력한 내용은', n , '입니다.')"
      ],
      "metadata": {
        "colab": {
          "base_uri": "https://localhost:8080/"
        },
        "id": "_bgmGJ994eSg",
        "outputId": "9031004a-b74f-4728-c051-3d650e7d5303"
      },
      "execution_count": null,
      "outputs": [
        {
          "output_type": "stream",
          "name": "stdout",
          "text": [
            "연습\n",
            "당신이 입력한 내용은 연습입니다.\n",
            "당신이 입력한 내용은 연습 입니다.\n"
          ]
        }
      ]
    },
    {
      "cell_type": "code",
      "source": [
        "n = input('당신의 나이를 입력하세요  ')\n",
        "print(f'당신이 입력한 내용은 {n} 입니다.')  # 아래것보다 옆에것이 훨씬 편하다\n",
        "print('당신이 입력한 내용은', n , '입니다.')"
      ],
      "metadata": {
        "colab": {
          "base_uri": "https://localhost:8080/"
        },
        "id": "w08xvuPW5Pzd",
        "outputId": "574f1f6c-dd7c-47db-eb4d-74548cfb5cd2"
      },
      "execution_count": null,
      "outputs": [
        {
          "output_type": "stream",
          "name": "stdout",
          "text": [
            "당신의 나이를 입력하세요  20\n",
            "당신이 입력한 내용은 20입니다.\n",
            "당신이 입력한 내용은 20 입니다.\n"
          ]
        }
      ]
    },
    {
      "cell_type": "code",
      "source": [
        "print(이름을 입력하세요?)\n",
        "print(나이를 입력하세요?)\n",
        "print(f'당신의 이름은 {name} 이고 나이는 {age} 입니다.')"
      ],
      "metadata": {
        "colab": {
          "base_uri": "https://localhost:8080/",
          "height": 137
        },
        "id": "tjVs7rf15lZG",
        "outputId": "c501670f-83e9-4551-c369-eb3713ca64a4"
      },
      "execution_count": null,
      "outputs": [
        {
          "output_type": "error",
          "ename": "SyntaxError",
          "evalue": "ignored",
          "traceback": [
            "\u001b[0;36m  File \u001b[0;32m\"<ipython-input-91-2113b885fbfd>\"\u001b[0;36m, line \u001b[0;32m1\u001b[0m\n\u001b[0;31m    print(이름을 입력하세요?)\u001b[0m\n\u001b[0m                  ^\u001b[0m\n\u001b[0;31mSyntaxError\u001b[0m\u001b[0;31m:\u001b[0m invalid syntax\n"
          ]
        }
      ]
    },
    {
      "cell_type": "code",
      "source": [
        "name = input('당신의 이름을 입력하세요')\n",
        "age = int(input('당신의 나이를 입력하세요')) #input으로 들어가는 모든 것은 string이다\n",
        "\n",
        "# 1 기본\n",
        "print('당신의 이름은', name, '이고 나이는' , age , '입니다.')\n",
        "\n",
        "# 2 f-string\n",
        "print(f'당신의 이름은 {name} 이고 나이는 {age} 입니다.')\n",
        "\n",
        "# 3 format()\n",
        "print('당신의 이름은 {} 이고 나이는 {} 입니다.' .format(name, age))\n",
        "\n",
        "# 4 % 연산자\n",
        "print('당신의 이름은 %s 이고 나이는 %d 입니다.' % (name, age))\n",
        "\n",
        "\n",
        "print(name, type(name))\n",
        "print(age, type(age))\n"
      ],
      "metadata": {
        "colab": {
          "base_uri": "https://localhost:8080/"
        },
        "id": "ddo5DOiy61xa",
        "outputId": "1392b291-249f-44e1-8c35-41692474118d"
      },
      "execution_count": null,
      "outputs": [
        {
          "output_type": "stream",
          "name": "stdout",
          "text": [
            "당신의 이름을 입력하세요홍길동\n",
            "당신의 나이를 입력하세요20\n",
            "당신의 이름은 홍길동 이고 나이는 20 입니다.\n",
            "당신의 이름은 홍길동 이고 나이는 20 입니다.\n",
            "당신의 이름은 홍길동 이고 나이는 20 입니다.\n",
            "당신의 이름은 홍길동 이고 나이는 20 입니다.\n",
            "홍길동 <class 'str'>\n",
            "20 <class 'int'>\n"
          ]
        }
      ]
    },
    {
      "cell_type": "code",
      "source": [
        "month = int(input('할부 개월 입력 : '))\n",
        "sum = int(input('물건 가격 : '))\n",
        "monthly = sum/month\n",
        "\n",
        "# 1 기본\n",
        "\n",
        "print(month,'개월 동안 매달 내는 금액은' ,monthly,'입니다.')\n",
        "# 2 f-strings \n",
        "print(f'{month}개월 동안 매달 내는 금액은 {monthly} 입니다.')\n",
        "\n",
        "#3 format()\n",
        "print('{}개월 동안 매달 내는 금액은 {} 입니다.'. format(month, monthly))\n",
        "\n",
        "#4 % 연산자\n",
        "print('%d개월 동안 매달 내는 금액은 %f 입니다' % (month, monthly))"
      ],
      "metadata": {
        "colab": {
          "base_uri": "https://localhost:8080/"
        },
        "id": "6fLw2bKG-EaA",
        "outputId": "76b751f3-9fdc-49bd-afa7-6b9ef71b1288"
      },
      "execution_count": null,
      "outputs": [
        {
          "output_type": "stream",
          "name": "stdout",
          "text": [
            "할부 개월 입력 : 5\n",
            "물건 가격 : 50000\n",
            "5 개월 동안 매달 내는 금액은 10000.0 입니다.\n",
            "5개월 동안 매달 내는 금액은 10000.0 입니다.\n",
            "5개월 동안 매달 내는 금액은 10000.0 입니다.\n",
            "5개월 동안 매달 내는 금액은 10000.000000 입니다\n"
          ]
        }
      ]
    },
    {
      "cell_type": "code",
      "source": [
        "num1 = float\n",
        "num2 = float\n",
        "sum = num1 + num2\n",
        "\n",
        "\n",
        "# 1 기본\n",
        "print(num1과 num2의 합계는 sum 입니다.)\n",
        "\n",
        "# 2 f-strings \n",
        "print(num1과 num2의 합계는 sum 입니다.)\n",
        "\n",
        "#3 format()\n",
        "print('{}개월 동안 매달 내는 금액은 {} 입니다.'. format(month, monthly))\n",
        "\n",
        "#4 % 연산자\n",
        "print('%d개월 동안 매달 내는 금액은 %f 입니다' % (month, monthly))"
      ],
      "metadata": {
        "id": "GJJrI_v8FUk8"
      },
      "execution_count": null,
      "outputs": []
    }
  ]
}