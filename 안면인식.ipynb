{
  "nbformat": 4,
  "nbformat_minor": 0,
  "metadata": {
    "colab": {
      "name": "안면인식.ipynb",
      "provenance": [],
      "authorship_tag": "ABX9TyPel9RbhHSDpAjhuVY8eXtx",
      "include_colab_link": true
    },
    "kernelspec": {
      "name": "python3",
      "display_name": "Python 3"
    },
    "language_info": {
      "name": "python"
    }
  },
  "cells": [
    {
      "cell_type": "markdown",
      "metadata": {
        "id": "view-in-github",
        "colab_type": "text"
      },
      "source": [
        "<a href=\"https://colab.research.google.com/github/32KimJunGu/ai/blob/main/%EC%95%88%EB%A9%B4%EC%9D%B8%EC%8B%9D.ipynb\" target=\"_parent\"><img src=\"https://colab.research.google.com/assets/colab-badge.svg\" alt=\"Open In Colab\"/></a>"
      ]
    },
    {
      "cell_type": "code",
      "execution_count": 11,
      "metadata": {
        "colab": {
          "base_uri": "https://localhost:8080/"
        },
        "id": "hU4rFHd9toLG",
        "outputId": "5d64f978-cc49-4e65-fb43-b062205fd249"
      },
      "outputs": [
        {
          "output_type": "stream",
          "name": "stdout",
          "text": [
            "{\"info\":{\"size\":{\"width\":828,\"height\":828},\"faceCount\":1},\"faces\":[{\"celebrity\":{\"value\":\"박해일\",\"confidence\":0.293332}}]}\n"
          ]
        }
      ],
      "source": [
        "# Client ID       : nThYrGq_tF1lnC6k6KkX\n",
        "\n",
        "# Client Secret   : e11YI35A5G\n",
        "\n",
        "\n",
        "import os         # 운영체제 접근\n",
        "import sys        # 시스템 접근\n",
        "import requests # 웹 접근\n",
        "\n",
        "client_id = \"nThYrGq_tF1lnC6k6KkX\"\n",
        "client_secret = \"e11YI35A5G\"\n",
        "\n",
        "\n",
        "url = \"https://openapi.naver.com/v1/vision/face\"    #얼굴감지\n",
        "url = \"https://openapi.naver.com/v1/vision/celebrity\" # 유명인 얼굴인식\n",
        "\n",
        "\n",
        "files = {'image': open('/content/image.jpg', 'rb')} # 사진 파일이름\n",
        "\n",
        "headers = {'X-Naver-Client-Id': client_id, 'X-Naver-Client-Secret': client_secret }\n",
        "response = requests.post(url,  files=files, headers=headers)\n",
        "\n",
        "rescode = response.status_code\n",
        "if(rescode==200):\n",
        "    print (response.text)\n",
        "else:\n",
        "    print(\"Error Code:\" + rescode)"
      ]
    },
    {
      "cell_type": "code",
      "source": [
        "import json\n",
        "\n",
        "parsed = json.loads(response.text)\n",
        "\n",
        "type(parsed)"
      ],
      "metadata": {
        "colab": {
          "base_uri": "https://localhost:8080/"
        },
        "id": "aNTGObu19BnV",
        "outputId": "bd6e775f-7d1a-47c2-df60-f0821f163429"
      },
      "execution_count": 2,
      "outputs": [
        {
          "output_type": "execute_result",
          "data": {
            "text/plain": [
              "dict"
            ]
          },
          "metadata": {},
          "execution_count": 2
        }
      ]
    },
    {
      "cell_type": "code",
      "source": [
        "print(parsed)"
      ],
      "metadata": {
        "colab": {
          "base_uri": "https://localhost:8080/"
        },
        "id": "ukONjlWn9f8r",
        "outputId": "02330d05-c8ab-4614-f441-2a08099f9f7d"
      },
      "execution_count": 3,
      "outputs": [
        {
          "output_type": "stream",
          "name": "stdout",
          "text": [
            "{'info': {'size': {'width': 828, 'height': 828}, 'faceCount': 1}, 'faces': [{'roi': {'x': 126, 'y': 445, 'width': 382, 'height': 382}, 'landmark': None, 'gender': {'value': 'male', 'confidence': 0.997991}, 'age': {'value': '35~39', 'confidence': 0.0484914}, 'emotion': {'value': 'neutral', 'confidence': 0.999962}, 'pose': {'value': 'left_face', 'confidence': 0.393579}}]}\n"
          ]
        }
      ]
    },
    {
      "cell_type": "code",
      "source": [
        "print(json.dumps(parsed, indent= 4))"
      ],
      "metadata": {
        "colab": {
          "base_uri": "https://localhost:8080/"
        },
        "id": "4P0b1sEmDB2v",
        "outputId": "a8fe1ec6-3b4e-4e8a-9e55-522f75036edc"
      },
      "execution_count": 4,
      "outputs": [
        {
          "output_type": "stream",
          "name": "stdout",
          "text": [
            "{\n",
            "    \"info\": {\n",
            "        \"size\": {\n",
            "            \"width\": 828,\n",
            "            \"height\": 828\n",
            "        },\n",
            "        \"faceCount\": 1\n",
            "    },\n",
            "    \"faces\": [\n",
            "        {\n",
            "            \"roi\": {\n",
            "                \"x\": 126,\n",
            "                \"y\": 445,\n",
            "                \"width\": 382,\n",
            "                \"height\": 382\n",
            "            },\n",
            "            \"landmark\": null,\n",
            "            \"gender\": {\n",
            "                \"value\": \"male\",\n",
            "                \"confidence\": 0.997991\n",
            "            },\n",
            "            \"age\": {\n",
            "                \"value\": \"35~39\",\n",
            "                \"confidence\": 0.0484914\n",
            "            },\n",
            "            \"emotion\": {\n",
            "                \"value\": \"neutral\",\n",
            "                \"confidence\": 0.999962\n",
            "            },\n",
            "            \"pose\": {\n",
            "                \"value\": \"left_face\",\n",
            "                \"confidence\": 0.393579\n",
            "            }\n",
            "        }\n",
            "    ]\n",
            "}\n"
          ]
        }
      ]
    },
    {
      "cell_type": "code",
      "source": [
        "parsed.keys()"
      ],
      "metadata": {
        "colab": {
          "base_uri": "https://localhost:8080/"
        },
        "id": "XKfPj36fFiR3",
        "outputId": "19d2ecdc-871e-4529-ad04-b6955abea1d7"
      },
      "execution_count": 5,
      "outputs": [
        {
          "output_type": "execute_result",
          "data": {
            "text/plain": [
              "dict_keys(['info', 'faces'])"
            ]
          },
          "metadata": {},
          "execution_count": 5
        }
      ]
    },
    {
      "cell_type": "code",
      "source": [
        "print(parsed['info'])"
      ],
      "metadata": {
        "colab": {
          "base_uri": "https://localhost:8080/"
        },
        "id": "KDMIxrJVFjLN",
        "outputId": "a3a7035a-0175-4672-944f-f2f4e9c40d41"
      },
      "execution_count": 6,
      "outputs": [
        {
          "output_type": "stream",
          "name": "stdout",
          "text": [
            "{'size': {'width': 828, 'height': 828}, 'faceCount': 1}\n"
          ]
        }
      ]
    },
    {
      "cell_type": "code",
      "source": [
        "print(parsed['faces'])"
      ],
      "metadata": {
        "colab": {
          "base_uri": "https://localhost:8080/"
        },
        "id": "jKpowMbgFj7J",
        "outputId": "a0fbb90e-58fe-462a-d33c-83006bb1f12f"
      },
      "execution_count": 7,
      "outputs": [
        {
          "output_type": "stream",
          "name": "stdout",
          "text": [
            "[{'roi': {'x': 126, 'y': 445, 'width': 382, 'height': 382}, 'landmark': None, 'gender': {'value': 'male', 'confidence': 0.997991}, 'age': {'value': '35~39', 'confidence': 0.0484914}, 'emotion': {'value': 'neutral', 'confidence': 0.999962}, 'pose': {'value': 'left_face', 'confidence': 0.393579}}]\n"
          ]
        }
      ]
    },
    {
      "cell_type": "code",
      "source": [
        "parsed['faces'][4]"
      ],
      "metadata": {
        "id": "rmpDeRwfFkma"
      },
      "execution_count": null,
      "outputs": []
    },
    {
      "cell_type": "code",
      "source": [
        "import matplotlib.pyplot as plt          # 사진(그림) 관련 기본 모듈\n",
        "import matplotlib.image as mpimg     # 사진 읽어오는 모듈\n",
        "import matplotlib.patches as patches  # 사진 수정 관련 모듈\n",
        "\n",
        "img = mpimg.imread('image3.jpg')     # 사진 읽어오기\n",
        "fig, ax = plt.subplots()                      # 사진을 표시할 액자틀과 사진틀 설정\n",
        "ax.imshow(img)                               # 사진틀에 사진 삽입 \n",
        "\n",
        "x,y,w,h = parsed['faces'][4]['roi'].values() # 인식한 얼굴의 roi 위치정보를 변수로 할당\n",
        "\n",
        "re_face = patches.Rectangle((x,y),w,h, facecolor='none', edgecolor='r')  # 그 위치에 사각형을 표시 정보\n",
        "\n",
        "ax.add_patch(re_face)                         # 기본 사진에 사각형 정보를 올려 수정"
      ],
      "metadata": {
        "id": "NieUk2s-FmTJ"
      },
      "execution_count": null,
      "outputs": []
    }
  ]
}