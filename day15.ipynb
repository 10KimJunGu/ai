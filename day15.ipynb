{
  "nbformat": 4,
  "nbformat_minor": 0,
  "metadata": {
    "colab": {
      "name": "day15.ipynb",
      "provenance": [],
      "authorship_tag": "ABX9TyMlsRrRKnSgTY/xvdhrkNcZ",
      "include_colab_link": true
    },
    "kernelspec": {
      "name": "python3",
      "display_name": "Python 3"
    },
    "language_info": {
      "name": "python"
    }
  },
  "cells": [
    {
      "cell_type": "markdown",
      "metadata": {
        "id": "view-in-github",
        "colab_type": "text"
      },
      "source": [
        "<a href=\"https://colab.research.google.com/github/10KimJunGu/ai/blob/main/day15.ipynb\" target=\"_parent\"><img src=\"https://colab.research.google.com/assets/colab-badge.svg\" alt=\"Open In Colab\"/></a>"
      ]
    },
    {
      "cell_type": "code",
      "execution_count": 2,
      "metadata": {
        "colab": {
          "base_uri": "https://localhost:8080/"
        },
        "id": "yo0Qg4wUDrui",
        "outputId": "37efa528-ac21-4c55-fbca-183a8af1e6c3"
      },
      "outputs": [
        {
          "output_type": "stream",
          "name": "stdout",
          "text": [
            "무한도전\n",
            "9시 뉴스\n",
            "7시 뉴스\n",
            "러닝맨\n",
            "Enter another TV show : 유퀴즈\n",
            "Enter a number between 0 and 3 :2\n",
            "무한도전\n",
            "9시 뉴스\n",
            "유퀴즈\n",
            "7시 뉴스\n",
            "러닝맨\n"
          ]
        }
      ],
      "source": [
        "# Create a list containing the titles of four TV programmes and display them on separate lilnes.\n",
        "# Ask the user to enter another show and a position they want it inserted into the list\n",
        "# Display the list again, showing all five TV programmes in their new positions.\n",
        "\n",
        "# (input) Enter another TV show :\n",
        "# (input) Enter a number between 0 and 3: \n",
        "\n",
        "# 4개의 TV프로그램의 이름을 포함하는 리스트를 생성하고 각각의 줄에 표시하시오.\n",
        "# 사용자에게 다른 프로그램과 삽입할 위치를 물어보고 리스트에 추가하시오.\n",
        "# 모든 5개의 프로그램을 새로운 위치로 다시 목록을 표시하시오.\n",
        "\n",
        "tv = ['무한도전','9시 뉴스','7시 뉴스','러닝맨']\n",
        "for i in tv:\n",
        "  print(i)\n",
        "name = input('Enter another TV show : ')\n",
        "idx = int(input('Enter a number between 0 and 3 :'))\n",
        "\n",
        "tv.insert(idx, name)\n",
        "\n",
        "for i in tv:\n",
        "  print(i)\n"
      ]
    }
  ]
}