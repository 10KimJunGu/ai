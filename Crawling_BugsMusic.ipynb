{
  "nbformat": 4,
  "nbformat_minor": 0,
  "metadata": {
    "colab": {
      "name": "Crawling_BugsMusic.ipynb",
      "provenance": [],
      "authorship_tag": "ABX9TyMgMIWJUkCwUO5+UghXxY9i",
      "include_colab_link": true
    },
    "kernelspec": {
      "name": "python3",
      "display_name": "Python 3"
    },
    "language_info": {
      "name": "python"
    }
  },
  "cells": [
    {
      "cell_type": "markdown",
      "metadata": {
        "id": "view-in-github",
        "colab_type": "text"
      },
      "source": [
        "<a href=\"https://colab.research.google.com/github/32KimJunGu/ai/blob/main/Crawling_BugsMusic.ipynb\" target=\"_parent\"><img src=\"https://colab.research.google.com/assets/colab-badge.svg\" alt=\"Open In Colab\"/></a>"
      ]
    },
    {
      "cell_type": "code",
      "execution_count": 1,
      "metadata": {
        "id": "XIYRklgKrBTa"
      },
      "outputs": [],
      "source": [
        "# pip install requests\n",
        "import requests  # 웹 페이지 연결 모듈\n"
      ]
    },
    {
      "cell_type": "code",
      "source": [
        "# pip install bs4\n",
        "from bs4 import BeautifulSoup as bs  # 읽어온 웹페이지를 분석하기 쉽게 정제 모듈     # 필수다 필수!!!\n"
      ],
      "metadata": {
        "id": "ss0q45ERvrd2"
      },
      "execution_count": 2,
      "outputs": []
    },
    {
      "cell_type": "code",
      "source": [
        "import pandas # 데이터 분석 모듈\n"
      ],
      "metadata": {
        "id": "H8XgfWruwHoc"
      },
      "execution_count": 3,
      "outputs": []
    },
    {
      "cell_type": "code",
      "source": [
        "html = requests.get('https://music.bugs.co.kr/chart')     # 웹 페이지 코드 읽어오기\n",
        "# html = requests.get('https://www.genie.co.kr/chart/top200')\n",
        "print(html.text)"
      ],
      "metadata": {
        "id": "NIV-Q3gkwQDY"
      },
      "execution_count": null,
      "outputs": []
    },
    {
      "cell_type": "code",
      "source": [
        "soup = bs(html.text)  # BeautifulSoup 을 통해 데이터를 분석하기 용이하게 정제한다.\n",
        "print(soup)"
      ],
      "metadata": {
        "id": "hnmlkhaixwDk"
      },
      "execution_count": null,
      "outputs": []
    },
    {
      "cell_type": "code",
      "source": [
        "len(soup.select('tr'))   # tr태그가 붙은 부분들을 모두 추출"
      ],
      "metadata": {
        "colab": {
          "base_uri": "https://localhost:8080/"
        },
        "id": "HY7oI9IGz-oH",
        "outputId": "eb31b33b-cbbd-4252-ebb2-8e37fb05f295"
      },
      "execution_count": 6,
      "outputs": [
        {
          "output_type": "execute_result",
          "data": {
            "text/plain": [
              "104"
            ]
          },
          "metadata": {},
          "execution_count": 6
        }
      ]
    },
    {
      "cell_type": "code",
      "source": [
        "len(soup.select('tbody > tr'))      # 원하는 100개가 아니므로 범위를 축소"
      ],
      "metadata": {
        "colab": {
          "base_uri": "https://localhost:8080/"
        },
        "id": "nAwgCB7x0YPX",
        "outputId": "18b8f73c-a70f-4829-aef7-4af596356251"
      },
      "execution_count": 7,
      "outputs": [
        {
          "output_type": "execute_result",
          "data": {
            "text/plain": [
              "103"
            ]
          },
          "metadata": {},
          "execution_count": 7
        }
      ]
    },
    {
      "cell_type": "code",
      "source": [
        "len(soup.select('table.byChart > tbody > tr'))     # 원하는 100개가 아니므로 범위를 축소  ->  최종 100 추출 완료"
      ],
      "metadata": {
        "colab": {
          "base_uri": "https://localhost:8080/"
        },
        "id": "5d-LZMkw0ud9",
        "outputId": "b10bfe11-e4a6-462f-fe22-2c6db48ddbf1"
      },
      "execution_count": 8,
      "outputs": [
        {
          "output_type": "execute_result",
          "data": {
            "text/plain": [
              "100"
            ]
          },
          "metadata": {},
          "execution_count": 8
        }
      ]
    },
    {
      "cell_type": "code",
      "source": [
        "songs = soup.select('table.byChart > tbody > tr')    #  ->  최종 100 추출 완료\n",
        "songs[0]"
      ],
      "metadata": {
        "id": "4F9GmeIb1XTu"
      },
      "execution_count": null,
      "outputs": []
    },
    {
      "cell_type": "code",
      "source": [
        "len(songs[0].select('p > a'))"
      ],
      "metadata": {
        "colab": {
          "base_uri": "https://localhost:8080/"
        },
        "id": "2Asrgd4v6KBT",
        "outputId": "f0e1f085-fd33-455d-f41e-1a04ec01ab44"
      },
      "execution_count": 10,
      "outputs": [
        {
          "output_type": "execute_result",
          "data": {
            "text/plain": [
              "2"
            ]
          },
          "metadata": {},
          "execution_count": 10
        }
      ]
    },
    {
      "cell_type": "code",
      "source": [
        "len(songs[0].select('p.artist > a'))        # 점. 은 클래스를 나타냄. 위치를 얘기한다."
      ],
      "metadata": {
        "colab": {
          "base_uri": "https://localhost:8080/"
        },
        "id": "DnjCOETE746E",
        "outputId": "79806d4a-38a3-4a7a-d233-306b93eadea0"
      },
      "execution_count": 11,
      "outputs": [
        {
          "output_type": "execute_result",
          "data": {
            "text/plain": [
              "1"
            ]
          },
          "metadata": {},
          "execution_count": 11
        }
      ]
    },
    {
      "cell_type": "code",
      "source": [
        "singer = songs[0].select('p.artist > a')[0].text\n",
        "singer"
      ],
      "metadata": {
        "colab": {
          "base_uri": "https://localhost:8080/",
          "height": 35
        },
        "id": "xAplNZI18Kgz",
        "outputId": "310d0e39-77bc-4491-9ca7-e0693ebafaa7"
      },
      "execution_count": 12,
      "outputs": [
        {
          "output_type": "execute_result",
          "data": {
            "application/vnd.google.colaboratory.intrinsic+json": {
              "type": "string"
            },
            "text/plain": [
              "'태연 (TAEYEON)'"
            ]
          },
          "metadata": {},
          "execution_count": 12
        }
      ]
    },
    {
      "cell_type": "code",
      "source": [
        "len(songs[0].select('p.title > a'))"
      ],
      "metadata": {
        "colab": {
          "base_uri": "https://localhost:8080/"
        },
        "id": "rNEqJwY6-z_g",
        "outputId": "9a5e9b22-ab77-41bb-bcde-1466768fa10e"
      },
      "execution_count": 13,
      "outputs": [
        {
          "output_type": "execute_result",
          "data": {
            "text/plain": [
              "1"
            ]
          },
          "metadata": {},
          "execution_count": 13
        }
      ]
    },
    {
      "cell_type": "code",
      "source": [
        "title = songs[0].select('p.title > a')[0].text\n",
        "title"
      ],
      "metadata": {
        "colab": {
          "base_uri": "https://localhost:8080/",
          "height": 35
        },
        "id": "dnXxx-0X-tsY",
        "outputId": "58803898-6e38-412c-ddf5-823cf797802e"
      },
      "execution_count": 14,
      "outputs": [
        {
          "output_type": "execute_result",
          "data": {
            "application/vnd.google.colaboratory.intrinsic+json": {
              "type": "string"
            },
            "text/plain": [
              "'INVU'"
            ]
          },
          "metadata": {},
          "execution_count": 14
        }
      ]
    },
    {
      "cell_type": "code",
      "source": [
        "song_data = []\n",
        "rank = 1\n",
        "\n",
        "songs = soup.select('table.byChart > tbody > tr')\n",
        "\n",
        "for song in songs:\n",
        "  title = song.select('p.title > a')[0].text\n",
        "  singer = song.select(p.artist > a')[0].text\n",
        "\n",
        "  song_data.append([rank, title, singer])\n",
        "  rank += 1\n",
        "\n",
        "song_data"
      ],
      "metadata": {
        "colab": {
          "base_uri": "https://localhost:8080/",
          "height": 137
        },
        "id": "XcHXB0pq-5Ct",
        "outputId": "0fb88e81-1225-49d0-c24a-934f54ccb76c"
      },
      "execution_count": 15,
      "outputs": [
        {
          "output_type": "error",
          "ename": "SyntaxError",
          "evalue": "ignored",
          "traceback": [
            "\u001b[0;36m  File \u001b[0;32m\"<ipython-input-15-5ae914e276ec>\"\u001b[0;36m, line \u001b[0;32m8\u001b[0m\n\u001b[0;31m    singer = song.select(p.artist > a')[0].text\u001b[0m\n\u001b[0m                                               ^\u001b[0m\n\u001b[0;31mSyntaxError\u001b[0m\u001b[0;31m:\u001b[0m EOL while scanning string literal\n"
          ]
        }
      ]
    },
    {
      "cell_type": "code",
      "source": [
        "import pandas as pd\n",
        "\n",
        "df = pd.DataFrame(song_data, columns = ['순위'])"
      ],
      "metadata": {
        "id": "lm59jZNABMXF"
      },
      "execution_count": null,
      "outputs": []
    },
    {
      "cell_type": "code",
      "source": [
        "df.to_excel('bugs.xlsx, index=False')"
      ],
      "metadata": {
        "colab": {
          "base_uri": "https://localhost:8080/",
          "height": 174
        },
        "id": "B4zjN9HFBpYO",
        "outputId": "00a476db-b0a0-49cb-de25-29982213dbc5"
      },
      "execution_count": 16,
      "outputs": [
        {
          "output_type": "error",
          "ename": "NameError",
          "evalue": "ignored",
          "traceback": [
            "\u001b[0;31m---------------------------------------------------------------------------\u001b[0m",
            "\u001b[0;31mNameError\u001b[0m                                 Traceback (most recent call last)",
            "\u001b[0;32m<ipython-input-16-8e67a7490ce8>\u001b[0m in \u001b[0;36m<module>\u001b[0;34m()\u001b[0m\n\u001b[0;32m----> 1\u001b[0;31m \u001b[0mdf\u001b[0m\u001b[0;34m.\u001b[0m\u001b[0mto_excel\u001b[0m\u001b[0;34m(\u001b[0m\u001b[0;34m'bugs.xlsx, index=False'\u001b[0m\u001b[0;34m)\u001b[0m\u001b[0;34m\u001b[0m\u001b[0;34m\u001b[0m\u001b[0m\n\u001b[0m",
            "\u001b[0;31mNameError\u001b[0m: name 'df' is not defined"
          ]
        }
      ]
    }
  ]
}