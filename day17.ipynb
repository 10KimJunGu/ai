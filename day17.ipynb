{
  "nbformat": 4,
  "nbformat_minor": 0,
  "metadata": {
    "colab": {
      "name": "day17.ipynb",
      "provenance": [],
      "authorship_tag": "ABX9TyOZBz0Q2OTpWqEdVVwsrwO+",
      "include_colab_link": true
    },
    "kernelspec": {
      "name": "python3",
      "display_name": "Python 3"
    },
    "language_info": {
      "name": "python"
    }
  },
  "cells": [
    {
      "cell_type": "markdown",
      "metadata": {
        "id": "view-in-github",
        "colab_type": "text"
      },
      "source": [
        "<a href=\"https://colab.research.google.com/github/10KimJunGu/ai/blob/main/day17.ipynb\" target=\"_parent\"><img src=\"https://colab.research.google.com/assets/colab-badge.svg\" alt=\"Open In Colab\"/></a>"
      ]
    },
    {
      "cell_type": "code",
      "execution_count": null,
      "metadata": {
        "id": "ROzNRc4FYV_i"
      },
      "outputs": [],
      "source": [
        "# Function ( subprograms )\n",
        "\n",
        "# Blocks of code which perform specific tasks and can be called upon at any time \n",
        "# in the program to run that code.\n",
        "\n",
        "# Advantages\n",
        "# - it can be used and reused at diffenent times during the program.\n",
        "# - it makes the program simpler to understand as the code is grouped together into chunks.\n",
        "\n",
        "def get_name():  #4\n",
        "  user_name = input('Enter your name : ')  #5\n",
        "  return user_name  #6\n",
        "\n",
        "def print_Msg(user_name):  #9\n",
        "  print(\"Hello\", user_name)  # 10\n",
        "\n",
        "def main():   #2\n",
        "  user_name = get_name()  #3  # 7\n",
        "  print_Msg(user_name)  #8\n",
        "\n",
        "\n",
        "main()   #1\n",
        "\n",
        "# 4 5 6 9 10 2 3 7 1"
      ]
    },
    {
      "cell_type": "code",
      "source": [
        "def get_data():  #4\n",
        "    user_name = input('Enter your name : ')           #5\n",
        "    user_age = int(input('Enter your age : '))  # 20 살일 경우   #6\n",
        "    data_tuple = (user_name, user_age)  #7\n",
        "    return data_tuple #8\n",
        "\n",
        "def message(user_name, user_age):  # 11\n",
        "  if user_age <= 10:   # 12\n",
        "    print('Hi', user_name)\n",
        "  else:                     #13\n",
        "    print('Hello', user_name) # 14\n",
        "\n",
        "def main():   # 2\n",
        "  user_name, user_age = get_data()  # 3  #9 \n",
        "  message(user_name, user_age) # 10  (#15)\n",
        "\n",
        "main()      #1\n",
        "\n",
        "# 4 5 6 7 8 11 12 13 2 3 9 10 (14) 1"
      ],
      "metadata": {
        "id": "Sb6VJs2mhAAJ"
      },
      "execution_count": null,
      "outputs": []
    }
  ]
}