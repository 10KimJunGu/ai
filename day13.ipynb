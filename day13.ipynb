{
  "nbformat": 4,
  "nbformat_minor": 0,
  "metadata": {
    "colab": {
      "name": "day13.ipynb",
      "provenance": [],
      "authorship_tag": "ABX9TyOtA4gkk2h+0X4+XQFvrcQe",
      "include_colab_link": true
    },
    "kernelspec": {
      "name": "python3",
      "display_name": "Python 3"
    },
    "language_info": {
      "name": "python"
    }
  },
  "cells": [
    {
      "cell_type": "markdown",
      "metadata": {
        "id": "view-in-github",
        "colab_type": "text"
      },
      "source": [
        "<a href=\"https://colab.research.google.com/github/10KimJunGu/ai/blob/main/day13.ipynb\" target=\"_parent\"><img src=\"https://colab.research.google.com/assets/colab-badge.svg\" alt=\"Open In Colab\"/></a>"
      ]
    },
    {
      "cell_type": "code",
      "execution_count": null,
      "metadata": {
        "id": "ZjzgbdJL2OK_"
      },
      "outputs": [],
      "source": [
        "# Ask the user to enter a number. Keep asking until they enter a value over 5\n",
        "# and then display the message \"The last number you entered was a [number]\"\n",
        "# and stop the program.\n",
        "\n",
        "num = 0\n",
        "while num<5:\n",
        "  num = int(input('number'))\n",
        "print(f'The last number you entered was a {num}')"
      ]
    },
    {
      "cell_type": "code",
      "source": [
        "# Ask the user to enter a number and then enter another number.\n",
        "# Add there two numbers together and then \n",
        "# ask if they want to add another number. If they enter 'y', ask them to enter\n",
        "# another numbers until they do not answer 'y'. Once the loop has stopped.\n",
        "# display the total\n",
        "\n",
        "a = int(input('Enter a number : '))\n",
        "sum = a\n",
        "again = 'y'\n",
        "\n",
        "while again == 'y':\n",
        "  b = int(input('Enter a number : '))\n",
        "  sum = sum + b\n",
        "  again = input('Do you want to add another number? (y/n)')\n",
        "\n",
        "\n",
        "print('The total is ', sum)\n",
        "\n",
        "\n",
        "#ㅡㅡㅡㅡㅡㅡㅡㅡㅡㅡㅡㅡㅡㅡㅡㅡㅡㅡㅡㅡㅡㅡㅡㅡㅡㅡㅡㅡㅡㅡㅡㅡㅡㅡㅡㅡㅡㅡㅡㅡ\n",
        "\n",
        "\n",
        "a = int(input('Enter a number : '))\n",
        "again = 'y'\n",
        "\n",
        "while again == 'y':\n",
        "  b = int(input('Enter a number : '))\n",
        "  a = a + b\n",
        "  again = input('Do you want to add another number? (y/n)')\n",
        "\n",
        "\n",
        "print('The total is ', a)\n",
        "\n",
        "\n"
      ],
      "metadata": {
        "id": "JPW2v_M94p-j"
      },
      "execution_count": null,
      "outputs": []
    },
    {
      "cell_type": "code",
      "source": [
        ""
      ],
      "metadata": {
        "id": "VxRO5Qmd8bVU"
      },
      "execution_count": null,
      "outputs": []
    }
  ]
}