{
  "nbformat": 4,
  "nbformat_minor": 0,
  "metadata": {
    "colab": {
      "name": "day13.ipynb",
      "provenance": [],
      "authorship_tag": "ABX9TyOJnndtbPE7pQ6/LPvlZEds",
      "include_colab_link": true
    },
    "kernelspec": {
      "name": "python3",
      "display_name": "Python 3"
    },
    "language_info": {
      "name": "python"
    }
  },
  "cells": [
    {
      "cell_type": "markdown",
      "metadata": {
        "id": "view-in-github",
        "colab_type": "text"
      },
      "source": [
        "<a href=\"https://colab.research.google.com/github/10KimJunGu/ai/blob/main/day13.ipynb\" target=\"_parent\"><img src=\"https://colab.research.google.com/assets/colab-badge.svg\" alt=\"Open In Colab\"/></a>"
      ]
    },
    {
      "cell_type": "code",
      "execution_count": null,
      "metadata": {
        "id": "ZjzgbdJL2OK_"
      },
      "outputs": [],
      "source": [
        "# Ask the user to enter a number. Keep asking until they enter a value over 5\n",
        "# and then display the message \"The last number you entered was a [number]\"\n",
        "# and stop the program.\n",
        "\n",
        "num = 0\n",
        "while num<5:\n",
        "  num = int(input('number'))\n",
        "print(f'The last number you entered was a {num}')"
      ]
    },
    {
      "cell_type": "code",
      "source": [
        "# Ask the user to enter a number and then enter another number.\n",
        "# Add there two numbers together and then \n",
        "# ask if they want to add another number. If they enter 'y', ask them to enter\n",
        "# another numbers until they do not answer 'y'. Once the loop has stopped.\n",
        "# display the total\n",
        "\n",
        "a = int(input('Enter a number : '))\n",
        "sum = a\n",
        "again = 'y'\n",
        "\n",
        "while again == 'y':\n",
        "  b = int(input('Enter a number : '))\n",
        "  sum = sum + b\n",
        "  again = input('Do you want to add another number? (y/n)')\n",
        "\n",
        "\n",
        "print('The total is ', sum)\n",
        "\n",
        "\n",
        "#ㅡㅡㅡㅡㅡㅡㅡㅡㅡㅡㅡㅡㅡㅡㅡㅡㅡㅡㅡㅡㅡㅡㅡㅡㅡㅡㅡㅡㅡㅡㅡㅡㅡㅡㅡㅡㅡㅡㅡㅡ\n",
        "\n",
        "\n",
        "a = int(input('Enter a number : '))\n",
        "again = 'y'\n",
        "\n",
        "while again == 'y':\n",
        "  b = int(input('Enter a number : '))\n",
        "  a = a + b\n",
        "  again = input('Do you want to add another number? (y/n)')\n",
        "\n",
        "\n",
        "print('The total is ', a)\n",
        "\n",
        "\n"
      ],
      "metadata": {
        "id": "JPW2v_M94p-j"
      },
      "execution_count": null,
      "outputs": []
    },
    {
      "cell_type": "code",
      "source": [
        "# Ask for the name of somebody the user wants to invite to a party.\n",
        "# After this, display the mesage '[name] has been invited'\n",
        "# and add 1 to the count. Then ask if they want to invite somebody else.\n",
        "# Keep repeating this until they no longer want to invite anyone else to the \n",
        "# party and then display how many people they have comong to the party.\n",
        "\n",
        "again = 'y'\n",
        "count = 0\n",
        "\n",
        "\n",
        "while again == 'y':\n",
        "  name = input('Enter a name of somebody you want to invite to the party? : ')\n",
        "  print(name, 'has been invited')\n",
        "  count += 1\n",
        "  again = input('Do you want to invite somebody else? (y/n)')\n",
        "\n",
        "print(' You have', count , 'people coming to your party')"
      ],
      "metadata": {
        "id": "VxRO5Qmd8bVU"
      },
      "execution_count": null,
      "outputs": []
    },
    {
      "cell_type": "code",
      "source": [
        "# create a variable called 'compnum' and set the value to 50.\n",
        "# Ask the user to enter a number.\n",
        "# while their guess is no tthe same as the compnum value,\n",
        "# tell them if their guess is too low or too high and ask them to have another guess.\n",
        "# If they enter the same value as compnum,\n",
        "# display the message 'Well done, you took [count] apptmpts'.\n",
        "\n",
        "\n",
        "compnum = 50\n",
        "\n",
        "num = int(input('Can you guess the number I am thinking of ? '))\n",
        "count = 1\n",
        "while compnum != num:\n",
        "  if num < compnum:\n",
        "    print('Too low')\n",
        "  else:\n",
        "    print('Too high')\n",
        "  count += 1\n",
        "  num = int(input('another guess : '))\n",
        "\n",
        "print('Well done, you took ', count, 'apptmpts')\n",
        "\n",
        "\n",
        "\n",
        "# ㅡㅡㅡㅡㅡㅡㅡㅡㅡㅡㅡㅡㅡㅡㅡㅡㅡㅡㅡㅡㅡㅡㅡㅡㅡㅡㅡㅡㅡㅡㅡㅡ\n",
        "\n",
        "import random\n",
        "compnum = random.randrange(1,100)\n",
        "\n",
        "num = int(input('Can you guess the number I am thinking of ? '))\n",
        "count = 1\n",
        "while compnum != num:\n",
        "  if num < compnum:\n",
        "    print('Too low')\n",
        "  else:\n",
        "    print('Too high')\n",
        "  count += 1\n",
        "  num = int(input('another guess : '))\n",
        "\n",
        "print('Well done, you took ', count, 'apptmpts')\n"
      ],
      "metadata": {
        "id": "cLfSWU0T_suy"
      },
      "execution_count": null,
      "outputs": []
    },
    {
      "cell_type": "code",
      "source": [
        "# Using the song '10 green bottles', display the lines\n",
        "# '10 green bottles' 라는 노래를 이용하여\n",
        "\n",
        "# 'There are [num] green bottles hanging on the wall,\n",
        "# [num] green bottles hanging on the wall,\n",
        "# and if 1 green bottle should accidentally fall\n",
        "# 라는 가사를 출력하고\n",
        "\n",
        "# Then ask the question 'how many green bottles will be hangin g on the wall?'\n",
        "# 남은 병의 갯수는 몇개니 라고 질문한다.\n",
        "# If the user answers correctly, display the message\n",
        "# 질문에 맞는 답을 하면\n",
        "# 'There will be [num] green bottles hanging on the wall'\n",
        "# 몇개 남은 결과를 출력하고\n",
        "# If they answer incorrectly, display the message \n",
        "# 틀린 답을 입력하면\n",
        "# 'No, try again' until ghey get if right.\n",
        "# 다시 시도하세요 라고 맞출때까지 반복한다.\n",
        "# When the number of green bottles gets down to 0,\n",
        "# 병의 갯수가 0이 되면 \n",
        "# display the message 'There are no more green bottle hanging on the wall'\n",
        "# 더이상 남은 병은 없습니다. 출력하고 종료한다.\n",
        "\n",
        "\n",
        "num = 10\n",
        "\n",
        "while num > 0:\n",
        "  print('There are', num .'green bottles hanging on the wall,')\n",
        "  print(num, ' green bottles hanging on the wall,')\n",
        "  print('and if 1 green bottle should accidentally fall')\n",
        "  num -= 1\n",
        "  ans = int(input('How many green bottles will be hanging  on the wall?'))\n",
        "  if ans == num :\n",
        "    print('There will be', num, 'green bottles hanging on the wall')\n",
        "  else:\n",
        "    while ans != num:\n",
        "      ans = int(input('no, try again : '))\n",
        "\n",
        "print('There are no more green bottles hanging on the wall')"
      ],
      "metadata": {
        "id": "yFMSRMVBG2kt"
      },
      "execution_count": null,
      "outputs": []
    },
    {
      "cell_type": "code",
      "source": [
        "################################################################################\n",
        "# Random \n",
        "################################################################################\n",
        "\n",
        "# Random : Python can generate random values\n",
        "\n",
        "# - Random numbers within a specified range.\n",
        "# - A random choice from a range of items that are input.\n",
        "\n",
        "# To use there two options, you will need to import the random module.\n",
        "# you do this by typing import random at the start of your program.\n",
        "\n",
        "\n"
      ],
      "metadata": {
        "id": "RYpTzOdNNidB"
      },
      "execution_count": null,
      "outputs": []
    }
  ]
}