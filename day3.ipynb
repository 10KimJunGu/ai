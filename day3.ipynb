{
  "nbformat": 4,
  "nbformat_minor": 0,
  "metadata": {
    "colab": {
      "name": "day3.ipynb",
      "provenance": [],
      "authorship_tag": "ABX9TyNXV4sYqECT4nJyXubkZP+y",
      "include_colab_link": true
    },
    "kernelspec": {
      "name": "python3",
      "display_name": "Python 3"
    },
    "language_info": {
      "name": "python"
    }
  },
  "cells": [
    {
      "cell_type": "markdown",
      "metadata": {
        "id": "view-in-github",
        "colab_type": "text"
      },
      "source": [
        "<a href=\"https://colab.research.google.com/github/32KimJunGu/ai/blob/main/day3.ipynb\" target=\"_parent\"><img src=\"https://colab.research.google.com/assets/colab-badge.svg\" alt=\"Open In Colab\"/></a>"
      ]
    },
    {
      "cell_type": "code",
      "execution_count": null,
      "metadata": {
        "colab": {
          "base_uri": "https://localhost:8080/"
        },
        "id": "ODZZgtM41eNo",
        "outputId": "020641a5-71ef-4690-8709-cba0a94b9f41"
      },
      "outputs": [
        {
          "output_type": "stream",
          "name": "stdout",
          "text": [
            "1\n",
            "['하나', '둘']\n",
            "[9, 2, 3, 4, 5]\n",
            "[9, 2, 3, 4, 5, 9, 2, 3, 4, 5, 9, 2, 3, 4, 5]\n",
            "[9, 2, 3, 4, 5, 8]\n"
          ]
        }
      ],
      "source": [
        "###################################################\n",
        "# Review\n",
        "###################################################\n",
        "\n",
        "# Collection : 많은 데이터(elements)를 저장하고 관리한다. \n",
        "\n",
        "# 리스트 list            튜플 tuple            딕셔너리 dict           셋 set\n",
        "\n",
        "# []                      ()                   {}                      {}\n",
        "# mutable                immutable             mutable                 mutable          ## 수정, 추가, 삭제가 가능/불가능\n",
        "# indexing/slicing       indexing/slicing      Nope                    Nope\n",
        "#                        (1,)                 {key:value}              중복데이터 미허용\n",
        "#                                             자바의 map, JS json      중복제거\n",
        "\n",
        "# List\n",
        "list1 = [1,2,3,4,5]\n",
        "list2 = [2,3,'하나','둘',True,False]\n",
        "\n",
        "print(list1[0])  # indexing\n",
        "print(list2[2:4])# slicing [시작(이상):끝(미만)]\n",
        "\n",
        "list1[0] = 9\n",
        "print(list1)\n",
        "\n",
        "print(list1*3)\n",
        "\n",
        "list1.append(8) # append()는 마지막에 넣는다  # append와 insert는 파괴적 처리 / indexing과  slicing은 비파괴적처리\n",
        "print(list1)\n",
        "\n",
        "list1.insert(0, 10) # 특정 위치를 지정하여 삽입"
      ]
    },
    {
      "cell_type": "code",
      "source": [
        "list3 = list1\n",
        "print(list1)\n",
        "print(list3)\n",
        "print(id(list1))\n",
        "print(id(list3))\n",
        "del list3[0]\n",
        "\n",
        "print(list1)\n",
        "print(list3)\n",
        "\n",
        "# list1  -------> [9, 2, 3, 4, 5, 8] <------- list3\n",
        "\n",
        "list4 = list1.copy()\n",
        "\n",
        "print(list1)\n",
        "print(list4)\n",
        "print(id(list1))\n",
        "print(id(list4))\n",
        "del list4[0]\n",
        "\n",
        "print(list1)\n",
        "print(list4)"
      ],
      "metadata": {
        "colab": {
          "base_uri": "https://localhost:8080/"
        },
        "id": "AalKxeu96ayv",
        "outputId": "e1288b7d-741f-47f5-a2a3-8c265bb941f9"
      },
      "execution_count": null,
      "outputs": [
        {
          "output_type": "stream",
          "name": "stdout",
          "text": [
            "[10, 9, 2, 3, 4, 5, 8]\n",
            "[10, 9, 2, 3, 4, 5, 8]\n",
            "139722086204192\n",
            "139722086204192\n",
            "[9, 2, 3, 4, 5, 8]\n",
            "[9, 2, 3, 4, 5, 8]\n",
            "[9, 2, 3, 4, 5, 8]\n",
            "[9, 2, 3, 4, 5, 8]\n",
            "139722086204192\n",
            "139722024868992\n",
            "[9, 2, 3, 4, 5, 8]\n",
            "[2, 3, 4, 5, 8]\n"
          ]
        }
      ]
    },
    {
      "cell_type": "markdown",
      "source": [
        "ㅡㅡㅡㅡㅡㅡㅡㅡㅡㅡㅡㅡㅡㅡㅡㅡㅡㅡㅡㅡㅡㅡ리스트ㅡㅡㅡㅡㅡㅡㅡㅡㅡㅡㅡㅡㅡㅡㅡㅡㅡ"
      ],
      "metadata": {
        "id": "S85MeZqTe7lC"
      }
    },
    {
      "cell_type": "code",
      "source": [
        "t1 = ('대한', '민국')\n",
        "print(type(t1))\n",
        "\n",
        "t2 = (1,)\n",
        "print(type(t2))\n"
      ],
      "metadata": {
        "colab": {
          "base_uri": "https://localhost:8080/"
        },
        "id": "xB1T-rJ59FLs",
        "outputId": "85442cac-70bb-4050-b40f-85e3bcb99aa2"
      },
      "execution_count": null,
      "outputs": [
        {
          "output_type": "stream",
          "name": "stdout",
          "text": [
            "<class 'tuple'>\n",
            "<class 'tuple'>\n"
          ]
        }
      ]
    },
    {
      "cell_type": "code",
      "source": [
        "# t1[0] = '만세'\n",
        "t1[0]\n",
        "#t1.pop()             # pop은 파괴적처리\n"
      ],
      "metadata": {
        "colab": {
          "base_uri": "https://localhost:8080/",
          "height": 35
        },
        "id": "r7Zezs3-9-dy",
        "outputId": "682e7667-e820-4f15-e985-34d3b3f6cd98"
      },
      "execution_count": null,
      "outputs": [
        {
          "output_type": "execute_result",
          "data": {
            "application/vnd.google.colaboratory.intrinsic+json": {
              "type": "string"
            },
            "text/plain": [
              "'대한'"
            ]
          },
          "metadata": {},
          "execution_count": 4
        }
      ]
    },
    {
      "cell_type": "markdown",
      "source": [
        "ㅡㅡㅡㅡㅡㅡㅡㅡㅡㅡㅡㅡㅡㅡㅡㅡㅡㅡㅡㅡㅡㅡㅡㅡ튜플 ㅡㅡㅡㅡㅡㅡㅡㅡㅡㅡㅡㅡㅡㅡㅡㅡㅡㅡㅡㅡㅡㅡㅡㅡㅡㅡㅡ"
      ],
      "metadata": {
        "id": "8MD9YkxefJ4t"
      }
    },
    {
      "cell_type": "code",
      "source": [
        "# Dict\n",
        "\n",
        "dict ={\n",
        "    'key': 'value'\n",
        "}\n",
        "\n",
        "print(dict)\n",
        "print(dict['key'])      # value를 뽑아내려먼  [ ] 대괄호를 써야함\n",
        "\n",
        "dict['newkey'] = 'ai'\n",
        "print(dict)\n",
        "\n",
        "del dict['key']\n",
        "print(dict)"
      ],
      "metadata": {
        "colab": {
          "base_uri": "https://localhost:8080/"
        },
        "id": "SMKq2Q4Z-YyP",
        "outputId": "ec3e7b80-07f9-458c-ef1c-629c4dc70a5e"
      },
      "execution_count": null,
      "outputs": [
        {
          "output_type": "stream",
          "name": "stdout",
          "text": [
            "{'key': 'value'}\n",
            "value\n",
            "{'key': 'value', 'newkey': 'ai'}\n",
            "{'newkey': 'ai'}\n"
          ]
        }
      ]
    },
    {
      "cell_type": "markdown",
      "source": [
        "ㅡㅡㅡㅡㅡㅡㅡㅡㅡㅡㅡㅡㅡㅡㅡㅡㅡㅡㅡㅡㅡㅡㅡㅡ딕셔너리ㅡㅡㅡㅡㅡㅡㅡㅡㅡㅡㅡㅡㅡㅡㅡㅡㅡㅡㅡㅡㅡㅡ"
      ],
      "metadata": {
        "id": "UAw0hdjpfNiu"
      }
    },
    {
      "cell_type": "code",
      "source": [
        "#Set\n",
        "\n",
        "set = {1,1,2,2,2,3}\n",
        "print(set)        #중복된 값이 제거되고나서 나타남\n",
        "\n",
        "print(set[0])\n"
      ],
      "metadata": {
        "colab": {
          "base_uri": "https://localhost:8080/",
          "height": 229
        },
        "id": "aMEMb0wu_sUW",
        "outputId": "834bf395-428d-490f-eb2c-0f5a683f5d8d"
      },
      "execution_count": null,
      "outputs": [
        {
          "output_type": "stream",
          "name": "stdout",
          "text": [
            "{1, 2, 3}\n"
          ]
        },
        {
          "output_type": "error",
          "ename": "TypeError",
          "evalue": "ignored",
          "traceback": [
            "\u001b[0;31m---------------------------------------------------------------------------\u001b[0m",
            "\u001b[0;31mTypeError\u001b[0m                                 Traceback (most recent call last)",
            "\u001b[0;32m<ipython-input-1-2f134cbc3565>\u001b[0m in \u001b[0;36m<module>\u001b[0;34m()\u001b[0m\n\u001b[1;32m      4\u001b[0m \u001b[0mprint\u001b[0m\u001b[0;34m(\u001b[0m\u001b[0mset\u001b[0m\u001b[0;34m)\u001b[0m        \u001b[0;31m#중복된 값이 제거되고나서 나타남\u001b[0m\u001b[0;34m\u001b[0m\u001b[0;34m\u001b[0m\u001b[0m\n\u001b[1;32m      5\u001b[0m \u001b[0;34m\u001b[0m\u001b[0m\n\u001b[0;32m----> 6\u001b[0;31m \u001b[0mprint\u001b[0m\u001b[0;34m(\u001b[0m\u001b[0mset\u001b[0m\u001b[0;34m[\u001b[0m\u001b[0;36m0\u001b[0m\u001b[0;34m]\u001b[0m\u001b[0;34m)\u001b[0m\u001b[0;34m\u001b[0m\u001b[0;34m\u001b[0m\u001b[0m\n\u001b[0m",
            "\u001b[0;31mTypeError\u001b[0m: 'set' object is not subscriptable"
          ]
        }
      ]
    },
    {
      "cell_type": "markdown",
      "source": [
        "ㅡㅡㅡㅡㅡㅡㅡㅡㅡㅡㅡㅡㅡㅡㅡㅡㅡㅡㅡㅡㅡㅡㅡㅡㅡ셋 ㅡㅡㅡㅡㅡㅡㅡㅡㅡㅡㅡㅡㅡㅡㅡㅡㅡㅡㅡㅡㅡㅡㅡ"
      ],
      "metadata": {
        "id": "dbraJ3fMgXs2"
      }
    },
    {
      "cell_type": "code",
      "source": [
        "##########################################\n",
        "# if 조건문\n",
        "##########################################\n",
        "\n",
        "# if 조건문(True or False):\n",
        "#   True일 경우 실행\n",
        "# else:\n",
        "#   False일 경우 실행\n",
        "\n",
        "if True:\n",
        "  print('True')\n",
        "else:\n",
        "  print('False')\n",
        "\n",
        "\n",
        "\n",
        "if False:\n",
        "  print('1st')\n",
        "elif False:\n",
        "  print('2nd')\n",
        "elif False :\n",
        "  print('3rd')\n",
        "else:\n",
        "  print('etc')\n",
        "\n",
        "\n",
        "score = 80\n",
        "# 중첩해서 사용하는건 비효율적이고 가독성이 떨어짐. 그래서 elif를 써라.\n",
        "if score >= 100:\n",
        "  print('상')\n",
        "else:\n",
        "  if score  >= 50:\n",
        "    print('중')\n",
        "  else:\n",
        "    print('하')\n",
        "\n",
        "\n",
        "\n",
        "if score >= 100:\n",
        "  print('상')\n",
        "elif score  >= 50:\n",
        "    print('중')\n",
        "else:\n",
        "    print('하')"
      ],
      "metadata": {
        "id": "xQsfiwqTD8jo"
      },
      "execution_count": null,
      "outputs": []
    },
    {
      "cell_type": "code",
      "source": [
        "# 입력) 당신의 점수를 입력하세요 >>> 95\n",
        "# 출력 ) 당신의 점수는 95점이고 학점은 A0 학점입니다.\n",
        "#\n",
        "# 조건 0 100점 초과인 점수는 없다. 0점 미만인 점수도 없다\n",
        "# 100~90 A\n",
        "# 89~80 B\n",
        "# 79~70 C\n",
        "# 65~60 D\n",
        "# 나머지 F\n",
        "\n",
        "# 0 ~ 3 -\n",
        "# 4 ~ 6 0\n",
        "# 7 ~ 9 +\n",
        "\n",
        "\n",
        "score = int(input('당신의 점수를 입력하세요 >>> '))\n",
        "score = \n",
        "print(f'당신의 점수는 {score}이고 학점은 {} 학점입니다. ')\n",
        "if score >= 100:\n",
        "  print('A')\n",
        "elif score >= 90:\n",
        "  print('B')\n",
        "elif score >= 80:\n",
        "  print('C')\n",
        "elif score >= 70:\n",
        "  print('D')\n",
        "else:\n",
        "  print('F')"
      ],
      "metadata": {
        "id": "qK0gBhwPJZYl"
      },
      "execution_count": null,
      "outputs": []
    },
    {
      "cell_type": "code",
      "source": [
        "# 입력) 당신의 점수를 입력하세요 >>> 95\n",
        "# 출력 ) 당신의 점수는 95점이고 학점은 A0 학점입니다.\n",
        "#\n",
        "# 조건 0 100점 초과인 점수는 없다. 0점 미만인 점수도 없다\n",
        "# 100~90 A\n",
        "# 89~80 B\n",
        "# 79~70 C\n",
        "# 65~60 D\n",
        "# 나머지 F\n",
        "\n",
        "# 0 ~ 3 -\n",
        "# 4 ~ 6 0\n",
        "# 7 ~ 9 +\n",
        "\n",
        "\n",
        "score = int(input(\"점수를 입력하세요 >>> \"))\n",
        "\n",
        "if score >= 90 :\n",
        "  gr = \"A\"\n",
        "elif score >= 80 :\n",
        "  gr = \"B\"\n",
        "if score >= 70 :   #####elif로 해라. 실수실수\n",
        "  gr = \"C\"\n",
        "if score >= 60 :\n",
        "  gr = \"D\"\n",
        "else:\n",
        "  gr = \"F\"\n",
        "\n",
        "\n",
        "if int(score%10) >= 7:\n",
        "  de = '+'\n",
        "elif int(score%10) >= 4:\n",
        "  de = '0'\n",
        "else:\n",
        "  de = '-'\n",
        "\n",
        "print(f\"당신의 점수는 {score}이며 학점은 {gr}{de} 입니다.\")"
      ],
      "metadata": {
        "id": "xeCT6-9oLtp3"
      },
      "execution_count": null,
      "outputs": []
    },
    {
      "cell_type": "code",
      "source": [
        "#############선생님꺼\n",
        "score = int(input(\"점수를 입력하세요 >>>\"))\n",
        "\n",
        "if score >= 90:\n",
        "  gr = \"A\"\n",
        "elif score >= 80:\n",
        "  gr = \"B\"\n",
        "elif score >= 70:\n",
        "  gr = \"C\"\n",
        "elif score >= 60:\n",
        "  gr = \"D\"\n",
        "else:\n",
        "  gr = \"F\"\n",
        "\n",
        "\n",
        "if int(score%10) >= 7:\n",
        "  de = '+'\n",
        "elif int(score%10) >= 4:\n",
        "  de = 'O'\n",
        "else:\n",
        "  de = '-'\n",
        "\n",
        "print(f'당신의 점수는 {score}이며 학점은 {gr}{de}입니다. ')\n"
      ],
      "metadata": {
        "id": "UpWjmLZ7Q5Xz",
        "colab": {
          "base_uri": "https://localhost:8080/"
        },
        "outputId": "c3c0d999-3885-4005-fd2c-a9d03f6be989"
      },
      "execution_count": null,
      "outputs": [
        {
          "output_type": "stream",
          "name": "stdout",
          "text": [
            "점수를 입력하세요 >>>87\n",
            "당신의 점수는 87이며 학점은 B+입니다. \n"
          ]
        }
      ]
    },
    {
      "cell_type": "markdown",
      "source": [
        "ㅡㅡㅡㅡㅡㅡㅡㅡㅡㅡㅡㅡㅡㅡㅡㅡㅡㅡㅡㅡㅡㅡㅡㅡif문 ㅡㅡㅡㅡㅡㅡㅡㅡㅡㅡㅡㅡㅡㅡㅡㅡㅡㅡㅡㅡㅡ"
      ],
      "metadata": {
        "id": "jTDKvMrErPFf"
      }
    },
    {
      "cell_type": "code",
      "source": [
        "#####################################\n",
        "# while\n",
        "####################################3              # for문이나 while문같은 반복문은 항상 종료가 되어야 함\n",
        "\n",
        "# 반복문은 작업 수행을 한 번이 아니라 계속해서 수행해야 할 때 사용한다.\n",
        "# while 반복 작업을 몇 번 수행할 지 확실하지 않을 때 주로 사용한다.\n",
        "\n",
        "# '운동장을 해가 질때 까지 반복해서 돌아라'\n",
        "\n",
        "# while 조건식:\n",
        "#   실행구문\n",
        "\n",
        "while True:\n",
        "  print('운동장 돌기')"
      ],
      "metadata": {
        "id": "7RlOqO8FRvsX"
      },
      "execution_count": null,
      "outputs": []
    },
    {
      "cell_type": "code",
      "source": [
        "n = 1\n",
        "while n <= 10:      # 돌다가 n += 1 에서 나가는 것이 아니라 while n<=10:에서 나가기때문에 11은 안찍힘  \n",
        "  print(n)\n",
        "  n += 1   #n = n + 1  왼쪽이나 오른쪽이나 같다. (자바는 n++)\n",
        "\n",
        "print('-------------')\n",
        "print(n)"
      ],
      "metadata": {
        "id": "pceffWMRTITT",
        "colab": {
          "base_uri": "https://localhost:8080/"
        },
        "outputId": "98fa705f-38ab-4ccf-c6ec-de8d6fba8a29"
      },
      "execution_count": null,
      "outputs": [
        {
          "output_type": "stream",
          "name": "stdout",
          "text": [
            "1\n",
            "2\n",
            "3\n",
            "4\n",
            "5\n",
            "6\n",
            "7\n",
            "8\n",
            "9\n",
            "10\n",
            "-------------\n",
            "11\n"
          ]
        }
      ]
    },
    {
      "cell_type": "code",
      "source": [
        "# 10부터 1까지 짝수만 출력\n",
        "\n",
        "n = 10\n",
        "while n >= 1:\n",
        "  print(n)\n",
        "  n -=2     # n = n - 2"
      ],
      "metadata": {
        "id": "ukJdmdpHUVfO",
        "colab": {
          "base_uri": "https://localhost:8080/"
        },
        "outputId": "82aedc91-7020-4d11-bc33-a6b7248d1cad"
      },
      "execution_count": null,
      "outputs": [
        {
          "output_type": "stream",
          "name": "stdout",
          "text": [
            "10\n",
            "8\n",
            "6\n",
            "4\n",
            "2\n"
          ]
        }
      ]
    },
    {
      "cell_type": "code",
      "source": [
        "# 사용자로부터 임의의 정수를 입력받아 모두 리스트에 보관합니다.\n",
        "# 단, 0을 입력하면 프로그램을 종료합니다.(0은 리스트에 저장안함)\n",
        "# 최종  저장된 리스트를 출력합니다.\n",
        "\n",
        "arr = []\n",
        "no = 1   # 초기값은 1\n",
        "\n",
        "while no != 0 : \n",
        "  no = int(input('정수를 입력하세요 >>> '))      # 0이 아니면 입력을 다시 받아야하고 , 0이면 나가야하니까\n",
        "\n",
        "  if no != 0:\n",
        "    arr.append(no)\n",
        "\n",
        "print(arr)\n"
      ],
      "metadata": {
        "id": "SHv0YhaIVamh",
        "colab": {
          "base_uri": "https://localhost:8080/"
        },
        "outputId": "e10b7b3d-8345-42f5-fecb-2418292a482c"
      },
      "execution_count": null,
      "outputs": [
        {
          "output_type": "stream",
          "name": "stdout",
          "text": [
            "정수를 입력하세요 >>> 5\n",
            "정수를 입력하세요 >>> 3\n",
            "정수를 입력하세요 >>> 4\n",
            "정수를 입력하세요 >>> 8\n",
            "정수를 입력하세요 >>> 10\n",
            "정수를 입력하세요 >>> 2\n",
            "정수를 입력하세요 >>> 0\n",
            "[5, 3, 4, 8, 10, 2]\n"
          ]
        }
      ]
    },
    {
      "cell_type": "code",
      "source": [
        "# while 중첩\n",
        "# while 내부에 또 다른 while 을 사용하는 것을 중첩이라고 한다.\n",
        "\n",
        "# 3일동안 1~3교시 수업을 한다.\n",
        "\n",
        "# 1일차 1교시입니다.\n",
        "# 1일차 2교시입니다.\n",
        "# 1일차 3교시입니다.\n",
        "# 2일차 1교시입니다.\n",
        "# .\n",
        "# .\n",
        "# .\n",
        "# 3일차 3교시입니다.\n",
        "\n",
        "day = 1\n",
        "while day <=3:\n",
        "  hour = 1\n",
        "  while hour <= 3:\n",
        "    print(f'{day}일차 {hour}교시입니다.')\n",
        "    hour += 1\n",
        "  day += 1\n"
      ],
      "metadata": {
        "id": "WOHZm_YhZUGN",
        "colab": {
          "base_uri": "https://localhost:8080/"
        },
        "outputId": "e43eb8fb-ee4f-4e97-e15c-d668fde17db7"
      },
      "execution_count": null,
      "outputs": [
        {
          "output_type": "stream",
          "name": "stdout",
          "text": [
            "1일차 1교시입니다.\n",
            "1일차 2교시입니다.\n",
            "1일차 3교시입니다.\n",
            "2일차 1교시입니다.\n",
            "2일차 2교시입니다.\n",
            "2일차 3교시입니다.\n",
            "3일차 1교시입니다.\n",
            "3일차 2교시입니다.\n",
            "3일차 3교시입니다.\n"
          ]
        }
      ]
    },
    {
      "cell_type": "code",
      "source": [
        "# 구구단을 2단부터 9단까지 출력하세요\n",
        "\n",
        "# 2 X 1 = 2\n",
        "# 2 X 2 + 4\n",
        "# .\n",
        "# .\n",
        "# .\n",
        "# 9 X 9 = 81\n",
        "\n",
        "\n",
        "dan = 2\n",
        "while dan <= 9:\n",
        "  n = 1\n",
        "  while n <= 9:\n",
        "    print(f'{dan} X {n} = {dan * n}')\n",
        "    n += 1\n",
        "  dan += 1"
      ],
      "metadata": {
        "id": "Eegn4puKuSAV"
      },
      "execution_count": null,
      "outputs": []
    },
    {
      "cell_type": "code",
      "source": [
        "# 정수를 입력 받아서 그 횟수 만큼 'Hello를 출력하는 프로그램을 작성하세요.\n",
        "# 0 이하의 값이 입력되면 '잘못된 입력입니다.' 라고 출력하세요\n",
        "\n",
        "# 정수를 입력하세요 >>> 3\n",
        "\n",
        "# 1번째 Hello\n",
        "# 2번째 Hello\n",
        "# 3번째 Hello\n",
        "\n",
        "# 정수를 입력하세요 >>> 0\n",
        "# 잘못된 입력입니다.\n",
        "\n",
        "no = int(input(\"정수를 입력하세요 >>>\"))\n",
        "n = 1\n",
        "\n",
        "if no > 0:\n",
        "  while no  > 0:\n",
        "    print(f'{n}번째 Hello')\n",
        "    n += 1\n",
        "    no -= 1\n",
        "\n",
        "else:\n",
        "  print(\"잘못된 입력입니다.\")"
      ],
      "metadata": {
        "id": "5mtQ6_9TwGrI",
        "colab": {
          "base_uri": "https://localhost:8080/"
        },
        "outputId": "1250993e-33e0-4d2b-8c34-3ca35383b6bf"
      },
      "execution_count": null,
      "outputs": [
        {
          "output_type": "stream",
          "name": "stdout",
          "text": [
            "정수를 입력하세요 >>>2\n",
            "1번째 Hello\n",
            "2번째 Hello\n"
          ]
        }
      ]
    },
    {
      "cell_type": "code",
      "source": [
        "# 1부터 100 사이의 모든 정수 중에서 7의 배수만 출력하세요\n",
        "\n",
        "\n",
        "n = 7\n",
        "while n <= 100:\n",
        "  print(n)\n",
        "  n += 7"
      ],
      "metadata": {
        "id": "-fAFTkYZ01TI",
        "colab": {
          "base_uri": "https://localhost:8080/"
        },
        "outputId": "660bca3d-1a7c-4ed9-9a64-90fb0611c590"
      },
      "execution_count": null,
      "outputs": [
        {
          "output_type": "stream",
          "name": "stdout",
          "text": [
            "7\n",
            "14\n",
            "21\n",
            "28\n",
            "35\n",
            "42\n",
            "49\n",
            "56\n",
            "63\n",
            "70\n",
            "77\n",
            "84\n",
            "91\n",
            "98\n"
          ]
        }
      ]
    },
    {
      "cell_type": "code",
      "source": [
        "# 커피 1잔을 300원에 판매하는 자판기가 있다.\n",
        "# 자판기에 돈을 넣었을때 자판기에서 뽑을 수 있는 커피가 몇 잔이고\n",
        "# 잔돈이 얼마인지 함께 출력하세요\n",
        "\n",
        "# 입력 ) 자판기에 얼마를 넣을까요? >>> 1400\n",
        "# 출력 ) 커피 1잔, 잔돈 1100원\n",
        "#        커피 2잔, 잔돈 800원\n",
        "#        커피 3잔, 잔돈 500원\n",
        "#        커피 4잔, 잔돈 200원\n",
        "\n",
        "\n",
        "a = int(input(\"자판기에 얼마를 넣을까요? >>> \"))\n",
        "cof = 300\n",
        "num = 1\n",
        "\n",
        "while cof <= a:\n",
        "  print(f'커피{num}잔, 잔돈{a-cof}원')\n",
        "  num += 1\n",
        "  cof += 300\n",
        "  "
      ],
      "metadata": {
        "id": "Dl8IBHY23DpQ"
      },
      "execution_count": null,
      "outputs": []
    },
    {
      "cell_type": "code",
      "source": [
        "# 사용자로부터 0부터 9까지의 정수를 입력받아 입력된 정수가 5개가 될때까지 입력받는 프로그램 구현해라\n",
        "# 중복된 값이 입력되면 해당입력은 무시합니다.\n",
        "\n",
        "# 0 ~ 9 사이 정수를 입력하세요 >>> 0\n",
        "# 0 ~ 9 사이 정수를 입력하세요 >>> 0 # 무시\n",
        "# 0 ~ 9 사이 정수를 입력하세요 >>> 1\n",
        "# 0 ~ 9 사이 정수를 입력하세요 >>> 1 # 무시\n",
        "# 0 ~ 9 사이 정수를 입력하세요 >>> 2\n",
        "# 0 ~ 9 사이 정수를 입력하세요 >>> 3\n",
        "# 0 ~ 9 사이 정수를 입력하세요 >>> 4\n",
        "\n",
        "# 5개의 고유한 정수가 모두 입력되었습니다.\n",
        "# 입력된 값은 ______________ 입니다.\n",
        "\n",
        "\n",
        "num = set([])\n",
        "\n",
        "while len(num) <= 4:\n",
        "  no = int(input('0 ~ 9 사이 정수를 입력하세요 >>>'))\n",
        "  num.add(no)\n",
        "\n",
        "print(num)\n",
        "\n"
      ],
      "metadata": {
        "colab": {
          "base_uri": "https://localhost:8080/",
          "height": 248
        },
        "id": "wOTvy4aA860J",
        "outputId": "564dd688-8a52-4c50-bc8e-f1b68f3244a9"
      },
      "execution_count": null,
      "outputs": [
        {
          "output_type": "error",
          "ename": "TypeError",
          "evalue": "ignored",
          "traceback": [
            "\u001b[0;31m---------------------------------------------------------------------------\u001b[0m",
            "\u001b[0;31mTypeError\u001b[0m                                 Traceback (most recent call last)",
            "\u001b[0;32m<ipython-input-7-50fde8f6b961>\u001b[0m in \u001b[0;36m<module>\u001b[0;34m()\u001b[0m\n\u001b[1;32m     14\u001b[0m \u001b[0;34m\u001b[0m\u001b[0m\n\u001b[1;32m     15\u001b[0m \u001b[0;34m\u001b[0m\u001b[0m\n\u001b[0;32m---> 16\u001b[0;31m \u001b[0mnum\u001b[0m \u001b[0;34m=\u001b[0m \u001b[0mset\u001b[0m\u001b[0;34m(\u001b[0m\u001b[0;34m[\u001b[0m\u001b[0;34m]\u001b[0m\u001b[0;34m)\u001b[0m\u001b[0;34m\u001b[0m\u001b[0;34m\u001b[0m\u001b[0m\n\u001b[0m\u001b[1;32m     17\u001b[0m \u001b[0;34m\u001b[0m\u001b[0m\n\u001b[1;32m     18\u001b[0m \u001b[0;32mwhile\u001b[0m \u001b[0mlen\u001b[0m\u001b[0;34m(\u001b[0m\u001b[0mnum\u001b[0m\u001b[0;34m)\u001b[0m \u001b[0;34m<=\u001b[0m \u001b[0;36m5\u001b[0m\u001b[0;34m:\u001b[0m\u001b[0;34m\u001b[0m\u001b[0;34m\u001b[0m\u001b[0m\n",
            "\u001b[0;31mTypeError\u001b[0m: 'set' object is not callable"
          ]
        }
      ]
    },
    {
      "cell_type": "code",
      "source": [
        "# 1부터 100 사이의 모든 정수를 한줄에 10개씩 출력\n",
        "# while 2번 사용할 것\n",
        "\n",
        "# 1     2     3     4     5     6     7     8     9     10\n",
        "# 11\n",
        "# 12\n",
        "# 13\n",
        "# .\n",
        "# .\n",
        "# 91    92    93    94    95   .......                 100\n",
        "\n",
        "\n",
        "n = 1\n",
        "while n <= 100:\n",
        "  t = 0\n",
        "  while t < 10:\n",
        "    print(n, end='\\t')\n",
        "    t += 1\n",
        "    n += 1\n",
        "  print(\"\")\n",
        "\n"
      ],
      "metadata": {
        "id": "9uME_wtrC6HI"
      },
      "execution_count": null,
      "outputs": []
    },
    {
      "cell_type": "markdown",
      "source": [
        "ㅡㅡㅡㅡㅡㅡㅡㅡㅡㅡㅡㅡㅡㅡㅡㅡㅡㅡㅡㅡㅡㅡㅡㅡㅡwhileㅡㅡㅡㅡㅡㅡㅡㅡㅡㅡㅡㅡㅡㅡㅡㅡㅡㅡㅡ"
      ],
      "metadata": {
        "id": "gRP0Np6lT8iF"
      }
    },
    {
      "cell_type": "code",
      "source": [
        "############################\n",
        "# for\n",
        "############################\n",
        "\n",
        "# 몇 번 반복 시킬지 그 횟수가 명확할 때 주로 사용한다.\n",
        "\n",
        "# for 변수 in 반복시킬값들 :\n",
        "#     반복실행문\n",
        "\n",
        "# 리스트\n",
        "# for i in [1,2,3]:\n",
        "#  print(i)\n",
        "\n",
        "\n",
        "# 문자열\n",
        "# for i in 'hello':\n",
        "#  print(i)\n",
        "\n",
        "\n",
        "# 튜플\n",
        "# for i in (1,2,3):\n",
        "#   print(i)\n",
        "\n",
        "\n",
        "# range()\n",
        "# for i in range(3): #range(시작(생략가능), 끝(미만), 스탭(생략가능))\n",
        "#   print(i)\n",
        "\n",
        "######## set, dict는 순서와 상관없이는 사용 가능\n",
        "\n"
      ],
      "metadata": {
        "colab": {
          "base_uri": "https://localhost:8080/"
        },
        "id": "Suq2fYUZLiZZ",
        "outputId": "6d68a0b6-60fc-4b53-acd2-a5dae977157c"
      },
      "execution_count": null,
      "outputs": [
        {
          "output_type": "stream",
          "name": "stdout",
          "text": [
            "0\n",
            "1\n",
            "2\n"
          ]
        }
      ]
    },
    {
      "cell_type": "code",
      "source": [
        "# 비밀 번호(str)를 입력받아서 숫자와 문자가 모두 반드시 하나이상\n",
        "# 포함된 경우만 '사용 가능한 비번입니다.'\n",
        "# '불가능한 비번입니다.'\n",
        "# ch.isalpha() - 알파벳이면 구성되면 True\n",
        "# ch. isnumeric() - 숫자면 True\n",
        "\n",
        "# (입력) 비밀번호를 입력하세요 >>>\n",
        "# (출력) 사용가능한 비번입니다.\n",
        "\n",
        "pw = input('비밀 번호를 입력하세요 >>>')\n",
        "\n",
        "\n",
        "ch_count = 0\n",
        "no_count = 0\n",
        "\n",
        "\n",
        "for ch in pw :\n",
        "  if ch.isalpha():\n",
        "    ch_count += 1\n",
        "\n",
        "  elif ch.isnumeric():\n",
        "    no_count += 1\n",
        "\n",
        "if ch_count > 0 and no_count > 0:\n",
        "  print('사용가능한 비번입니다.')\n",
        "else:\n",
        "  print('사용 불가한 비번입니다.')"
      ],
      "metadata": {
        "colab": {
          "base_uri": "https://localhost:8080/"
        },
        "id": "Zd2HVmO2ONIr",
        "outputId": "5a97ebb4-be88-4f37-8ed0-266698d77d1f"
      },
      "execution_count": null,
      "outputs": [
        {
          "output_type": "stream",
          "name": "stdout",
          "text": [
            "비밀 번호를 입력하세요 >>>123789\n",
            "사용 불가한 비번입니다.\n"
          ]
        }
      ]
    },
    {
      "cell_type": "code",
      "source": [
        "# range([start], stop, [step])     #########################################\n",
        "\n",
        "\n",
        "# range()\n",
        "# for i in range(3): #range(시작(생략가능), 끝(미만), 스탭(생략가능))\n",
        "#   print(i)\n",
        "\n",
        "# 1. 숫자들을 컬렉션으로 만든다.\n",
        "# 2. start를 생략하면 0부터 시작한다.\n",
        "# 3. stop은 생략할 수 없다.\n",
        "# 4. step을 생략하면 1씩 증가한다.\n",
        "\n"
      ],
      "metadata": {
        "id": "x0HjqxVPWEAa"
      },
      "execution_count": null,
      "outputs": []
    },
    {
      "cell_type": "code",
      "source": [
        "# quiz. range와 for문을 사용하여 구구단을 출력하세요\n",
        "# (입력) 출력할 구구단을 입력하세요. >>> 5\n",
        "\n",
        "# 5 X 1 = 5\n",
        "# 5 X 2 = 10\n",
        "# .\n",
        "# .\n",
        "# .\n",
        "# 5 X 9 = 45\n",
        "\n",
        "dan = int(input('출력할 구구단을 입력하세요>>>'))\n",
        "\n",
        "for i in range(1,10,1):\n",
        "  print(f'{dan} x {i} = {dan*i}')"
      ],
      "metadata": {
        "id": "KD2I2i_RWwTW"
      },
      "execution_count": null,
      "outputs": []
    },
    {
      "cell_type": "code",
      "source": [
        "# set, dict도 for문으로 사용은 가능하나 순서는 보장하지 않는다.\n",
        "\n",
        "for i in {'가위', '바위', '보'}:\n",
        "  print(i)"
      ],
      "metadata": {
        "colab": {
          "base_uri": "https://localhost:8080/"
        },
        "id": "p5Jlw8j1X7_X",
        "outputId": "3281fda8-d63c-46fd-d3ae-add4340fc2cc"
      },
      "execution_count": null,
      "outputs": [
        {
          "output_type": "stream",
          "name": "stdout",
          "text": [
            "보\n",
            "가위\n",
            "바위\n"
          ]
        }
      ]
    },
    {
      "cell_type": "code",
      "source": [
        "person = {\n",
        "    'name' : '에밀리',\n",
        "    'age' : '20'\n",
        "}\n",
        "\n",
        "for i in person:\n",
        "  print(i)\n",
        "\n",
        "for i in person:\n",
        "  print(person[i])\n"
      ],
      "metadata": {
        "colab": {
          "base_uri": "https://localhost:8080/"
        },
        "id": "2afqpepAYfT0",
        "outputId": "54e8b7fa-eed1-485d-be91-7dc2463dd62a"
      },
      "execution_count": null,
      "outputs": [
        {
          "output_type": "stream",
          "name": "stdout",
          "text": [
            "name\n",
            "age\n",
            "에밀리\n",
            "20\n"
          ]
        }
      ]
    },
    {
      "cell_type": "code",
      "source": [
        "###################중요한 문제, 외워야하는 문제###################\n",
        "\n",
        "# 사용자로부터 양의 정수를 하나 입력받아서 1부터 입력받은 정수까지의 모든 정수의 합계를 구하는 프로그램을 작성하세요\n",
        "\n",
        "# (입력) 임의의 양수를 입력하세요 >>> 5\n",
        "# (출력) 1부터 5사이의 모든 정수의 합계는 15입니다.\n",
        "\n",
        "no = int(input('임의의 양수를 입력하세요 >>>'))\n",
        "\n",
        "sum = 0\n",
        "\n",
        "for i in range(1,no+1):\n",
        "  sum = sum + i      # sum += i\n",
        "\n",
        "print(f'1부터 {no}사이의 모든 정수의 합계는 {sum}입니다.')\n",
        "\n"
      ],
      "metadata": {
        "colab": {
          "base_uri": "https://localhost:8080/"
        },
        "id": "j3slnnHEZOvU",
        "outputId": "0b51551b-c543-4e67-9a2b-6ee4e4418607"
      },
      "execution_count": null,
      "outputs": [
        {
          "output_type": "stream",
          "name": "stdout",
          "text": [
            "임의의 양수를 입력하세요 >>>6\n",
            "1부터 6사이의 모든 정수의 합계는 21입니다.\n"
          ]
        }
      ]
    },
    {
      "cell_type": "code",
      "source": [
        "# 사용자로부터 임의의 정수를 하나 입력받아서 그 숫자만큼의 \n",
        "# '과일이름'입력받아서 'basket' 리스트에 저장하는 프로그램을 작성하세요\n",
        "\n",
        "# 몇 개의 과일을 보관할까요? >>> 3\n",
        "# 1번째 과일을 입력하세요 >>> 사과\n",
        "# 2번째 과일을 입력하세요 >>> 바나나\n",
        "# 3번째 과일을 입력하세요 >>> 체리\n",
        "\n",
        "# 입력받은 과일들은['사과', '바나나', '체리'] 입니다.\n",
        "\n",
        "no = int(input('몇 개의 과일을 보관할까요?'))\n",
        "\n",
        "basket = []\n",
        "\n",
        "for i in range(1, no+1):\n",
        "  fruit = input(f'{i}체번째 과일을 입력하세요 >>> ')\n",
        "  basket.append(fruit)\n",
        "\n",
        "print(f'입력받은 과일들은 {basket} 입니다.')\n"
      ],
      "metadata": {
        "colab": {
          "base_uri": "https://localhost:8080/"
        },
        "id": "yR5nPTxBapnv",
        "outputId": "13569bf7-a664-45d4-9d90-590f27ef38a9"
      },
      "execution_count": null,
      "outputs": [
        {
          "output_type": "stream",
          "name": "stdout",
          "text": [
            "몇 개의 과일을 보관할까요?3\n",
            "1번째 과일을 입력하세요 >>> 사과\n",
            "2번째 과일을 입력하세요 >>> 바나나\n",
            "3번째 과일을 입력하세요 >>> 체리\n",
            "입력받은 과일들은 ['사과', '바나나', '체리'] 입니다.\n"
          ]
        }
      ]
    },
    {
      "cell_type": "code",
      "source": [
        ""
      ],
      "metadata": {
        "id": "kftUFw-ucxvX"
      },
      "execution_count": null,
      "outputs": []
    }
  ]
}