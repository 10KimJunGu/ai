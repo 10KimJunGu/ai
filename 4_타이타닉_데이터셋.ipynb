{
  "nbformat": 4,
  "nbformat_minor": 0,
  "metadata": {
    "colab": {
      "provenance": [],
      "authorship_tag": "ABX9TyO97Mo7NK5hwj6DNYVZk8qQ",
      "include_colab_link": true
    },
    "kernelspec": {
      "name": "python3",
      "display_name": "Python 3"
    },
    "language_info": {
      "name": "python"
    }
  },
  "cells": [
    {
      "cell_type": "markdown",
      "metadata": {
        "id": "view-in-github",
        "colab_type": "text"
      },
      "source": [
        "<a href=\"https://colab.research.google.com/github/10KimJunGu/ai/blob/main/4_%ED%83%80%EC%9D%B4%ED%83%80%EB%8B%89_%EB%8D%B0%EC%9D%B4%ED%84%B0%EC%85%8B.ipynb\" target=\"_parent\"><img src=\"https://colab.research.google.com/assets/colab-badge.svg\" alt=\"Open In Colab\"/></a>"
      ]
    },
    {
      "cell_type": "markdown",
      "source": [
        "# 1. kaggle"
      ],
      "metadata": {
        "id": "TKdLkbZBLSxk"
      }
    },
    {
      "cell_type": "markdown",
      "source": [
        "* kaggle.com\n",
        "* 전세계 데이터 사이언티스트들이 다양한 데이터를 분석하고 토론할 수 있는 커뮤니트를 제공\n",
        "* 데이터 분석 및 머신러닝, 딥러닝 대회를 개최\n",
        "* 데이터셋, 파이썬자료, R자료 등을 제공"
      ],
      "metadata": {
        "id": "WVgP8ahtLVnY"
      }
    },
    {
      "cell_type": "code",
      "source": [
        "import numpy as np\n",
        "import pandas as pd"
      ],
      "metadata": {
        "id": "egfQ9v3YLwEV"
      },
      "execution_count": null,
      "outputs": []
    },
    {
      "cell_type": "code",
      "source": [
        "train = pd.read_csv('http://bit.ly/fc-ml-titanic')"
      ],
      "metadata": {
        "id": "JY4VBOsSL0bq"
      },
      "execution_count": null,
      "outputs": []
    },
    {
      "cell_type": "code",
      "source": [
        "train.head()"
      ],
      "metadata": {
        "colab": {
          "base_uri": "https://localhost:8080/",
          "height": 250
        },
        "id": "KPuy9tXCL9SJ",
        "outputId": "bc8af7da-5e90-4208-eff3-662d6dafbe68"
      },
      "execution_count": null,
      "outputs": [
        {
          "output_type": "execute_result",
          "data": {
            "text/plain": [
              "   PassengerId  Survived  Pclass  \\\n",
              "0            1         0       3   \n",
              "1            2         1       1   \n",
              "2            3         1       3   \n",
              "3            4         1       1   \n",
              "4            5         0       3   \n",
              "\n",
              "                                                Name     Sex   Age  SibSp  \\\n",
              "0                            Braund, Mr. Owen Harris    male  22.0      1   \n",
              "1  Cumings, Mrs. John Bradley (Florence Briggs Th...  female  38.0      1   \n",
              "2                             Heikkinen, Miss. Laina  female  26.0      0   \n",
              "3       Futrelle, Mrs. Jacques Heath (Lily May Peel)  female  35.0      1   \n",
              "4                           Allen, Mr. William Henry    male  35.0      0   \n",
              "\n",
              "   Parch            Ticket     Fare Cabin Embarked  \n",
              "0      0         A/5 21171   7.2500   NaN        S  \n",
              "1      0          PC 17599  71.2833   C85        C  \n",
              "2      0  STON/O2. 3101282   7.9250   NaN        S  \n",
              "3      0            113803  53.1000  C123        S  \n",
              "4      0            373450   8.0500   NaN        S  "
            ],
            "text/html": [
              "\n",
              "  <div id=\"df-1011c312-9e8c-4476-bc22-ea47a7c34957\">\n",
              "    <div class=\"colab-df-container\">\n",
              "      <div>\n",
              "<style scoped>\n",
              "    .dataframe tbody tr th:only-of-type {\n",
              "        vertical-align: middle;\n",
              "    }\n",
              "\n",
              "    .dataframe tbody tr th {\n",
              "        vertical-align: top;\n",
              "    }\n",
              "\n",
              "    .dataframe thead th {\n",
              "        text-align: right;\n",
              "    }\n",
              "</style>\n",
              "<table border=\"1\" class=\"dataframe\">\n",
              "  <thead>\n",
              "    <tr style=\"text-align: right;\">\n",
              "      <th></th>\n",
              "      <th>PassengerId</th>\n",
              "      <th>Survived</th>\n",
              "      <th>Pclass</th>\n",
              "      <th>Name</th>\n",
              "      <th>Sex</th>\n",
              "      <th>Age</th>\n",
              "      <th>SibSp</th>\n",
              "      <th>Parch</th>\n",
              "      <th>Ticket</th>\n",
              "      <th>Fare</th>\n",
              "      <th>Cabin</th>\n",
              "      <th>Embarked</th>\n",
              "    </tr>\n",
              "  </thead>\n",
              "  <tbody>\n",
              "    <tr>\n",
              "      <th>0</th>\n",
              "      <td>1</td>\n",
              "      <td>0</td>\n",
              "      <td>3</td>\n",
              "      <td>Braund, Mr. Owen Harris</td>\n",
              "      <td>male</td>\n",
              "      <td>22.0</td>\n",
              "      <td>1</td>\n",
              "      <td>0</td>\n",
              "      <td>A/5 21171</td>\n",
              "      <td>7.2500</td>\n",
              "      <td>NaN</td>\n",
              "      <td>S</td>\n",
              "    </tr>\n",
              "    <tr>\n",
              "      <th>1</th>\n",
              "      <td>2</td>\n",
              "      <td>1</td>\n",
              "      <td>1</td>\n",
              "      <td>Cumings, Mrs. John Bradley (Florence Briggs Th...</td>\n",
              "      <td>female</td>\n",
              "      <td>38.0</td>\n",
              "      <td>1</td>\n",
              "      <td>0</td>\n",
              "      <td>PC 17599</td>\n",
              "      <td>71.2833</td>\n",
              "      <td>C85</td>\n",
              "      <td>C</td>\n",
              "    </tr>\n",
              "    <tr>\n",
              "      <th>2</th>\n",
              "      <td>3</td>\n",
              "      <td>1</td>\n",
              "      <td>3</td>\n",
              "      <td>Heikkinen, Miss. Laina</td>\n",
              "      <td>female</td>\n",
              "      <td>26.0</td>\n",
              "      <td>0</td>\n",
              "      <td>0</td>\n",
              "      <td>STON/O2. 3101282</td>\n",
              "      <td>7.9250</td>\n",
              "      <td>NaN</td>\n",
              "      <td>S</td>\n",
              "    </tr>\n",
              "    <tr>\n",
              "      <th>3</th>\n",
              "      <td>4</td>\n",
              "      <td>1</td>\n",
              "      <td>1</td>\n",
              "      <td>Futrelle, Mrs. Jacques Heath (Lily May Peel)</td>\n",
              "      <td>female</td>\n",
              "      <td>35.0</td>\n",
              "      <td>1</td>\n",
              "      <td>0</td>\n",
              "      <td>113803</td>\n",
              "      <td>53.1000</td>\n",
              "      <td>C123</td>\n",
              "      <td>S</td>\n",
              "    </tr>\n",
              "    <tr>\n",
              "      <th>4</th>\n",
              "      <td>5</td>\n",
              "      <td>0</td>\n",
              "      <td>3</td>\n",
              "      <td>Allen, Mr. William Henry</td>\n",
              "      <td>male</td>\n",
              "      <td>35.0</td>\n",
              "      <td>0</td>\n",
              "      <td>0</td>\n",
              "      <td>373450</td>\n",
              "      <td>8.0500</td>\n",
              "      <td>NaN</td>\n",
              "      <td>S</td>\n",
              "    </tr>\n",
              "  </tbody>\n",
              "</table>\n",
              "</div>\n",
              "      <button class=\"colab-df-convert\" onclick=\"convertToInteractive('df-1011c312-9e8c-4476-bc22-ea47a7c34957')\"\n",
              "              title=\"Convert this dataframe to an interactive table.\"\n",
              "              style=\"display:none;\">\n",
              "        \n",
              "  <svg xmlns=\"http://www.w3.org/2000/svg\" height=\"24px\"viewBox=\"0 0 24 24\"\n",
              "       width=\"24px\">\n",
              "    <path d=\"M0 0h24v24H0V0z\" fill=\"none\"/>\n",
              "    <path d=\"M18.56 5.44l.94 2.06.94-2.06 2.06-.94-2.06-.94-.94-2.06-.94 2.06-2.06.94zm-11 1L8.5 8.5l.94-2.06 2.06-.94-2.06-.94L8.5 2.5l-.94 2.06-2.06.94zm10 10l.94 2.06.94-2.06 2.06-.94-2.06-.94-.94-2.06-.94 2.06-2.06.94z\"/><path d=\"M17.41 7.96l-1.37-1.37c-.4-.4-.92-.59-1.43-.59-.52 0-1.04.2-1.43.59L10.3 9.45l-7.72 7.72c-.78.78-.78 2.05 0 2.83L4 21.41c.39.39.9.59 1.41.59.51 0 1.02-.2 1.41-.59l7.78-7.78 2.81-2.81c.8-.78.8-2.07 0-2.86zM5.41 20L4 18.59l7.72-7.72 1.47 1.35L5.41 20z\"/>\n",
              "  </svg>\n",
              "      </button>\n",
              "      \n",
              "  <style>\n",
              "    .colab-df-container {\n",
              "      display:flex;\n",
              "      flex-wrap:wrap;\n",
              "      gap: 12px;\n",
              "    }\n",
              "\n",
              "    .colab-df-convert {\n",
              "      background-color: #E8F0FE;\n",
              "      border: none;\n",
              "      border-radius: 50%;\n",
              "      cursor: pointer;\n",
              "      display: none;\n",
              "      fill: #1967D2;\n",
              "      height: 32px;\n",
              "      padding: 0 0 0 0;\n",
              "      width: 32px;\n",
              "    }\n",
              "\n",
              "    .colab-df-convert:hover {\n",
              "      background-color: #E2EBFA;\n",
              "      box-shadow: 0px 1px 2px rgba(60, 64, 67, 0.3), 0px 1px 3px 1px rgba(60, 64, 67, 0.15);\n",
              "      fill: #174EA6;\n",
              "    }\n",
              "\n",
              "    [theme=dark] .colab-df-convert {\n",
              "      background-color: #3B4455;\n",
              "      fill: #D2E3FC;\n",
              "    }\n",
              "\n",
              "    [theme=dark] .colab-df-convert:hover {\n",
              "      background-color: #434B5C;\n",
              "      box-shadow: 0px 1px 3px 1px rgba(0, 0, 0, 0.15);\n",
              "      filter: drop-shadow(0px 1px 2px rgba(0, 0, 0, 0.3));\n",
              "      fill: #FFFFFF;\n",
              "    }\n",
              "  </style>\n",
              "\n",
              "      <script>\n",
              "        const buttonEl =\n",
              "          document.querySelector('#df-1011c312-9e8c-4476-bc22-ea47a7c34957 button.colab-df-convert');\n",
              "        buttonEl.style.display =\n",
              "          google.colab.kernel.accessAllowed ? 'block' : 'none';\n",
              "\n",
              "        async function convertToInteractive(key) {\n",
              "          const element = document.querySelector('#df-1011c312-9e8c-4476-bc22-ea47a7c34957');\n",
              "          const dataTable =\n",
              "            await google.colab.kernel.invokeFunction('convertToInteractive',\n",
              "                                                     [key], {});\n",
              "          if (!dataTable) return;\n",
              "\n",
              "          const docLinkHtml = 'Like what you see? Visit the ' +\n",
              "            '<a target=\"_blank\" href=https://colab.research.google.com/notebooks/data_table.ipynb>data table notebook</a>'\n",
              "            + ' to learn more about interactive tables.';\n",
              "          element.innerHTML = '';\n",
              "          dataTable['output_type'] = 'display_data';\n",
              "          await google.colab.output.renderOutput(dataTable, element);\n",
              "          const docLink = document.createElement('div');\n",
              "          docLink.innerHTML = docLinkHtml;\n",
              "          element.appendChild(docLink);\n",
              "        }\n",
              "      </script>\n",
              "    </div>\n",
              "  </div>\n",
              "  "
            ]
          },
          "metadata": {},
          "execution_count": 3
        }
      ]
    },
    {
      "cell_type": "markdown",
      "source": [
        "* PassengerId : 승객 아이디\n",
        "* Survived : 생존 여부(1:생존, 0:사망)\n",
        "* Pclass : 등급\n",
        "* Name : 승객 이름\n",
        "* Sex : 성별\n",
        "* Age : 나이\n",
        "* SibSp : 형제, 자매, 배우자 수\n",
        "* Parch : 부모, 자식 수\n",
        "* Ticket : 티켓 번호\n",
        "* Fare : 요금\n",
        "* Cabin : 좌석 번호\n",
        "* Embarked : 탑승 항구"
      ],
      "metadata": {
        "id": "JH1xQZznMKbr"
      }
    },
    {
      "cell_type": "markdown",
      "source": [
        "# 2. 데이터 전처리"
      ],
      "metadata": {
        "id": "BV98PO0nMyur"
      }
    },
    {
      "cell_type": "code",
      "source": [
        "feature = ['Pclass', 'Sex', 'Age', 'Fare'] # 이 4개를 통해서 전처리를 할 것  \n",
        "# feature는 일반 필드를 말한다. 어떤 데이터를 넣을 것인지를 feature라고 한다.\n",
        "# feature는 x를 뜻함\n",
        "\n",
        "# 그 많은 raw데이터 중에서 뽑아내야될 데이터를 정리하기 위해\n",
        "\n",
        "label = ['Survived'] # 생존여부를 정답데이터로 쓸 것 # 정답이 뭐가 나와야하는지는 label이다\n",
        "# label은 y를 뜻함"
      ],
      "metadata": {
        "id": "3Z7QKpFeL_IW"
      },
      "execution_count": null,
      "outputs": []
    },
    {
      "cell_type": "code",
      "source": [
        "train[feature].head() # "
      ],
      "metadata": {
        "colab": {
          "base_uri": "https://localhost:8080/",
          "height": 206
        },
        "id": "grSp-efZNsMK",
        "outputId": "f29e666e-af5e-4a1b-a5b3-1c1e488605d8"
      },
      "execution_count": null,
      "outputs": [
        {
          "output_type": "execute_result",
          "data": {
            "text/plain": [
              "   Pclass     Sex   Age     Fare\n",
              "0       3    male  22.0   7.2500\n",
              "1       1  female  38.0  71.2833\n",
              "2       3  female  26.0   7.9250\n",
              "3       1  female  35.0  53.1000\n",
              "4       3    male  35.0   8.0500"
            ],
            "text/html": [
              "\n",
              "  <div id=\"df-6d6fc58e-d559-403d-a2da-159c7371924f\">\n",
              "    <div class=\"colab-df-container\">\n",
              "      <div>\n",
              "<style scoped>\n",
              "    .dataframe tbody tr th:only-of-type {\n",
              "        vertical-align: middle;\n",
              "    }\n",
              "\n",
              "    .dataframe tbody tr th {\n",
              "        vertical-align: top;\n",
              "    }\n",
              "\n",
              "    .dataframe thead th {\n",
              "        text-align: right;\n",
              "    }\n",
              "</style>\n",
              "<table border=\"1\" class=\"dataframe\">\n",
              "  <thead>\n",
              "    <tr style=\"text-align: right;\">\n",
              "      <th></th>\n",
              "      <th>Pclass</th>\n",
              "      <th>Sex</th>\n",
              "      <th>Age</th>\n",
              "      <th>Fare</th>\n",
              "    </tr>\n",
              "  </thead>\n",
              "  <tbody>\n",
              "    <tr>\n",
              "      <th>0</th>\n",
              "      <td>3</td>\n",
              "      <td>male</td>\n",
              "      <td>22.0</td>\n",
              "      <td>7.2500</td>\n",
              "    </tr>\n",
              "    <tr>\n",
              "      <th>1</th>\n",
              "      <td>1</td>\n",
              "      <td>female</td>\n",
              "      <td>38.0</td>\n",
              "      <td>71.2833</td>\n",
              "    </tr>\n",
              "    <tr>\n",
              "      <th>2</th>\n",
              "      <td>3</td>\n",
              "      <td>female</td>\n",
              "      <td>26.0</td>\n",
              "      <td>7.9250</td>\n",
              "    </tr>\n",
              "    <tr>\n",
              "      <th>3</th>\n",
              "      <td>1</td>\n",
              "      <td>female</td>\n",
              "      <td>35.0</td>\n",
              "      <td>53.1000</td>\n",
              "    </tr>\n",
              "    <tr>\n",
              "      <th>4</th>\n",
              "      <td>3</td>\n",
              "      <td>male</td>\n",
              "      <td>35.0</td>\n",
              "      <td>8.0500</td>\n",
              "    </tr>\n",
              "  </tbody>\n",
              "</table>\n",
              "</div>\n",
              "      <button class=\"colab-df-convert\" onclick=\"convertToInteractive('df-6d6fc58e-d559-403d-a2da-159c7371924f')\"\n",
              "              title=\"Convert this dataframe to an interactive table.\"\n",
              "              style=\"display:none;\">\n",
              "        \n",
              "  <svg xmlns=\"http://www.w3.org/2000/svg\" height=\"24px\"viewBox=\"0 0 24 24\"\n",
              "       width=\"24px\">\n",
              "    <path d=\"M0 0h24v24H0V0z\" fill=\"none\"/>\n",
              "    <path d=\"M18.56 5.44l.94 2.06.94-2.06 2.06-.94-2.06-.94-.94-2.06-.94 2.06-2.06.94zm-11 1L8.5 8.5l.94-2.06 2.06-.94-2.06-.94L8.5 2.5l-.94 2.06-2.06.94zm10 10l.94 2.06.94-2.06 2.06-.94-2.06-.94-.94-2.06-.94 2.06-2.06.94z\"/><path d=\"M17.41 7.96l-1.37-1.37c-.4-.4-.92-.59-1.43-.59-.52 0-1.04.2-1.43.59L10.3 9.45l-7.72 7.72c-.78.78-.78 2.05 0 2.83L4 21.41c.39.39.9.59 1.41.59.51 0 1.02-.2 1.41-.59l7.78-7.78 2.81-2.81c.8-.78.8-2.07 0-2.86zM5.41 20L4 18.59l7.72-7.72 1.47 1.35L5.41 20z\"/>\n",
              "  </svg>\n",
              "      </button>\n",
              "      \n",
              "  <style>\n",
              "    .colab-df-container {\n",
              "      display:flex;\n",
              "      flex-wrap:wrap;\n",
              "      gap: 12px;\n",
              "    }\n",
              "\n",
              "    .colab-df-convert {\n",
              "      background-color: #E8F0FE;\n",
              "      border: none;\n",
              "      border-radius: 50%;\n",
              "      cursor: pointer;\n",
              "      display: none;\n",
              "      fill: #1967D2;\n",
              "      height: 32px;\n",
              "      padding: 0 0 0 0;\n",
              "      width: 32px;\n",
              "    }\n",
              "\n",
              "    .colab-df-convert:hover {\n",
              "      background-color: #E2EBFA;\n",
              "      box-shadow: 0px 1px 2px rgba(60, 64, 67, 0.3), 0px 1px 3px 1px rgba(60, 64, 67, 0.15);\n",
              "      fill: #174EA6;\n",
              "    }\n",
              "\n",
              "    [theme=dark] .colab-df-convert {\n",
              "      background-color: #3B4455;\n",
              "      fill: #D2E3FC;\n",
              "    }\n",
              "\n",
              "    [theme=dark] .colab-df-convert:hover {\n",
              "      background-color: #434B5C;\n",
              "      box-shadow: 0px 1px 3px 1px rgba(0, 0, 0, 0.15);\n",
              "      filter: drop-shadow(0px 1px 2px rgba(0, 0, 0, 0.3));\n",
              "      fill: #FFFFFF;\n",
              "    }\n",
              "  </style>\n",
              "\n",
              "      <script>\n",
              "        const buttonEl =\n",
              "          document.querySelector('#df-6d6fc58e-d559-403d-a2da-159c7371924f button.colab-df-convert');\n",
              "        buttonEl.style.display =\n",
              "          google.colab.kernel.accessAllowed ? 'block' : 'none';\n",
              "\n",
              "        async function convertToInteractive(key) {\n",
              "          const element = document.querySelector('#df-6d6fc58e-d559-403d-a2da-159c7371924f');\n",
              "          const dataTable =\n",
              "            await google.colab.kernel.invokeFunction('convertToInteractive',\n",
              "                                                     [key], {});\n",
              "          if (!dataTable) return;\n",
              "\n",
              "          const docLinkHtml = 'Like what you see? Visit the ' +\n",
              "            '<a target=\"_blank\" href=https://colab.research.google.com/notebooks/data_table.ipynb>data table notebook</a>'\n",
              "            + ' to learn more about interactive tables.';\n",
              "          element.innerHTML = '';\n",
              "          dataTable['output_type'] = 'display_data';\n",
              "          await google.colab.output.renderOutput(dataTable, element);\n",
              "          const docLink = document.createElement('div');\n",
              "          docLink.innerHTML = docLinkHtml;\n",
              "          element.appendChild(docLink);\n",
              "        }\n",
              "      </script>\n",
              "    </div>\n",
              "  </div>\n",
              "  "
            ]
          },
          "metadata": {},
          "execution_count": 5
        }
      ]
    },
    {
      "cell_type": "code",
      "source": [
        "train[label].head()"
      ],
      "metadata": {
        "colab": {
          "base_uri": "https://localhost:8080/",
          "height": 206
        },
        "id": "YQKlbzGSNwwL",
        "outputId": "4049b8dc-60fb-49d9-ca4d-0ae0c914935c"
      },
      "execution_count": null,
      "outputs": [
        {
          "output_type": "execute_result",
          "data": {
            "text/plain": [
              "   Survived\n",
              "0         0\n",
              "1         1\n",
              "2         1\n",
              "3         1\n",
              "4         0"
            ],
            "text/html": [
              "\n",
              "  <div id=\"df-f0795fb4-3fa6-4901-9c64-b90ae5019216\">\n",
              "    <div class=\"colab-df-container\">\n",
              "      <div>\n",
              "<style scoped>\n",
              "    .dataframe tbody tr th:only-of-type {\n",
              "        vertical-align: middle;\n",
              "    }\n",
              "\n",
              "    .dataframe tbody tr th {\n",
              "        vertical-align: top;\n",
              "    }\n",
              "\n",
              "    .dataframe thead th {\n",
              "        text-align: right;\n",
              "    }\n",
              "</style>\n",
              "<table border=\"1\" class=\"dataframe\">\n",
              "  <thead>\n",
              "    <tr style=\"text-align: right;\">\n",
              "      <th></th>\n",
              "      <th>Survived</th>\n",
              "    </tr>\n",
              "  </thead>\n",
              "  <tbody>\n",
              "    <tr>\n",
              "      <th>0</th>\n",
              "      <td>0</td>\n",
              "    </tr>\n",
              "    <tr>\n",
              "      <th>1</th>\n",
              "      <td>1</td>\n",
              "    </tr>\n",
              "    <tr>\n",
              "      <th>2</th>\n",
              "      <td>1</td>\n",
              "    </tr>\n",
              "    <tr>\n",
              "      <th>3</th>\n",
              "      <td>1</td>\n",
              "    </tr>\n",
              "    <tr>\n",
              "      <th>4</th>\n",
              "      <td>0</td>\n",
              "    </tr>\n",
              "  </tbody>\n",
              "</table>\n",
              "</div>\n",
              "      <button class=\"colab-df-convert\" onclick=\"convertToInteractive('df-f0795fb4-3fa6-4901-9c64-b90ae5019216')\"\n",
              "              title=\"Convert this dataframe to an interactive table.\"\n",
              "              style=\"display:none;\">\n",
              "        \n",
              "  <svg xmlns=\"http://www.w3.org/2000/svg\" height=\"24px\"viewBox=\"0 0 24 24\"\n",
              "       width=\"24px\">\n",
              "    <path d=\"M0 0h24v24H0V0z\" fill=\"none\"/>\n",
              "    <path d=\"M18.56 5.44l.94 2.06.94-2.06 2.06-.94-2.06-.94-.94-2.06-.94 2.06-2.06.94zm-11 1L8.5 8.5l.94-2.06 2.06-.94-2.06-.94L8.5 2.5l-.94 2.06-2.06.94zm10 10l.94 2.06.94-2.06 2.06-.94-2.06-.94-.94-2.06-.94 2.06-2.06.94z\"/><path d=\"M17.41 7.96l-1.37-1.37c-.4-.4-.92-.59-1.43-.59-.52 0-1.04.2-1.43.59L10.3 9.45l-7.72 7.72c-.78.78-.78 2.05 0 2.83L4 21.41c.39.39.9.59 1.41.59.51 0 1.02-.2 1.41-.59l7.78-7.78 2.81-2.81c.8-.78.8-2.07 0-2.86zM5.41 20L4 18.59l7.72-7.72 1.47 1.35L5.41 20z\"/>\n",
              "  </svg>\n",
              "      </button>\n",
              "      \n",
              "  <style>\n",
              "    .colab-df-container {\n",
              "      display:flex;\n",
              "      flex-wrap:wrap;\n",
              "      gap: 12px;\n",
              "    }\n",
              "\n",
              "    .colab-df-convert {\n",
              "      background-color: #E8F0FE;\n",
              "      border: none;\n",
              "      border-radius: 50%;\n",
              "      cursor: pointer;\n",
              "      display: none;\n",
              "      fill: #1967D2;\n",
              "      height: 32px;\n",
              "      padding: 0 0 0 0;\n",
              "      width: 32px;\n",
              "    }\n",
              "\n",
              "    .colab-df-convert:hover {\n",
              "      background-color: #E2EBFA;\n",
              "      box-shadow: 0px 1px 2px rgba(60, 64, 67, 0.3), 0px 1px 3px 1px rgba(60, 64, 67, 0.15);\n",
              "      fill: #174EA6;\n",
              "    }\n",
              "\n",
              "    [theme=dark] .colab-df-convert {\n",
              "      background-color: #3B4455;\n",
              "      fill: #D2E3FC;\n",
              "    }\n",
              "\n",
              "    [theme=dark] .colab-df-convert:hover {\n",
              "      background-color: #434B5C;\n",
              "      box-shadow: 0px 1px 3px 1px rgba(0, 0, 0, 0.15);\n",
              "      filter: drop-shadow(0px 1px 2px rgba(0, 0, 0, 0.3));\n",
              "      fill: #FFFFFF;\n",
              "    }\n",
              "  </style>\n",
              "\n",
              "      <script>\n",
              "        const buttonEl =\n",
              "          document.querySelector('#df-f0795fb4-3fa6-4901-9c64-b90ae5019216 button.colab-df-convert');\n",
              "        buttonEl.style.display =\n",
              "          google.colab.kernel.accessAllowed ? 'block' : 'none';\n",
              "\n",
              "        async function convertToInteractive(key) {\n",
              "          const element = document.querySelector('#df-f0795fb4-3fa6-4901-9c64-b90ae5019216');\n",
              "          const dataTable =\n",
              "            await google.colab.kernel.invokeFunction('convertToInteractive',\n",
              "                                                     [key], {});\n",
              "          if (!dataTable) return;\n",
              "\n",
              "          const docLinkHtml = 'Like what you see? Visit the ' +\n",
              "            '<a target=\"_blank\" href=https://colab.research.google.com/notebooks/data_table.ipynb>data table notebook</a>'\n",
              "            + ' to learn more about interactive tables.';\n",
              "          element.innerHTML = '';\n",
              "          dataTable['output_type'] = 'display_data';\n",
              "          await google.colab.output.renderOutput(dataTable, element);\n",
              "          const docLink = document.createElement('div');\n",
              "          docLink.innerHTML = docLinkHtml;\n",
              "          element.appendChild(docLink);\n",
              "        }\n",
              "      </script>\n",
              "    </div>\n",
              "  </div>\n",
              "  "
            ]
          },
          "metadata": {},
          "execution_count": 6
        }
      ]
    },
    {
      "cell_type": "code",
      "source": [
        "from sklearn.model_selection import train_test_split"
      ],
      "metadata": {
        "id": "xczGxSPXN1GM"
      },
      "execution_count": null,
      "outputs": []
    },
    {
      "cell_type": "code",
      "source": [
        "x_train, x_valid, y_train, y_valid = train_test_split(train[feature], train[label], test_size = 0.2, random_state=10)\n",
        "\n",
        "# train[feature], train[label] 로 구분해갖고 나눠줄 것\n",
        "# test_size = 0.2 : 8 대 2로 나눔 -> 테스트를 20프로로 잡음\n",
        "# random_state = 10 : 기준점을 10으로 놓는데 아무숫자나 넣어도 상관없음"
      ],
      "metadata": {
        "id": "3QL3k7VcOL_6"
      },
      "execution_count": null,
      "outputs": []
    },
    {
      "cell_type": "code",
      "source": [
        "x_train.shape, y_train.shape"
      ],
      "metadata": {
        "colab": {
          "base_uri": "https://localhost:8080/"
        },
        "id": "duPXi8zRPR-X",
        "outputId": "9a17c99b-0999-488d-a97d-920ed38dcdcb"
      },
      "execution_count": null,
      "outputs": [
        {
          "output_type": "execute_result",
          "data": {
            "text/plain": [
              "((712, 4), (712, 1))"
            ]
          },
          "metadata": {},
          "execution_count": 9
        }
      ]
    },
    {
      "cell_type": "code",
      "source": [
        "x_valid.shape, y_valid.shape"
      ],
      "metadata": {
        "colab": {
          "base_uri": "https://localhost:8080/"
        },
        "id": "tQ9q1odGPcx3",
        "outputId": "c675c8a1-696f-47a0-8875-84d9796875df"
      },
      "execution_count": null,
      "outputs": [
        {
          "output_type": "execute_result",
          "data": {
            "text/plain": [
              "((179, 4), (179, 1))"
            ]
          },
          "metadata": {},
          "execution_count": 10
        }
      ]
    },
    {
      "cell_type": "markdown",
      "source": [
        "# 3. 결측치 처리"
      ],
      "metadata": {
        "id": "aMD6IiA0Po6T"
      }
    },
    {
      "cell_type": "code",
      "source": [
        "train.info()"
      ],
      "metadata": {
        "colab": {
          "base_uri": "https://localhost:8080/"
        },
        "id": "UJudYf5WPhZ8",
        "outputId": "b4690c5b-735e-4c0b-c944-75358cc357b8"
      },
      "execution_count": null,
      "outputs": [
        {
          "output_type": "stream",
          "name": "stdout",
          "text": [
            "<class 'pandas.core.frame.DataFrame'>\n",
            "RangeIndex: 891 entries, 0 to 890\n",
            "Data columns (total 12 columns):\n",
            " #   Column       Non-Null Count  Dtype  \n",
            "---  ------       --------------  -----  \n",
            " 0   PassengerId  891 non-null    int64  \n",
            " 1   Survived     891 non-null    int64  \n",
            " 2   Pclass       891 non-null    int64  \n",
            " 3   Name         891 non-null    object \n",
            " 4   Sex          891 non-null    object \n",
            " 5   Age          714 non-null    float64\n",
            " 6   SibSp        891 non-null    int64  \n",
            " 7   Parch        891 non-null    int64  \n",
            " 8   Ticket       891 non-null    object \n",
            " 9   Fare         891 non-null    float64\n",
            " 10  Cabin        204 non-null    object \n",
            " 11  Embarked     889 non-null    object \n",
            "dtypes: float64(2), int64(5), object(5)\n",
            "memory usage: 83.7+ KB\n"
          ]
        }
      ]
    },
    {
      "cell_type": "code",
      "source": [
        "# 결측치 개수 확인 : isnull().sum()\n",
        "\n",
        "train.isnull().sum() "
      ],
      "metadata": {
        "colab": {
          "base_uri": "https://localhost:8080/"
        },
        "id": "Msam8d_2PxrU",
        "outputId": "a26e0545-f366-458e-f0da-40bf7cce34ef"
      },
      "execution_count": null,
      "outputs": [
        {
          "output_type": "execute_result",
          "data": {
            "text/plain": [
              "PassengerId      0\n",
              "Survived         0\n",
              "Pclass           0\n",
              "Name             0\n",
              "Sex              0\n",
              "Age            177\n",
              "SibSp            0\n",
              "Parch            0\n",
              "Ticket           0\n",
              "Fare             0\n",
              "Cabin          687\n",
              "Embarked         2\n",
              "dtype: int64"
            ]
          },
          "metadata": {},
          "execution_count": 15
        }
      ]
    },
    {
      "cell_type": "code",
      "source": [
        "# 나이 결측치를 0으로 처리 후 통계정보 확인 - version 1\n",
        "\n",
        "train['Age'].fillna(0).describe()"
      ],
      "metadata": {
        "colab": {
          "base_uri": "https://localhost:8080/"
        },
        "id": "qPA4lfDiyQlF",
        "outputId": "c2644df1-2bda-4023-bd86-9dcc55cf179a"
      },
      "execution_count": null,
      "outputs": [
        {
          "output_type": "execute_result",
          "data": {
            "text/plain": [
              "count    891.000000\n",
              "mean      23.799293\n",
              "std       17.596074\n",
              "min        0.000000\n",
              "25%        6.000000\n",
              "50%       24.000000\n",
              "75%       35.000000\n",
              "max       80.000000\n",
              "Name: Age, dtype: float64"
            ]
          },
          "metadata": {},
          "execution_count": 16
        }
      ]
    },
    {
      "cell_type": "code",
      "source": [
        "# 나이 결측치를 평균으로 처리 후 통계정보 확인 - version 2\n",
        "\n",
        "train['Age'].fillna(train['Age'].mean()).describe()"
      ],
      "metadata": {
        "colab": {
          "base_uri": "https://localhost:8080/"
        },
        "id": "rP1DHNokyoXv",
        "outputId": "4c4d8563-80ef-4f5e-c18c-940baec5073c"
      },
      "execution_count": null,
      "outputs": [
        {
          "output_type": "execute_result",
          "data": {
            "text/plain": [
              "count    891.000000\n",
              "mean      29.699118\n",
              "std       13.002015\n",
              "min        0.420000\n",
              "25%       22.000000\n",
              "50%       29.699118\n",
              "75%       35.000000\n",
              "max       80.000000\n",
              "Name: Age, dtype: float64"
            ]
          },
          "metadata": {},
          "execution_count": 17
        }
      ]
    },
    {
      "cell_type": "markdown",
      "source": [
        "### 3-1. impute\n",
        "\n",
        "* 2개 이상의 colunm을 한번에 함수 또는 수식을 처리할 때 사용\n"
      ],
      "metadata": {
        "id": "6jxctCnGy7VZ"
      }
    },
    {
      "cell_type": "code",
      "source": [
        "from sklearn.impute import SimpleImputer"
      ],
      "metadata": {
        "id": "XLsNfdwVy0ez"
      },
      "execution_count": null,
      "outputs": []
    },
    {
      "cell_type": "code",
      "source": [
        "imputer = SimpleImputer(strategy='mean') # 특정함수에 ' ' 안에 넣기 (객체만들기)\n",
        "\n",
        "# 'mean'을 한꺼번에 적용한다.\n",
        "\n",
        "\n",
        "\n",
        "# strategy에 넣을 값들 \n",
        "\n",
        "# mean : 평균값\n",
        "# median : 중앙값\n",
        "# most_frequent : 최빈값(제일 빈도가 많은 값)\n",
        "# constant : 특정값 -> 예) SimpleImputer(strategy='constant', fill_value=값)"
      ],
      "metadata": {
        "id": "XLwYdc9bzSJR"
      },
      "execution_count": null,
      "outputs": []
    },
    {
      "cell_type": "code",
      "source": [
        "# 'Age','Pclass'에다가 적용하기\n",
        "\n",
        "imputer.fit(train[['Age', 'Pclass']]) # fit()를 통해서 결측치에 대한 mean 학습을 진행    # 평균을 적용하기 위해 객체만 만들어 놓고 실제데이터에 반영시키기않았음\n",
        "\n",
        "# fit() 학습시킬때, 적용할때 많이 사용함. "
      ],
      "metadata": {
        "colab": {
          "base_uri": "https://localhost:8080/"
        },
        "id": "0UBw1pCXz2cB",
        "outputId": "7dbe8344-24f6-4828-80e3-11bd24c55daf"
      },
      "execution_count": null,
      "outputs": [
        {
          "output_type": "execute_result",
          "data": {
            "text/plain": [
              "SimpleImputer()"
            ]
          },
          "metadata": {},
          "execution_count": 20
        }
      ]
    },
    {
      "cell_type": "code",
      "source": [
        "# 실제 데이터에 반영시키기\n",
        "\n",
        "result = imputer.transform(train[['Age', 'Pclass']]) # transform()는 실제 결측치에 대한 값 변화를 적용  # 실제값을 변환 시키기\n",
        "\n",
        "\n",
        "\n",
        "# 위와 아래를 같이써야 함 (*****)\n",
        "\n",
        "# 값이 바뀌어서 확인은 되는데 train에 적용은 아직 안함. 왜냐면 result만 뽑아서 확인해본거지 아직 저장을 안했기때문이다."
      ],
      "metadata": {
        "id": "qk7RAWPXz9mS"
      },
      "execution_count": null,
      "outputs": []
    },
    {
      "cell_type": "markdown",
      "source": [
        "![1.png](data:image/png;base64,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)"
      ],
      "metadata": {
        "id": "zKsHzSLqj_7P"
      }
    },
    {
      "cell_type": "code",
      "source": [
        "# imputer.fit(train[['Age', 'Pclass']])\n",
        "# result = imputer.transform(train[['Age', 'Pclass']])\n",
        "\n",
        "# -------------------------- 위와 아래는 같다.\n",
        "\n",
        "# result = imputer.fit_transform(train[['Age','Pclass']])\n"
      ],
      "metadata": {
        "id": "eyVjMZ9SYMos"
      },
      "execution_count": null,
      "outputs": []
    },
    {
      "cell_type": "code",
      "source": [
        "result"
      ],
      "metadata": {
        "colab": {
          "base_uri": "https://localhost:8080/"
        },
        "id": "b1dfKT8b0beq",
        "outputId": "32e9d196-1226-40f3-cf4f-dda51a17cbf0"
      },
      "execution_count": null,
      "outputs": [
        {
          "output_type": "execute_result",
          "data": {
            "text/plain": [
              "array([[22.        ,  3.        ],\n",
              "       [38.        ,  1.        ],\n",
              "       [26.        ,  3.        ],\n",
              "       ...,\n",
              "       [29.69911765,  3.        ],\n",
              "       [26.        ,  1.        ],\n",
              "       [32.        ,  3.        ]])"
            ]
          },
          "metadata": {},
          "execution_count": 22
        }
      ]
    },
    {
      "cell_type": "code",
      "source": [
        "# 'Age', 'Pclass'에 저장하기\n",
        "\n",
        "train[['Age', 'Pclass']] = result"
      ],
      "metadata": {
        "id": "20MljJPy16Vl"
      },
      "execution_count": null,
      "outputs": []
    },
    {
      "cell_type": "markdown",
      "source": [
        "![2.PNG](data:image/png;base64,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)"
      ],
      "metadata": {
        "id": "_njqtwMNlC9f"
      }
    },
    {
      "cell_type": "code",
      "source": [
        "# null값이 있는 지 확인하기\n",
        "\n",
        "train[['Age', 'Pclass']].isnull().sum() "
      ],
      "metadata": {
        "colab": {
          "base_uri": "https://localhost:8080/"
        },
        "id": "g4ldcMhJ2HeJ",
        "outputId": "5070d7a7-6bb7-4e66-d7a1-6b2374d88446"
      },
      "execution_count": null,
      "outputs": [
        {
          "output_type": "execute_result",
          "data": {
            "text/plain": [
              "Age       0\n",
              "Pclass    0\n",
              "dtype: int64"
            ]
          },
          "metadata": {},
          "execution_count": 24
        }
      ]
    },
    {
      "cell_type": "code",
      "source": [
        "train[['Age', 'Pclass']].describe()"
      ],
      "metadata": {
        "colab": {
          "base_uri": "https://localhost:8080/",
          "height": 300
        },
        "id": "6QSSCGq_2Ms7",
        "outputId": "ecc028f5-d517-4ab0-b207-3728acf1db7c"
      },
      "execution_count": null,
      "outputs": [
        {
          "output_type": "execute_result",
          "data": {
            "text/plain": [
              "              Age      Pclass\n",
              "count  891.000000  891.000000\n",
              "mean    29.699118    2.308642\n",
              "std     13.002015    0.836071\n",
              "min      0.420000    1.000000\n",
              "25%     22.000000    2.000000\n",
              "50%     29.699118    3.000000\n",
              "75%     35.000000    3.000000\n",
              "max     80.000000    3.000000"
            ],
            "text/html": [
              "\n",
              "  <div id=\"df-2d44ca4a-2bc6-4041-a596-f0853f9fcd0e\">\n",
              "    <div class=\"colab-df-container\">\n",
              "      <div>\n",
              "<style scoped>\n",
              "    .dataframe tbody tr th:only-of-type {\n",
              "        vertical-align: middle;\n",
              "    }\n",
              "\n",
              "    .dataframe tbody tr th {\n",
              "        vertical-align: top;\n",
              "    }\n",
              "\n",
              "    .dataframe thead th {\n",
              "        text-align: right;\n",
              "    }\n",
              "</style>\n",
              "<table border=\"1\" class=\"dataframe\">\n",
              "  <thead>\n",
              "    <tr style=\"text-align: right;\">\n",
              "      <th></th>\n",
              "      <th>Age</th>\n",
              "      <th>Pclass</th>\n",
              "    </tr>\n",
              "  </thead>\n",
              "  <tbody>\n",
              "    <tr>\n",
              "      <th>count</th>\n",
              "      <td>891.000000</td>\n",
              "      <td>891.000000</td>\n",
              "    </tr>\n",
              "    <tr>\n",
              "      <th>mean</th>\n",
              "      <td>29.699118</td>\n",
              "      <td>2.308642</td>\n",
              "    </tr>\n",
              "    <tr>\n",
              "      <th>std</th>\n",
              "      <td>13.002015</td>\n",
              "      <td>0.836071</td>\n",
              "    </tr>\n",
              "    <tr>\n",
              "      <th>min</th>\n",
              "      <td>0.420000</td>\n",
              "      <td>1.000000</td>\n",
              "    </tr>\n",
              "    <tr>\n",
              "      <th>25%</th>\n",
              "      <td>22.000000</td>\n",
              "      <td>2.000000</td>\n",
              "    </tr>\n",
              "    <tr>\n",
              "      <th>50%</th>\n",
              "      <td>29.699118</td>\n",
              "      <td>3.000000</td>\n",
              "    </tr>\n",
              "    <tr>\n",
              "      <th>75%</th>\n",
              "      <td>35.000000</td>\n",
              "      <td>3.000000</td>\n",
              "    </tr>\n",
              "    <tr>\n",
              "      <th>max</th>\n",
              "      <td>80.000000</td>\n",
              "      <td>3.000000</td>\n",
              "    </tr>\n",
              "  </tbody>\n",
              "</table>\n",
              "</div>\n",
              "      <button class=\"colab-df-convert\" onclick=\"convertToInteractive('df-2d44ca4a-2bc6-4041-a596-f0853f9fcd0e')\"\n",
              "              title=\"Convert this dataframe to an interactive table.\"\n",
              "              style=\"display:none;\">\n",
              "        \n",
              "  <svg xmlns=\"http://www.w3.org/2000/svg\" height=\"24px\"viewBox=\"0 0 24 24\"\n",
              "       width=\"24px\">\n",
              "    <path d=\"M0 0h24v24H0V0z\" fill=\"none\"/>\n",
              "    <path d=\"M18.56 5.44l.94 2.06.94-2.06 2.06-.94-2.06-.94-.94-2.06-.94 2.06-2.06.94zm-11 1L8.5 8.5l.94-2.06 2.06-.94-2.06-.94L8.5 2.5l-.94 2.06-2.06.94zm10 10l.94 2.06.94-2.06 2.06-.94-2.06-.94-.94-2.06-.94 2.06-2.06.94z\"/><path d=\"M17.41 7.96l-1.37-1.37c-.4-.4-.92-.59-1.43-.59-.52 0-1.04.2-1.43.59L10.3 9.45l-7.72 7.72c-.78.78-.78 2.05 0 2.83L4 21.41c.39.39.9.59 1.41.59.51 0 1.02-.2 1.41-.59l7.78-7.78 2.81-2.81c.8-.78.8-2.07 0-2.86zM5.41 20L4 18.59l7.72-7.72 1.47 1.35L5.41 20z\"/>\n",
              "  </svg>\n",
              "      </button>\n",
              "      \n",
              "  <style>\n",
              "    .colab-df-container {\n",
              "      display:flex;\n",
              "      flex-wrap:wrap;\n",
              "      gap: 12px;\n",
              "    }\n",
              "\n",
              "    .colab-df-convert {\n",
              "      background-color: #E8F0FE;\n",
              "      border: none;\n",
              "      border-radius: 50%;\n",
              "      cursor: pointer;\n",
              "      display: none;\n",
              "      fill: #1967D2;\n",
              "      height: 32px;\n",
              "      padding: 0 0 0 0;\n",
              "      width: 32px;\n",
              "    }\n",
              "\n",
              "    .colab-df-convert:hover {\n",
              "      background-color: #E2EBFA;\n",
              "      box-shadow: 0px 1px 2px rgba(60, 64, 67, 0.3), 0px 1px 3px 1px rgba(60, 64, 67, 0.15);\n",
              "      fill: #174EA6;\n",
              "    }\n",
              "\n",
              "    [theme=dark] .colab-df-convert {\n",
              "      background-color: #3B4455;\n",
              "      fill: #D2E3FC;\n",
              "    }\n",
              "\n",
              "    [theme=dark] .colab-df-convert:hover {\n",
              "      background-color: #434B5C;\n",
              "      box-shadow: 0px 1px 3px 1px rgba(0, 0, 0, 0.15);\n",
              "      filter: drop-shadow(0px 1px 2px rgba(0, 0, 0, 0.3));\n",
              "      fill: #FFFFFF;\n",
              "    }\n",
              "  </style>\n",
              "\n",
              "      <script>\n",
              "        const buttonEl =\n",
              "          document.querySelector('#df-2d44ca4a-2bc6-4041-a596-f0853f9fcd0e button.colab-df-convert');\n",
              "        buttonEl.style.display =\n",
              "          google.colab.kernel.accessAllowed ? 'block' : 'none';\n",
              "\n",
              "        async function convertToInteractive(key) {\n",
              "          const element = document.querySelector('#df-2d44ca4a-2bc6-4041-a596-f0853f9fcd0e');\n",
              "          const dataTable =\n",
              "            await google.colab.kernel.invokeFunction('convertToInteractive',\n",
              "                                                     [key], {});\n",
              "          if (!dataTable) return;\n",
              "\n",
              "          const docLinkHtml = 'Like what you see? Visit the ' +\n",
              "            '<a target=\"_blank\" href=https://colab.research.google.com/notebooks/data_table.ipynb>data table notebook</a>'\n",
              "            + ' to learn more about interactive tables.';\n",
              "          element.innerHTML = '';\n",
              "          dataTable['output_type'] = 'display_data';\n",
              "          await google.colab.output.renderOutput(dataTable, element);\n",
              "          const docLink = document.createElement('div');\n",
              "          docLink.innerHTML = docLinkHtml;\n",
              "          element.appendChild(docLink);\n",
              "        }\n",
              "      </script>\n",
              "    </div>\n",
              "  </div>\n",
              "  "
            ]
          },
          "metadata": {},
          "execution_count": 25
        }
      ]
    },
    {
      "cell_type": "code",
      "source": [
        "##################################################################"
      ],
      "metadata": {
        "id": "GxRzrE6G2jys"
      },
      "execution_count": null,
      "outputs": []
    },
    {
      "cell_type": "code",
      "source": [
        "train['Embarked'].fillna('S')"
      ],
      "metadata": {
        "colab": {
          "base_uri": "https://localhost:8080/"
        },
        "id": "N3TDzQZ33m6u",
        "outputId": "a27fcfe2-f9c9-4094-bd44-24deed8b75ab"
      },
      "execution_count": null,
      "outputs": [
        {
          "output_type": "execute_result",
          "data": {
            "text/plain": [
              "0      S\n",
              "1      C\n",
              "2      S\n",
              "3      S\n",
              "4      S\n",
              "      ..\n",
              "886    S\n",
              "887    S\n",
              "888    S\n",
              "889    C\n",
              "890    Q\n",
              "Name: Embarked, Length: 891, dtype: object"
            ]
          },
          "metadata": {},
          "execution_count": 27
        }
      ]
    },
    {
      "cell_type": "code",
      "source": [
        "# 최빈값이용해서 null값을 채우고, 데이터를 적용하기\n",
        "\n",
        "imputer = SimpleImputer(strategy='most_frequent')\n",
        "\n",
        "result = imputer.fit_transform(train[['Embarked', 'Cabin']])"
      ],
      "metadata": {
        "id": "fd_wWB1Z3ulJ"
      },
      "execution_count": null,
      "outputs": []
    },
    {
      "cell_type": "code",
      "source": [
        "train[['Embarked', 'Cabin']] = result"
      ],
      "metadata": {
        "id": "W8BeSjKr4Nwe"
      },
      "execution_count": null,
      "outputs": []
    },
    {
      "cell_type": "code",
      "source": [
        "train[['Embarked', 'Cabin']].isnull().sum()"
      ],
      "metadata": {
        "colab": {
          "base_uri": "https://localhost:8080/"
        },
        "id": "3DSb-Y1v4R9h",
        "outputId": "0709c090-1891-49d5-ade6-93b0a59889cd"
      },
      "execution_count": null,
      "outputs": [
        {
          "output_type": "execute_result",
          "data": {
            "text/plain": [
              "Embarked    0\n",
              "Cabin       0\n",
              "dtype: int64"
            ]
          },
          "metadata": {},
          "execution_count": 54
        }
      ]
    },
    {
      "cell_type": "markdown",
      "source": [
        "# 4. Lable Encoding"
      ],
      "metadata": {
        "id": "jiIW9QAG4zGA"
      }
    },
    {
      "cell_type": "markdown",
      "source": [
        "* 문자(Categorical)를 수치(Numerical)로 변환"
      ],
      "metadata": {
        "id": "AmP8FNgc42KU"
      }
    },
    {
      "cell_type": "code",
      "source": [
        "train.info()"
      ],
      "metadata": {
        "colab": {
          "base_uri": "https://localhost:8080/"
        },
        "id": "68pI0v4x4VNA",
        "outputId": "5a0b9742-d9f6-4b64-a26e-b345fb446990"
      },
      "execution_count": null,
      "outputs": [
        {
          "output_type": "stream",
          "name": "stdout",
          "text": [
            "<class 'pandas.core.frame.DataFrame'>\n",
            "RangeIndex: 891 entries, 0 to 890\n",
            "Data columns (total 12 columns):\n",
            " #   Column       Non-Null Count  Dtype  \n",
            "---  ------       --------------  -----  \n",
            " 0   PassengerId  891 non-null    int64  \n",
            " 1   Survived     891 non-null    int64  \n",
            " 2   Pclass       891 non-null    float64\n",
            " 3   Name         891 non-null    object \n",
            " 4   Sex          891 non-null    object \n",
            " 5   Age          891 non-null    float64\n",
            " 6   SibSp        891 non-null    int64  \n",
            " 7   Parch        891 non-null    int64  \n",
            " 8   Ticket       891 non-null    object \n",
            " 9   Fare         891 non-null    float64\n",
            " 10  Cabin        891 non-null    object \n",
            " 11  Embarked     891 non-null    object \n",
            "dtypes: float64(3), int64(4), object(5)\n",
            "memory usage: 83.7+ KB\n"
          ]
        }
      ]
    },
    {
      "cell_type": "code",
      "source": [
        "def convert(data):\n",
        "  if data == 'male':\n",
        "    return 1\n",
        "  elif data == 'female':\n",
        "    return 0\n",
        "    "
      ],
      "metadata": {
        "id": "ugj-4Xg15GaR"
      },
      "execution_count": null,
      "outputs": []
    },
    {
      "cell_type": "code",
      "source": [
        "train['Sex'].value_counts()"
      ],
      "metadata": {
        "colab": {
          "base_uri": "https://localhost:8080/"
        },
        "id": "4hRsYYLB5lVi",
        "outputId": "5e40faa7-8524-4a40-c8b8-021d61818b4c"
      },
      "execution_count": null,
      "outputs": [
        {
          "output_type": "execute_result",
          "data": {
            "text/plain": [
              "male      577\n",
              "female    314\n",
              "Name: Sex, dtype: int64"
            ]
          },
          "metadata": {},
          "execution_count": 34
        }
      ]
    },
    {
      "cell_type": "code",
      "source": [
        "train['Sex'].apply(convert)"
      ],
      "metadata": {
        "colab": {
          "base_uri": "https://localhost:8080/"
        },
        "id": "bu5FaujM5onQ",
        "outputId": "8fd1866d-c843-4093-f9fb-0ed0855b5c87"
      },
      "execution_count": null,
      "outputs": [
        {
          "output_type": "execute_result",
          "data": {
            "text/plain": [
              "0      1\n",
              "1      0\n",
              "2      0\n",
              "3      0\n",
              "4      1\n",
              "      ..\n",
              "886    1\n",
              "887    0\n",
              "888    0\n",
              "889    1\n",
              "890    1\n",
              "Name: Sex, Length: 891, dtype: int64"
            ]
          },
          "metadata": {},
          "execution_count": 35
        }
      ]
    },
    {
      "cell_type": "code",
      "source": [
        "####################### 위와 아래의 작업이 같음"
      ],
      "metadata": {
        "id": "XdaidgtLoz79"
      },
      "execution_count": null,
      "outputs": []
    },
    {
      "cell_type": "code",
      "source": [
        "from sklearn.preprocessing import LabelEncoder"
      ],
      "metadata": {
        "id": "AimjI2_j5uek"
      },
      "execution_count": null,
      "outputs": []
    },
    {
      "cell_type": "code",
      "source": [
        "le = LabelEncoder()"
      ],
      "metadata": {
        "id": "gztWrysO6LOI"
      },
      "execution_count": null,
      "outputs": []
    },
    {
      "cell_type": "code",
      "source": [
        "train['Sex_num'] = le.fit_transform(train['Sex'])   # train에 성별변수(Sex_num)를 만들고 거기에다가 학습을 시켜서\n",
        "\n",
        "# "
      ],
      "metadata": {
        "id": "zO58h5fq6OAm"
      },
      "execution_count": null,
      "outputs": []
    },
    {
      "cell_type": "code",
      "source": [
        "train['Sex_num'].value_counts()"
      ],
      "metadata": {
        "colab": {
          "base_uri": "https://localhost:8080/"
        },
        "id": "RWOofkSC6YyQ",
        "outputId": "4dc97f44-e6a7-42c6-ad7d-c890a5ff3b73"
      },
      "execution_count": null,
      "outputs": [
        {
          "output_type": "execute_result",
          "data": {
            "text/plain": [
              "1    577\n",
              "0    314\n",
              "Name: Sex_num, dtype: int64"
            ]
          },
          "metadata": {},
          "execution_count": 39
        }
      ]
    },
    {
      "cell_type": "code",
      "source": [
        "# 뭐가 라벨인코딩을 통해서 1과 0으로 만들었는지 알고싶다면\n",
        "\n",
        "le.classes_"
      ],
      "metadata": {
        "colab": {
          "base_uri": "https://localhost:8080/"
        },
        "id": "y6c1mOGaBmWP",
        "outputId": "5ef536e6-53d5-4b03-f787-f2d8e844bfdb"
      },
      "execution_count": null,
      "outputs": [
        {
          "output_type": "execute_result",
          "data": {
            "text/plain": [
              "array(['female', 'male'], dtype=object)"
            ]
          },
          "metadata": {},
          "execution_count": 40
        }
      ]
    },
    {
      "cell_type": "code",
      "source": [
        "# 반대로 확인하고싶다면\n",
        "\n",
        "le.inverse_transform([0, 1, 1, 0, 0, 1, 1])"
      ],
      "metadata": {
        "colab": {
          "base_uri": "https://localhost:8080/"
        },
        "id": "tDX-n5eJB3Wp",
        "outputId": "5b0ef3c1-41a4-4730-fd4f-e93305830317"
      },
      "execution_count": null,
      "outputs": [
        {
          "output_type": "execute_result",
          "data": {
            "text/plain": [
              "array(['female', 'male', 'male', 'female', 'female', 'male', 'male'],\n",
              "      dtype=object)"
            ]
          },
          "metadata": {},
          "execution_count": 41
        }
      ]
    },
    {
      "cell_type": "code",
      "source": [
        "# 탑승항구 알파벳이 숫자로 바꿔주고싶으면\n",
        "\n",
        "le.fit_transform(train['Embarked'])"
      ],
      "metadata": {
        "colab": {
          "base_uri": "https://localhost:8080/"
        },
        "id": "IwH9dMD4CNlq",
        "outputId": "6dd2c39f-2910-478e-ceb9-cb32101d295a"
      },
      "execution_count": null,
      "outputs": [
        {
          "output_type": "execute_result",
          "data": {
            "text/plain": [
              "array([2, 0, 2, 2, 2, 1, 2, 2, 2, 0, 2, 2, 2, 2, 2, 2, 1, 2, 2, 0, 2, 2,\n",
              "       1, 2, 2, 2, 0, 2, 1, 2, 0, 0, 1, 2, 0, 2, 0, 2, 2, 0, 2, 2, 0, 0,\n",
              "       1, 2, 1, 1, 0, 2, 2, 2, 0, 2, 0, 2, 2, 0, 2, 2, 0, 2, 2, 2, 0, 0,\n",
              "       2, 2, 2, 2, 2, 2, 2, 0, 2, 2, 2, 2, 2, 2, 2, 2, 1, 2, 2, 2, 2, 2,\n",
              "       2, 2, 2, 2, 2, 2, 2, 2, 0, 0, 2, 2, 2, 2, 2, 2, 2, 2, 2, 2, 2, 1,\n",
              "       2, 0, 2, 2, 0, 2, 1, 2, 0, 2, 2, 2, 0, 2, 2, 0, 1, 2, 0, 2, 0, 2,\n",
              "       2, 2, 2, 0, 2, 2, 2, 0, 0, 2, 2, 1, 2, 2, 2, 2, 2, 2, 2, 2, 2, 2,\n",
              "       2, 0, 1, 2, 2, 2, 2, 2, 2, 2, 2, 2, 2, 2, 2, 2, 2, 1, 2, 2, 0, 2,\n",
              "       2, 0, 2, 2, 2, 0, 2, 2, 2, 2, 1, 2, 1, 2, 2, 2, 2, 2, 0, 0, 1, 2,\n",
              "       1, 2, 2, 2, 2, 0, 2, 2, 2, 0, 1, 0, 2, 2, 2, 2, 1, 0, 2, 2, 0, 2,\n",
              "       2, 2, 2, 2, 2, 2, 2, 2, 2, 2, 2, 2, 2, 2, 2, 2, 2, 2, 2, 2, 0, 1,\n",
              "       2, 2, 0, 1, 2, 2, 2, 2, 2, 2, 2, 2, 2, 0, 0, 2, 0, 2, 1, 2, 2, 2,\n",
              "       1, 2, 2, 2, 2, 2, 2, 2, 2, 0, 1, 2, 2, 2, 1, 2, 1, 2, 2, 2, 2, 0,\n",
              "       2, 2, 2, 1, 2, 0, 0, 2, 2, 0, 0, 2, 2, 0, 1, 1, 2, 1, 2, 2, 0, 0,\n",
              "       0, 0, 0, 0, 2, 2, 2, 2, 2, 2, 2, 0, 2, 2, 1, 2, 2, 0, 2, 2, 2, 0,\n",
              "       1, 2, 2, 2, 2, 2, 2, 0, 2, 2, 2, 2, 2, 2, 2, 2, 2, 2, 2, 2, 2, 2,\n",
              "       0, 2, 0, 2, 2, 2, 1, 1, 2, 0, 0, 2, 1, 2, 0, 0, 1, 0, 0, 2, 2, 0,\n",
              "       2, 0, 2, 0, 0, 2, 0, 0, 2, 2, 2, 2, 2, 2, 1, 0, 2, 2, 2, 0, 2, 2,\n",
              "       2, 2, 2, 2, 2, 2, 2, 2, 2, 2, 2, 2, 2, 2, 2, 1, 1, 2, 2, 2, 2, 2,\n",
              "       2, 2, 0, 1, 2, 2, 2, 2, 2, 2, 1, 2, 2, 2, 2, 2, 2, 2, 2, 2, 2, 2,\n",
              "       2, 2, 2, 2, 2, 2, 2, 2, 0, 2, 2, 2, 0, 0, 2, 0, 2, 2, 2, 1, 2, 2,\n",
              "       2, 2, 2, 2, 2, 2, 1, 0, 2, 2, 2, 0, 2, 2, 2, 2, 2, 2, 2, 2, 2, 2,\n",
              "       0, 2, 2, 0, 2, 2, 2, 2, 2, 0, 2, 0, 0, 2, 2, 2, 2, 1, 1, 2, 2, 0,\n",
              "       2, 2, 2, 2, 1, 2, 2, 0, 2, 2, 2, 1, 2, 2, 2, 2, 0, 0, 0, 1, 2, 2,\n",
              "       2, 2, 2, 0, 0, 0, 2, 2, 2, 0, 2, 0, 2, 2, 2, 2, 0, 2, 2, 0, 2, 2,\n",
              "       0, 2, 1, 0, 2, 2, 0, 0, 2, 2, 1, 2, 2, 2, 2, 2, 2, 2, 0, 2, 2, 2,\n",
              "       2, 1, 2, 2, 2, 2, 0, 2, 2, 0, 2, 0, 0, 2, 2, 0, 2, 2, 2, 0, 2, 1,\n",
              "       2, 2, 2, 2, 0, 0, 2, 2, 2, 2, 0, 2, 2, 2, 0, 2, 2, 2, 1, 1, 2, 2,\n",
              "       2, 2, 2, 2, 0, 2, 0, 2, 2, 2, 1, 2, 2, 1, 2, 2, 0, 2, 2, 2, 2, 2,\n",
              "       2, 2, 2, 0, 2, 2, 0, 0, 2, 0, 2, 2, 2, 2, 2, 1, 1, 2, 2, 1, 2, 0,\n",
              "       2, 0, 2, 2, 2, 2, 2, 2, 2, 2, 2, 2, 2, 2, 2, 2, 2, 2, 2, 0, 1, 0,\n",
              "       2, 2, 2, 0, 2, 2, 2, 2, 2, 0, 2, 0, 2, 2, 2, 1, 0, 2, 0, 2, 0, 1,\n",
              "       2, 2, 2, 2, 2, 0, 0, 2, 2, 2, 2, 2, 0, 2, 1, 2, 2, 2, 2, 2, 2, 2,\n",
              "       2, 1, 2, 2, 2, 0, 2, 2, 2, 2, 2, 0, 2, 2, 2, 2, 0, 2, 2, 2, 2, 2,\n",
              "       2, 1, 2, 2, 2, 2, 2, 2, 2, 2, 2, 2, 2, 2, 0, 2, 2, 2, 0, 1, 1, 2,\n",
              "       2, 2, 2, 0, 2, 2, 1, 2, 1, 2, 0, 2, 2, 2, 2, 2, 2, 1, 2, 0, 1, 2,\n",
              "       2, 0, 2, 2, 2, 2, 0, 2, 2, 2, 2, 0, 2, 2, 2, 2, 2, 2, 2, 2, 2, 2,\n",
              "       2, 2, 2, 0, 2, 2, 2, 2, 2, 2, 2, 1, 2, 0, 1, 2, 0, 2, 0, 2, 2, 0,\n",
              "       2, 2, 2, 0, 2, 2, 0, 0, 2, 2, 2, 0, 2, 0, 2, 2, 0, 2, 2, 2, 2, 2,\n",
              "       0, 0, 2, 2, 2, 2, 2, 2, 0, 2, 2, 2, 2, 2, 2, 2, 0, 0, 2, 2, 2, 0,\n",
              "       2, 2, 2, 2, 2, 1, 2, 2, 2, 0, 1])"
            ]
          },
          "metadata": {},
          "execution_count": 42
        }
      ]
    },
    {
      "cell_type": "code",
      "source": [
        "le.classes_"
      ],
      "metadata": {
        "colab": {
          "base_uri": "https://localhost:8080/"
        },
        "id": "cMS1hhbGChvP",
        "outputId": "0fbae1ff-1f5e-4958-f11c-ca005fc9a3f3"
      },
      "execution_count": null,
      "outputs": [
        {
          "output_type": "execute_result",
          "data": {
            "text/plain": [
              "array(['C', 'Q', 'S'], dtype=object)"
            ]
          },
          "metadata": {},
          "execution_count": 43
        }
      ]
    },
    {
      "cell_type": "markdown",
      "source": [
        "# 5. One Hot Encoding"
      ],
      "metadata": {
        "id": "B6qdsHBtDF03"
      }
    },
    {
      "cell_type": "code",
      "source": [
        "# 위에서 값이 변했기때문에 깨끗한 데이터를 가져오기\n",
        "\n",
        "train = pd.read_csv('http://bit.ly/fc-ml-titanic')"
      ],
      "metadata": {
        "id": "CUkn7u5qC5kA"
      },
      "execution_count": null,
      "outputs": []
    },
    {
      "cell_type": "code",
      "source": [
        "train.head()"
      ],
      "metadata": {
        "colab": {
          "base_uri": "https://localhost:8080/",
          "height": 250
        },
        "id": "j_xY4kEdDWko",
        "outputId": "07e8054a-9126-48f2-f1a1-f18d3db11aec"
      },
      "execution_count": null,
      "outputs": [
        {
          "output_type": "execute_result",
          "data": {
            "text/plain": [
              "   PassengerId  Survived  Pclass  \\\n",
              "0            1         0       3   \n",
              "1            2         1       1   \n",
              "2            3         1       3   \n",
              "3            4         1       1   \n",
              "4            5         0       3   \n",
              "\n",
              "                                                Name     Sex   Age  SibSp  \\\n",
              "0                            Braund, Mr. Owen Harris    male  22.0      1   \n",
              "1  Cumings, Mrs. John Bradley (Florence Briggs Th...  female  38.0      1   \n",
              "2                             Heikkinen, Miss. Laina  female  26.0      0   \n",
              "3       Futrelle, Mrs. Jacques Heath (Lily May Peel)  female  35.0      1   \n",
              "4                           Allen, Mr. William Henry    male  35.0      0   \n",
              "\n",
              "   Parch            Ticket     Fare Cabin Embarked  \n",
              "0      0         A/5 21171   7.2500   NaN        S  \n",
              "1      0          PC 17599  71.2833   C85        C  \n",
              "2      0  STON/O2. 3101282   7.9250   NaN        S  \n",
              "3      0            113803  53.1000  C123        S  \n",
              "4      0            373450   8.0500   NaN        S  "
            ],
            "text/html": [
              "\n",
              "  <div id=\"df-24f3f4e9-631a-4269-90b8-656be6f62407\">\n",
              "    <div class=\"colab-df-container\">\n",
              "      <div>\n",
              "<style scoped>\n",
              "    .dataframe tbody tr th:only-of-type {\n",
              "        vertical-align: middle;\n",
              "    }\n",
              "\n",
              "    .dataframe tbody tr th {\n",
              "        vertical-align: top;\n",
              "    }\n",
              "\n",
              "    .dataframe thead th {\n",
              "        text-align: right;\n",
              "    }\n",
              "</style>\n",
              "<table border=\"1\" class=\"dataframe\">\n",
              "  <thead>\n",
              "    <tr style=\"text-align: right;\">\n",
              "      <th></th>\n",
              "      <th>PassengerId</th>\n",
              "      <th>Survived</th>\n",
              "      <th>Pclass</th>\n",
              "      <th>Name</th>\n",
              "      <th>Sex</th>\n",
              "      <th>Age</th>\n",
              "      <th>SibSp</th>\n",
              "      <th>Parch</th>\n",
              "      <th>Ticket</th>\n",
              "      <th>Fare</th>\n",
              "      <th>Cabin</th>\n",
              "      <th>Embarked</th>\n",
              "    </tr>\n",
              "  </thead>\n",
              "  <tbody>\n",
              "    <tr>\n",
              "      <th>0</th>\n",
              "      <td>1</td>\n",
              "      <td>0</td>\n",
              "      <td>3</td>\n",
              "      <td>Braund, Mr. Owen Harris</td>\n",
              "      <td>male</td>\n",
              "      <td>22.0</td>\n",
              "      <td>1</td>\n",
              "      <td>0</td>\n",
              "      <td>A/5 21171</td>\n",
              "      <td>7.2500</td>\n",
              "      <td>NaN</td>\n",
              "      <td>S</td>\n",
              "    </tr>\n",
              "    <tr>\n",
              "      <th>1</th>\n",
              "      <td>2</td>\n",
              "      <td>1</td>\n",
              "      <td>1</td>\n",
              "      <td>Cumings, Mrs. John Bradley (Florence Briggs Th...</td>\n",
              "      <td>female</td>\n",
              "      <td>38.0</td>\n",
              "      <td>1</td>\n",
              "      <td>0</td>\n",
              "      <td>PC 17599</td>\n",
              "      <td>71.2833</td>\n",
              "      <td>C85</td>\n",
              "      <td>C</td>\n",
              "    </tr>\n",
              "    <tr>\n",
              "      <th>2</th>\n",
              "      <td>3</td>\n",
              "      <td>1</td>\n",
              "      <td>3</td>\n",
              "      <td>Heikkinen, Miss. Laina</td>\n",
              "      <td>female</td>\n",
              "      <td>26.0</td>\n",
              "      <td>0</td>\n",
              "      <td>0</td>\n",
              "      <td>STON/O2. 3101282</td>\n",
              "      <td>7.9250</td>\n",
              "      <td>NaN</td>\n",
              "      <td>S</td>\n",
              "    </tr>\n",
              "    <tr>\n",
              "      <th>3</th>\n",
              "      <td>4</td>\n",
              "      <td>1</td>\n",
              "      <td>1</td>\n",
              "      <td>Futrelle, Mrs. Jacques Heath (Lily May Peel)</td>\n",
              "      <td>female</td>\n",
              "      <td>35.0</td>\n",
              "      <td>1</td>\n",
              "      <td>0</td>\n",
              "      <td>113803</td>\n",
              "      <td>53.1000</td>\n",
              "      <td>C123</td>\n",
              "      <td>S</td>\n",
              "    </tr>\n",
              "    <tr>\n",
              "      <th>4</th>\n",
              "      <td>5</td>\n",
              "      <td>0</td>\n",
              "      <td>3</td>\n",
              "      <td>Allen, Mr. William Henry</td>\n",
              "      <td>male</td>\n",
              "      <td>35.0</td>\n",
              "      <td>0</td>\n",
              "      <td>0</td>\n",
              "      <td>373450</td>\n",
              "      <td>8.0500</td>\n",
              "      <td>NaN</td>\n",
              "      <td>S</td>\n",
              "    </tr>\n",
              "  </tbody>\n",
              "</table>\n",
              "</div>\n",
              "      <button class=\"colab-df-convert\" onclick=\"convertToInteractive('df-24f3f4e9-631a-4269-90b8-656be6f62407')\"\n",
              "              title=\"Convert this dataframe to an interactive table.\"\n",
              "              style=\"display:none;\">\n",
              "        \n",
              "  <svg xmlns=\"http://www.w3.org/2000/svg\" height=\"24px\"viewBox=\"0 0 24 24\"\n",
              "       width=\"24px\">\n",
              "    <path d=\"M0 0h24v24H0V0z\" fill=\"none\"/>\n",
              "    <path d=\"M18.56 5.44l.94 2.06.94-2.06 2.06-.94-2.06-.94-.94-2.06-.94 2.06-2.06.94zm-11 1L8.5 8.5l.94-2.06 2.06-.94-2.06-.94L8.5 2.5l-.94 2.06-2.06.94zm10 10l.94 2.06.94-2.06 2.06-.94-2.06-.94-.94-2.06-.94 2.06-2.06.94z\"/><path d=\"M17.41 7.96l-1.37-1.37c-.4-.4-.92-.59-1.43-.59-.52 0-1.04.2-1.43.59L10.3 9.45l-7.72 7.72c-.78.78-.78 2.05 0 2.83L4 21.41c.39.39.9.59 1.41.59.51 0 1.02-.2 1.41-.59l7.78-7.78 2.81-2.81c.8-.78.8-2.07 0-2.86zM5.41 20L4 18.59l7.72-7.72 1.47 1.35L5.41 20z\"/>\n",
              "  </svg>\n",
              "      </button>\n",
              "      \n",
              "  <style>\n",
              "    .colab-df-container {\n",
              "      display:flex;\n",
              "      flex-wrap:wrap;\n",
              "      gap: 12px;\n",
              "    }\n",
              "\n",
              "    .colab-df-convert {\n",
              "      background-color: #E8F0FE;\n",
              "      border: none;\n",
              "      border-radius: 50%;\n",
              "      cursor: pointer;\n",
              "      display: none;\n",
              "      fill: #1967D2;\n",
              "      height: 32px;\n",
              "      padding: 0 0 0 0;\n",
              "      width: 32px;\n",
              "    }\n",
              "\n",
              "    .colab-df-convert:hover {\n",
              "      background-color: #E2EBFA;\n",
              "      box-shadow: 0px 1px 2px rgba(60, 64, 67, 0.3), 0px 1px 3px 1px rgba(60, 64, 67, 0.15);\n",
              "      fill: #174EA6;\n",
              "    }\n",
              "\n",
              "    [theme=dark] .colab-df-convert {\n",
              "      background-color: #3B4455;\n",
              "      fill: #D2E3FC;\n",
              "    }\n",
              "\n",
              "    [theme=dark] .colab-df-convert:hover {\n",
              "      background-color: #434B5C;\n",
              "      box-shadow: 0px 1px 3px 1px rgba(0, 0, 0, 0.15);\n",
              "      filter: drop-shadow(0px 1px 2px rgba(0, 0, 0, 0.3));\n",
              "      fill: #FFFFFF;\n",
              "    }\n",
              "  </style>\n",
              "\n",
              "      <script>\n",
              "        const buttonEl =\n",
              "          document.querySelector('#df-24f3f4e9-631a-4269-90b8-656be6f62407 button.colab-df-convert');\n",
              "        buttonEl.style.display =\n",
              "          google.colab.kernel.accessAllowed ? 'block' : 'none';\n",
              "\n",
              "        async function convertToInteractive(key) {\n",
              "          const element = document.querySelector('#df-24f3f4e9-631a-4269-90b8-656be6f62407');\n",
              "          const dataTable =\n",
              "            await google.colab.kernel.invokeFunction('convertToInteractive',\n",
              "                                                     [key], {});\n",
              "          if (!dataTable) return;\n",
              "\n",
              "          const docLinkHtml = 'Like what you see? Visit the ' +\n",
              "            '<a target=\"_blank\" href=https://colab.research.google.com/notebooks/data_table.ipynb>data table notebook</a>'\n",
              "            + ' to learn more about interactive tables.';\n",
              "          element.innerHTML = '';\n",
              "          dataTable['output_type'] = 'display_data';\n",
              "          await google.colab.output.renderOutput(dataTable, element);\n",
              "          const docLink = document.createElement('div');\n",
              "          docLink.innerHTML = docLinkHtml;\n",
              "          element.appendChild(docLink);\n",
              "        }\n",
              "      </script>\n",
              "    </div>\n",
              "  </div>\n",
              "  "
            ]
          },
          "metadata": {},
          "execution_count": 45
        }
      ]
    },
    {
      "cell_type": "code",
      "source": [
        "# 탑승항구를 가지고 값이 몇개가 있는지 확인하기\n",
        "\n",
        "train['Embarked'].value_counts()"
      ],
      "metadata": {
        "colab": {
          "base_uri": "https://localhost:8080/"
        },
        "id": "VojqwttVDY_c",
        "outputId": "50ad0221-b5b5-4e0d-de85-16ce2b4ddad2"
      },
      "execution_count": null,
      "outputs": [
        {
          "output_type": "execute_result",
          "data": {
            "text/plain": [
              "S    644\n",
              "C    168\n",
              "Q     77\n",
              "Name: Embarked, dtype: int64"
            ]
          },
          "metadata": {},
          "execution_count": 46
        }
      ]
    },
    {
      "cell_type": "code",
      "source": [
        "train.info()"
      ],
      "metadata": {
        "colab": {
          "base_uri": "https://localhost:8080/"
        },
        "id": "-MOaym9IDeKl",
        "outputId": "fe8d766a-af9f-464a-cc4d-10f5cb60ac22"
      },
      "execution_count": null,
      "outputs": [
        {
          "output_type": "stream",
          "name": "stdout",
          "text": [
            "<class 'pandas.core.frame.DataFrame'>\n",
            "RangeIndex: 891 entries, 0 to 890\n",
            "Data columns (total 12 columns):\n",
            " #   Column       Non-Null Count  Dtype  \n",
            "---  ------       --------------  -----  \n",
            " 0   PassengerId  891 non-null    int64  \n",
            " 1   Survived     891 non-null    int64  \n",
            " 2   Pclass       891 non-null    int64  \n",
            " 3   Name         891 non-null    object \n",
            " 4   Sex          891 non-null    object \n",
            " 5   Age          714 non-null    float64\n",
            " 6   SibSp        891 non-null    int64  \n",
            " 7   Parch        891 non-null    int64  \n",
            " 8   Ticket       891 non-null    object \n",
            " 9   Fare         891 non-null    float64\n",
            " 10  Cabin        204 non-null    object \n",
            " 11  Embarked     889 non-null    object \n",
            "dtypes: float64(2), int64(5), object(5)\n",
            "memory usage: 83.7+ KB\n"
          ]
        }
      ]
    },
    {
      "cell_type": "code",
      "source": [
        "# Nan 값을 'S'로 변환\n",
        "\n",
        "train['Embarked'] = train['Embarked'].fillna('S')"
      ],
      "metadata": {
        "id": "e1KqIXZ4EfPw"
      },
      "execution_count": null,
      "outputs": []
    },
    {
      "cell_type": "code",
      "source": [
        "from sklearn.preprocessing import LabelEncoder\n",
        "\n",
        "\n",
        "\n",
        "# 탑승항구를 라벨인코딩하기\n",
        "\n",
        "train['Embarked_num'] = LabelEncoder().fit_transform(train['Embarked'])\n",
        "# 라벨인코더 변수안만들고 쓰는방법 : LabelEncoder()를 쓴다"
      ],
      "metadata": {
        "id": "f_SdxGhtDig9"
      },
      "execution_count": null,
      "outputs": []
    },
    {
      "cell_type": "code",
      "source": [
        "train['Embarked_num'].value_counts()"
      ],
      "metadata": {
        "colab": {
          "base_uri": "https://localhost:8080/"
        },
        "id": "ND6o5Dj3ELwP",
        "outputId": "6aedd06e-af63-4989-acff-e18b3c055b14"
      },
      "execution_count": null,
      "outputs": [
        {
          "output_type": "execute_result",
          "data": {
            "text/plain": [
              "2    646\n",
              "0    168\n",
              "1     77\n",
              "Name: Embarked_num, dtype: int64"
            ]
          },
          "metadata": {},
          "execution_count": 50
        }
      ]
    },
    {
      "cell_type": "code",
      "source": [
        "# 'S' = 2, 'Q' = 1, 'C' = 0\n",
        "# 머신러닝은 위 데이터의 관계성을 찾아서 Q + Q = S 라고 학습을 할 수 있음\n",
        "# 따라서 독립적인 데이터는 별도의 column으로 분리하고 각각의 컬럼에 해당 값에만 True, 나머지를 False값을 같게하는 기술을 적용(원 핫 인코딩)\n",
        "# 관계성을 갖지않게끔 행렬로 만들어서 처리\n",
        "# 수식이 아니라 카테고리컬하게 만드는 것이 원핫인코딩\n",
        "\n",
        "pd.get_dummies(train['Embarked_num'])[:5]"
      ],
      "metadata": {
        "colab": {
          "base_uri": "https://localhost:8080/",
          "height": 206
        },
        "id": "FTJNf0EJEVSZ",
        "outputId": "3b6dff9a-fb45-40fe-fff1-245a45e947b0"
      },
      "execution_count": null,
      "outputs": [
        {
          "output_type": "execute_result",
          "data": {
            "text/plain": [
              "   0  1  2\n",
              "0  0  0  1\n",
              "1  1  0  0\n",
              "2  0  0  1\n",
              "3  0  0  1\n",
              "4  0  0  1"
            ],
            "text/html": [
              "\n",
              "  <div id=\"df-bb5d4264-fb62-4161-a5c8-f300b9dfcda9\">\n",
              "    <div class=\"colab-df-container\">\n",
              "      <div>\n",
              "<style scoped>\n",
              "    .dataframe tbody tr th:only-of-type {\n",
              "        vertical-align: middle;\n",
              "    }\n",
              "\n",
              "    .dataframe tbody tr th {\n",
              "        vertical-align: top;\n",
              "    }\n",
              "\n",
              "    .dataframe thead th {\n",
              "        text-align: right;\n",
              "    }\n",
              "</style>\n",
              "<table border=\"1\" class=\"dataframe\">\n",
              "  <thead>\n",
              "    <tr style=\"text-align: right;\">\n",
              "      <th></th>\n",
              "      <th>0</th>\n",
              "      <th>1</th>\n",
              "      <th>2</th>\n",
              "    </tr>\n",
              "  </thead>\n",
              "  <tbody>\n",
              "    <tr>\n",
              "      <th>0</th>\n",
              "      <td>0</td>\n",
              "      <td>0</td>\n",
              "      <td>1</td>\n",
              "    </tr>\n",
              "    <tr>\n",
              "      <th>1</th>\n",
              "      <td>1</td>\n",
              "      <td>0</td>\n",
              "      <td>0</td>\n",
              "    </tr>\n",
              "    <tr>\n",
              "      <th>2</th>\n",
              "      <td>0</td>\n",
              "      <td>0</td>\n",
              "      <td>1</td>\n",
              "    </tr>\n",
              "    <tr>\n",
              "      <th>3</th>\n",
              "      <td>0</td>\n",
              "      <td>0</td>\n",
              "      <td>1</td>\n",
              "    </tr>\n",
              "    <tr>\n",
              "      <th>4</th>\n",
              "      <td>0</td>\n",
              "      <td>0</td>\n",
              "      <td>1</td>\n",
              "    </tr>\n",
              "  </tbody>\n",
              "</table>\n",
              "</div>\n",
              "      <button class=\"colab-df-convert\" onclick=\"convertToInteractive('df-bb5d4264-fb62-4161-a5c8-f300b9dfcda9')\"\n",
              "              title=\"Convert this dataframe to an interactive table.\"\n",
              "              style=\"display:none;\">\n",
              "        \n",
              "  <svg xmlns=\"http://www.w3.org/2000/svg\" height=\"24px\"viewBox=\"0 0 24 24\"\n",
              "       width=\"24px\">\n",
              "    <path d=\"M0 0h24v24H0V0z\" fill=\"none\"/>\n",
              "    <path d=\"M18.56 5.44l.94 2.06.94-2.06 2.06-.94-2.06-.94-.94-2.06-.94 2.06-2.06.94zm-11 1L8.5 8.5l.94-2.06 2.06-.94-2.06-.94L8.5 2.5l-.94 2.06-2.06.94zm10 10l.94 2.06.94-2.06 2.06-.94-2.06-.94-.94-2.06-.94 2.06-2.06.94z\"/><path d=\"M17.41 7.96l-1.37-1.37c-.4-.4-.92-.59-1.43-.59-.52 0-1.04.2-1.43.59L10.3 9.45l-7.72 7.72c-.78.78-.78 2.05 0 2.83L4 21.41c.39.39.9.59 1.41.59.51 0 1.02-.2 1.41-.59l7.78-7.78 2.81-2.81c.8-.78.8-2.07 0-2.86zM5.41 20L4 18.59l7.72-7.72 1.47 1.35L5.41 20z\"/>\n",
              "  </svg>\n",
              "      </button>\n",
              "      \n",
              "  <style>\n",
              "    .colab-df-container {\n",
              "      display:flex;\n",
              "      flex-wrap:wrap;\n",
              "      gap: 12px;\n",
              "    }\n",
              "\n",
              "    .colab-df-convert {\n",
              "      background-color: #E8F0FE;\n",
              "      border: none;\n",
              "      border-radius: 50%;\n",
              "      cursor: pointer;\n",
              "      display: none;\n",
              "      fill: #1967D2;\n",
              "      height: 32px;\n",
              "      padding: 0 0 0 0;\n",
              "      width: 32px;\n",
              "    }\n",
              "\n",
              "    .colab-df-convert:hover {\n",
              "      background-color: #E2EBFA;\n",
              "      box-shadow: 0px 1px 2px rgba(60, 64, 67, 0.3), 0px 1px 3px 1px rgba(60, 64, 67, 0.15);\n",
              "      fill: #174EA6;\n",
              "    }\n",
              "\n",
              "    [theme=dark] .colab-df-convert {\n",
              "      background-color: #3B4455;\n",
              "      fill: #D2E3FC;\n",
              "    }\n",
              "\n",
              "    [theme=dark] .colab-df-convert:hover {\n",
              "      background-color: #434B5C;\n",
              "      box-shadow: 0px 1px 3px 1px rgba(0, 0, 0, 0.15);\n",
              "      filter: drop-shadow(0px 1px 2px rgba(0, 0, 0, 0.3));\n",
              "      fill: #FFFFFF;\n",
              "    }\n",
              "  </style>\n",
              "\n",
              "      <script>\n",
              "        const buttonEl =\n",
              "          document.querySelector('#df-bb5d4264-fb62-4161-a5c8-f300b9dfcda9 button.colab-df-convert');\n",
              "        buttonEl.style.display =\n",
              "          google.colab.kernel.accessAllowed ? 'block' : 'none';\n",
              "\n",
              "        async function convertToInteractive(key) {\n",
              "          const element = document.querySelector('#df-bb5d4264-fb62-4161-a5c8-f300b9dfcda9');\n",
              "          const dataTable =\n",
              "            await google.colab.kernel.invokeFunction('convertToInteractive',\n",
              "                                                     [key], {});\n",
              "          if (!dataTable) return;\n",
              "\n",
              "          const docLinkHtml = 'Like what you see? Visit the ' +\n",
              "            '<a target=\"_blank\" href=https://colab.research.google.com/notebooks/data_table.ipynb>data table notebook</a>'\n",
              "            + ' to learn more about interactive tables.';\n",
              "          element.innerHTML = '';\n",
              "          dataTable['output_type'] = 'display_data';\n",
              "          await google.colab.output.renderOutput(dataTable, element);\n",
              "          const docLink = document.createElement('div');\n",
              "          docLink.innerHTML = docLinkHtml;\n",
              "          element.appendChild(docLink);\n",
              "        }\n",
              "      </script>\n",
              "    </div>\n",
              "  </div>\n",
              "  "
            ]
          },
          "metadata": {},
          "execution_count": 51
        }
      ]
    },
    {
      "cell_type": "code",
      "source": [
        "pd.get_dummies(train['Embarked_num'])"
      ],
      "metadata": {
        "id": "2qVGT05qGI8L",
        "colab": {
          "base_uri": "https://localhost:8080/",
          "height": 424
        },
        "outputId": "0eac81ed-c043-4079-cab2-14879e714b79"
      },
      "execution_count": null,
      "outputs": [
        {
          "output_type": "execute_result",
          "data": {
            "text/plain": [
              "     0  1  2\n",
              "0    0  0  1\n",
              "1    1  0  0\n",
              "2    0  0  1\n",
              "3    0  0  1\n",
              "4    0  0  1\n",
              "..  .. .. ..\n",
              "886  0  0  1\n",
              "887  0  0  1\n",
              "888  0  0  1\n",
              "889  1  0  0\n",
              "890  0  1  0\n",
              "\n",
              "[891 rows x 3 columns]"
            ],
            "text/html": [
              "\n",
              "  <div id=\"df-c35cc33c-5c3c-47ac-b385-2fb6c0cf937d\">\n",
              "    <div class=\"colab-df-container\">\n",
              "      <div>\n",
              "<style scoped>\n",
              "    .dataframe tbody tr th:only-of-type {\n",
              "        vertical-align: middle;\n",
              "    }\n",
              "\n",
              "    .dataframe tbody tr th {\n",
              "        vertical-align: top;\n",
              "    }\n",
              "\n",
              "    .dataframe thead th {\n",
              "        text-align: right;\n",
              "    }\n",
              "</style>\n",
              "<table border=\"1\" class=\"dataframe\">\n",
              "  <thead>\n",
              "    <tr style=\"text-align: right;\">\n",
              "      <th></th>\n",
              "      <th>0</th>\n",
              "      <th>1</th>\n",
              "      <th>2</th>\n",
              "    </tr>\n",
              "  </thead>\n",
              "  <tbody>\n",
              "    <tr>\n",
              "      <th>0</th>\n",
              "      <td>0</td>\n",
              "      <td>0</td>\n",
              "      <td>1</td>\n",
              "    </tr>\n",
              "    <tr>\n",
              "      <th>1</th>\n",
              "      <td>1</td>\n",
              "      <td>0</td>\n",
              "      <td>0</td>\n",
              "    </tr>\n",
              "    <tr>\n",
              "      <th>2</th>\n",
              "      <td>0</td>\n",
              "      <td>0</td>\n",
              "      <td>1</td>\n",
              "    </tr>\n",
              "    <tr>\n",
              "      <th>3</th>\n",
              "      <td>0</td>\n",
              "      <td>0</td>\n",
              "      <td>1</td>\n",
              "    </tr>\n",
              "    <tr>\n",
              "      <th>4</th>\n",
              "      <td>0</td>\n",
              "      <td>0</td>\n",
              "      <td>1</td>\n",
              "    </tr>\n",
              "    <tr>\n",
              "      <th>...</th>\n",
              "      <td>...</td>\n",
              "      <td>...</td>\n",
              "      <td>...</td>\n",
              "    </tr>\n",
              "    <tr>\n",
              "      <th>886</th>\n",
              "      <td>0</td>\n",
              "      <td>0</td>\n",
              "      <td>1</td>\n",
              "    </tr>\n",
              "    <tr>\n",
              "      <th>887</th>\n",
              "      <td>0</td>\n",
              "      <td>0</td>\n",
              "      <td>1</td>\n",
              "    </tr>\n",
              "    <tr>\n",
              "      <th>888</th>\n",
              "      <td>0</td>\n",
              "      <td>0</td>\n",
              "      <td>1</td>\n",
              "    </tr>\n",
              "    <tr>\n",
              "      <th>889</th>\n",
              "      <td>1</td>\n",
              "      <td>0</td>\n",
              "      <td>0</td>\n",
              "    </tr>\n",
              "    <tr>\n",
              "      <th>890</th>\n",
              "      <td>0</td>\n",
              "      <td>1</td>\n",
              "      <td>0</td>\n",
              "    </tr>\n",
              "  </tbody>\n",
              "</table>\n",
              "<p>891 rows × 3 columns</p>\n",
              "</div>\n",
              "      <button class=\"colab-df-convert\" onclick=\"convertToInteractive('df-c35cc33c-5c3c-47ac-b385-2fb6c0cf937d')\"\n",
              "              title=\"Convert this dataframe to an interactive table.\"\n",
              "              style=\"display:none;\">\n",
              "        \n",
              "  <svg xmlns=\"http://www.w3.org/2000/svg\" height=\"24px\"viewBox=\"0 0 24 24\"\n",
              "       width=\"24px\">\n",
              "    <path d=\"M0 0h24v24H0V0z\" fill=\"none\"/>\n",
              "    <path d=\"M18.56 5.44l.94 2.06.94-2.06 2.06-.94-2.06-.94-.94-2.06-.94 2.06-2.06.94zm-11 1L8.5 8.5l.94-2.06 2.06-.94-2.06-.94L8.5 2.5l-.94 2.06-2.06.94zm10 10l.94 2.06.94-2.06 2.06-.94-2.06-.94-.94-2.06-.94 2.06-2.06.94z\"/><path d=\"M17.41 7.96l-1.37-1.37c-.4-.4-.92-.59-1.43-.59-.52 0-1.04.2-1.43.59L10.3 9.45l-7.72 7.72c-.78.78-.78 2.05 0 2.83L4 21.41c.39.39.9.59 1.41.59.51 0 1.02-.2 1.41-.59l7.78-7.78 2.81-2.81c.8-.78.8-2.07 0-2.86zM5.41 20L4 18.59l7.72-7.72 1.47 1.35L5.41 20z\"/>\n",
              "  </svg>\n",
              "      </button>\n",
              "      \n",
              "  <style>\n",
              "    .colab-df-container {\n",
              "      display:flex;\n",
              "      flex-wrap:wrap;\n",
              "      gap: 12px;\n",
              "    }\n",
              "\n",
              "    .colab-df-convert {\n",
              "      background-color: #E8F0FE;\n",
              "      border: none;\n",
              "      border-radius: 50%;\n",
              "      cursor: pointer;\n",
              "      display: none;\n",
              "      fill: #1967D2;\n",
              "      height: 32px;\n",
              "      padding: 0 0 0 0;\n",
              "      width: 32px;\n",
              "    }\n",
              "\n",
              "    .colab-df-convert:hover {\n",
              "      background-color: #E2EBFA;\n",
              "      box-shadow: 0px 1px 2px rgba(60, 64, 67, 0.3), 0px 1px 3px 1px rgba(60, 64, 67, 0.15);\n",
              "      fill: #174EA6;\n",
              "    }\n",
              "\n",
              "    [theme=dark] .colab-df-convert {\n",
              "      background-color: #3B4455;\n",
              "      fill: #D2E3FC;\n",
              "    }\n",
              "\n",
              "    [theme=dark] .colab-df-convert:hover {\n",
              "      background-color: #434B5C;\n",
              "      box-shadow: 0px 1px 3px 1px rgba(0, 0, 0, 0.15);\n",
              "      filter: drop-shadow(0px 1px 2px rgba(0, 0, 0, 0.3));\n",
              "      fill: #FFFFFF;\n",
              "    }\n",
              "  </style>\n",
              "\n",
              "      <script>\n",
              "        const buttonEl =\n",
              "          document.querySelector('#df-c35cc33c-5c3c-47ac-b385-2fb6c0cf937d button.colab-df-convert');\n",
              "        buttonEl.style.display =\n",
              "          google.colab.kernel.accessAllowed ? 'block' : 'none';\n",
              "\n",
              "        async function convertToInteractive(key) {\n",
              "          const element = document.querySelector('#df-c35cc33c-5c3c-47ac-b385-2fb6c0cf937d');\n",
              "          const dataTable =\n",
              "            await google.colab.kernel.invokeFunction('convertToInteractive',\n",
              "                                                     [key], {});\n",
              "          if (!dataTable) return;\n",
              "\n",
              "          const docLinkHtml = 'Like what you see? Visit the ' +\n",
              "            '<a target=\"_blank\" href=https://colab.research.google.com/notebooks/data_table.ipynb>data table notebook</a>'\n",
              "            + ' to learn more about interactive tables.';\n",
              "          element.innerHTML = '';\n",
              "          dataTable['output_type'] = 'display_data';\n",
              "          await google.colab.output.renderOutput(dataTable, element);\n",
              "          const docLink = document.createElement('div');\n",
              "          docLink.innerHTML = docLinkHtml;\n",
              "          element.appendChild(docLink);\n",
              "        }\n",
              "      </script>\n",
              "    </div>\n",
              "  </div>\n",
              "  "
            ]
          },
          "metadata": {},
          "execution_count": 55
        }
      ]
    },
    {
      "cell_type": "code",
      "source": [],
      "metadata": {
        "id": "JQifD2QsuKDa"
      },
      "execution_count": null,
      "outputs": []
    }
  ]
}