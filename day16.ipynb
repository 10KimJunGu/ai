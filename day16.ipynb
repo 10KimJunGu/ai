{
  "nbformat": 4,
  "nbformat_minor": 0,
  "metadata": {
    "colab": {
      "name": "day16.ipynb",
      "provenance": [],
      "authorship_tag": "ABX9TyOj/iTjNbx3uRqt5n5Xg/j+",
      "include_colab_link": true
    },
    "kernelspec": {
      "name": "python3",
      "display_name": "Python 3"
    },
    "language_info": {
      "name": "python"
    }
  },
  "cells": [
    {
      "cell_type": "markdown",
      "metadata": {
        "id": "view-in-github",
        "colab_type": "text"
      },
      "source": [
        "<a href=\"https://colab.research.google.com/github/10KimJunGu/ai/blob/main/day16.ipynb\" target=\"_parent\"><img src=\"https://colab.research.google.com/assets/colab-badge.svg\" alt=\"Open In Colab\"/></a>"
      ]
    },
    {
      "cell_type": "code",
      "execution_count": 5,
      "metadata": {
        "colab": {
          "base_uri": "https://localhost:8080/"
        },
        "id": "YYI3aBOW_hLR",
        "outputId": "92e45553-aa6f-4dde-cb85-18ff9d5cf4c0"
      },
      "outputs": [
        {
          "output_type": "stream",
          "name": "stdout",
          "text": [
            "1 2\n",
            "2 3\n",
            "3 5\n"
          ]
        },
        {
          "output_type": "execute_result",
          "data": {
            "text/plain": [
              "3"
            ]
          },
          "metadata": {},
          "execution_count": 5
        }
      ],
      "source": [
        "# 2월 24일 시험  - 피보나치 수열 Fibonacci\n",
        "\n",
        "\n",
        "\n",
        "\n",
        "# 1 일반식\n",
        "\n",
        "def fib(n):      # n번째의 피보나치 수열 값을 찾는 함수\n",
        "  a, b = 1,1   \n",
        "  if n == 1 or n == 2:      # 1번째와 2번째의 값은 1\n",
        "    return 1\n",
        "  for i in range(1,n):      # 1번째부터 n번째 까지\n",
        "    a,b = b, a+b\n",
        "    print(a,b)    # 1  2   ,   2  3   ,   3  5\n",
        "  return a\n",
        "\n",
        "fib(4)"
      ]
    },
    {
      "cell_type": "code",
      "source": [
        "# 2 재귀 Recursive\n",
        "\n",
        "def fib(n): # n 번째의 피보나치 수열 값을 찾는 함수\n",
        "  if n == 1 or n == 2: # 1번째 와 2번째의 값은 1\n",
        "    return 1\n",
        "  else:\n",
        "    return fib(n-1) + fib(n-2)\n",
        "\n",
        "fib(4)"
      ],
      "metadata": {
        "colab": {
          "base_uri": "https://localhost:8080/"
        },
        "id": "XWy-EdqBQuGc",
        "outputId": "e69374b0-8076-43a1-c64c-7ffb556f9ff3"
      },
      "execution_count": 6,
      "outputs": [
        {
          "output_type": "execute_result",
          "data": {
            "text/plain": [
              "3"
            ]
          },
          "metadata": {},
          "execution_count": 6
        }
      ]
    },
    {
      "cell_type": "code",
      "source": [
        "# 3 람다 lambda  (함수를 단순화 하게)\n",
        "\n",
        "fib = lambda n : 1        if n<= 2               else fib(n-1) + fib(n-2)\n",
        "fib(5)"
      ],
      "metadata": {
        "colab": {
          "base_uri": "https://localhost:8080/"
        },
        "id": "2UO2cMQJRsbM",
        "outputId": "b7ae0932-46f8-4ffb-e8ca-5ecdf309cf5d"
      },
      "execution_count": 7,
      "outputs": [
        {
          "output_type": "execute_result",
          "data": {
            "text/plain": [
              "5"
            ]
          },
          "metadata": {},
          "execution_count": 7
        }
      ]
    },
    {
      "cell_type": "code",
      "source": [
        "# 피보나치 수열의 값을 n번째까지 리스트로 전부 출력하세요\n",
        "\n",
        "\n",
        "# 12김지연에서 나에게 (DM) 03:47 PM\n",
        "list = []\n",
        "\n",
        "def fib(n):\n",
        "    a,b = 1,1\n",
        "    if n == 1 or n == 2: # 1번째와 2번째 값은 1\n",
        "        return 1\n",
        "    for i in range(1, n): # 1번째부터 n번째까지\n",
        "        a,b = b, a+b\n",
        "        list.append(a)\n",
        "    return list\n",
        "\n",
        "print(fib(7))\n"
      ],
      "metadata": {
        "colab": {
          "base_uri": "https://localhost:8080/"
        },
        "id": "4soePbhXTRhx",
        "outputId": "6c57daef-3ed0-491e-ecde-586c2228b23b"
      },
      "execution_count": 8,
      "outputs": [
        {
          "output_type": "stream",
          "name": "stdout",
          "text": [
            "[1, 2, 3, 5, 8, 13]\n"
          ]
        }
      ]
    },
    {
      "cell_type": "code",
      "source": [
        "# 18박현용에서 나에게 (DM) 03:46 PM\n",
        "n = int(input(\"num? : \"))         \n",
        "c = [1,1]                         \n",
        "def fib(n):                 \n",
        "    a = 0\n",
        "    for i in range(n):            \n",
        "      if len(c) >= n:\n",
        "        break\n",
        "      else :                  \n",
        "        a = c[i] + c[i+1]         \n",
        "        c.append(a)\n",
        "fib(n)\n",
        "print(c)\n",
        "\n"
      ],
      "metadata": {
        "colab": {
          "base_uri": "https://localhost:8080/"
        },
        "id": "vy4JTWbVV_AX",
        "outputId": "a1bf55ae-9dba-4f41-f7c7-fca70b2046e5"
      },
      "execution_count": 9,
      "outputs": [
        {
          "output_type": "stream",
          "name": "stdout",
          "text": [
            "num? : 2\n",
            "[1, 1]\n"
          ]
        }
      ]
    },
    {
      "cell_type": "code",
      "source": [
        "# 04김규빈님이 모두에게 03:46 PM\n",
        "def fib(n):\n",
        "  a,b= 0,1\n",
        "  if n == 1 or n == 2:\n",
        "    return 1\n",
        "  else:\n",
        "    for i in range(1,n):\n",
        "      a,b = b, a+b\n",
        "    return a\n",
        "\n",
        "li = []\n",
        "num = int(input('피보나치 몇 번째까지? '))\n",
        "\n",
        "for i in range(num+1):\n",
        "  li.append(fib(i))\n",
        "\n",
        "print(li)\n"
      ],
      "metadata": {
        "id": "xj4rUHZ3WBTX"
      },
      "execution_count": null,
      "outputs": []
    },
    {
      "cell_type": "code",
      "source": [
        "# 21신창균에서 나에게 (DM) 03:45 PM\n",
        "def fib(n) : # n 번째의 피보나치 수열 값을 찾는 함수 \n",
        "\n",
        "  fib_list = []\n",
        "  a, b = 1, 1\n",
        "\n",
        "  for i in range(1, n+1) : # 1번째부터 n번째 까지\n",
        "\n",
        "    fib_list.append(a)\n",
        "\n",
        "    a, b = b, a + b\n",
        "\n",
        "  print(fib_list)\n",
        "\n",
        "fib(6)\n"
      ],
      "metadata": {
        "colab": {
          "base_uri": "https://localhost:8080/"
        },
        "id": "YGumU4HlWCZW",
        "outputId": "f0b86f9f-86b1-42b1-b12f-737bb4ed8166"
      },
      "execution_count": 10,
      "outputs": [
        {
          "output_type": "stream",
          "name": "stdout",
          "text": [
            "[1, 1, 2, 3, 5, 8]\n"
          ]
        }
      ]
    },
    {
      "cell_type": "code",
      "source": [
        "# 29이지은에서 나에게 (DM) 03:45 PM\n",
        "def fib(n):\n",
        "  res = [1,1]\n",
        "  if n < 3:\n",
        "    return 1\n",
        "  else:\n",
        "    for i in range(2,n):\n",
        "      res.append(res[i-1] + res[i-2])\n",
        "  return res\n",
        "\n",
        "n = int(input('>>>'))\n",
        "fib(n)"
      ],
      "metadata": {
        "colab": {
          "base_uri": "https://localhost:8080/"
        },
        "id": "MvvuVvd6WC4n",
        "outputId": "cab202ab-18fd-4b52-fdad-de1f4f08ed56"
      },
      "execution_count": 11,
      "outputs": [
        {
          "name": "stdout",
          "output_type": "stream",
          "text": [
            ">>>5\n"
          ]
        },
        {
          "output_type": "execute_result",
          "data": {
            "text/plain": [
              "[1, 1, 2, 3, 5]"
            ]
          },
          "metadata": {},
          "execution_count": 11
        }
      ]
    },
    {
      "cell_type": "code",
      "source": [
        "# 31 임진석에서 나에게 (DM) 03:44 PM\n",
        "def fib(n):\n",
        "  fibo = []\n",
        "  for i in range(n):\n",
        "    if i == 0 or i == 1:\n",
        "      fibo.append(1)\n",
        "    else:\n",
        "      num = fibo[i-1] + fibo[i-2]\n",
        "      fibo.append(num)\n",
        "  return fibo\n",
        "\n",
        "fib(5)"
      ],
      "metadata": {
        "colab": {
          "base_uri": "https://localhost:8080/"
        },
        "id": "7w7637_3WE5u",
        "outputId": "03515e23-b95d-46b1-c0b6-ccfa6f9583dd"
      },
      "execution_count": 12,
      "outputs": [
        {
          "output_type": "execute_result",
          "data": {
            "text/plain": [
              "[1, 1, 2, 3, 5]"
            ]
          },
          "metadata": {},
          "execution_count": 12
        }
      ]
    },
    {
      "cell_type": "code",
      "source": [
        "# 2D lists  2차원 리스트   #   VS  pandas 's dataframe\n",
        "#               math    korean \n",
        "# austin        90        80\n",
        "# rick           80        85\n",
        "# andy         100      70\n",
        "\n",
        "grade = [[90,80],[80,85],[100,70]]\n",
        "\n",
        "grade[2][0]"
      ],
      "metadata": {
        "colab": {
          "base_uri": "https://localhost:8080/"
        },
        "id": "s9VBAZaMab7I",
        "outputId": "c2196516-b398-4cd0-ad2b-93d10dcc592e"
      },
      "execution_count": 13,
      "outputs": [
        {
          "output_type": "execute_result",
          "data": {
            "text/plain": [
              "100"
            ]
          },
          "metadata": {},
          "execution_count": 13
        }
      ]
    },
    {
      "cell_type": "code",
      "source": [
        "# Ask the user to enter the name, age and shoe size for four people.\n",
        "# Ask for the name of one of the people in the list and\n",
        "# display their age and shoe size.\n",
        "\n",
        "\n",
        "dict = {}\n",
        "\n",
        "for i in range(0,4):\n",
        "  name = input('Enter name : ')\n",
        "  age = input('Enter age : ')\n",
        "  shoe = input('Enter shoe : ')\n",
        "  dict[name]={'Age':age,'Shoe':shoe}\n",
        "\n",
        "who = input('Enter a name : ')\n",
        "print(dict[who])"
      ],
      "metadata": {
        "id": "vy_OnHK3aeCK"
      },
      "execution_count": null,
      "outputs": []
    },
    {
      "cell_type": "code",
      "source": [
        "n = 0\n",
        "info = [[0,0],[0,0],[0,0],[0,0]]\n",
        "for i in range(1,5):\n",
        "    name = input(\"Enter the name\")\n",
        "    age = input(\"Enter the age\")\n",
        "    shsize = input(\"Enter the shoe size\")\n",
        "    info[0][n].append(name)\n",
        "    info[1][n].append(age)\n",
        "    info[2][n].append(shsize)\n",
        "    n += 1\n",
        "print(info)"
      ],
      "metadata": {
        "id": "ChFIw9m9fL0s"
      },
      "execution_count": null,
      "outputs": []
    },
    {
      "cell_type": "code",
      "source": [
        "# After gathering the two names, ages and shoe sizes, \n",
        "# ask the user to enter the name of the person they want to remove from the dict.\n",
        "# Delete this row from the data and display the other rows on separate lines.\n",
        "\n",
        "dict = {}\n",
        "\n",
        "for i in range(0,2):\n",
        "  name = input('Enter name : ')\n",
        "  age = input('Enter age : ')\n",
        "  shoe = input('Enter shoe : ')\n",
        "  dict[name]={'Age':age,'Shoe':shoe}\n",
        "\n",
        "getrid = input('Who do you want to remove from the dict?')\n",
        "del dict[getrid]\n",
        "\n",
        "for each in dict:\n",
        "  print(each, dict[each]['Age'], dict[each]['Shoe'])\n",
        "\n"
      ],
      "metadata": {
        "id": "FLHdoqCDfPLN"
      },
      "execution_count": null,
      "outputs": []
    },
    {
      "cell_type": "code",
      "source": [
        "# Reading and Writing to a File\n",
        "\n",
        "# It is all very well being able to define a list, make changes and add new data,\n",
        "# but if the next time the program is run it returns to the original data and your\n",
        "# changes are lost then it is not a lot of use. Therefore, It is sometimes necessary \n",
        "# to save the data outside of the program and this way the data can be stored,\n",
        "# along with any changes that are made.\n",
        "\n",
        "# write\n",
        "file = open('Countries.txt', 'w')\n",
        "file.write('Italy\\n')\n",
        "file.write('Germany\\n')\n",
        "file.write('Spain\\n')\n",
        "file.close()"
      ],
      "metadata": {
        "id": "y5fxMj1KoY9Z"
      },
      "execution_count": null,
      "outputs": []
    },
    {
      "cell_type": "code",
      "source": [
        "# read\n",
        "file = open('Countries.txt', 'r')\n",
        "print(file.read())"
      ],
      "metadata": {
        "id": "WY01PnKIoagc"
      },
      "execution_count": null,
      "outputs": []
    },
    {
      "cell_type": "code",
      "source": [
        "file = open('Countries.txt','a')\n",
        "file.write('France\\n')\n",
        "file.close()"
      ],
      "metadata": {
        "id": "wtwGexZrobm1"
      },
      "execution_count": null,
      "outputs": []
    },
    {
      "cell_type": "code",
      "source": [
        "# Display the following menu to the user:\n",
        "#      1) Create a new file\n",
        "#      2) Display the file\n",
        "#      3) Add a new item to the file\n",
        "#      Make a selection 1,2 or 3 :\n",
        "\n",
        "# Ask the user to enter 1,2 or 3. If they select anything other than 1,2 or 3 it should\n",
        "# display a suitable error message.\n",
        "\n",
        "# If the select 1, ask the user to enter a school subject and save it to a new file called\n",
        "# 'Subject.txt'. It should overwrite any existing file with a new file.\n",
        "\n",
        "# If they select 2, display the contents of the 'Subject.txt' file\n",
        "\n",
        "# if they select 3, ask the user to enter a new subject and sav e it to the file \n",
        "#and then display the entire contents of the file.\n",
        "\n",
        "# Run the program several times to test the options.\n",
        "\n",
        "##############################################################\n",
        "# Fantastic work, saving data to external files is an important programming skill. #\n",
        "##############################################################\n",
        "\n",
        "# Delete file\n",
        "# import os\n",
        "# os.remove('filename.txt')\n",
        "\n",
        "\n",
        "# 13김현엽에서 나에게 (DM) 04:52 PM\n",
        "print(\"1, Create a new file\")\n",
        "print(\"2, Display the file\")\n",
        "print(\"3, Add a new item to the file\")\n",
        "n=int(input(\"Make a selection 1,2 or 3 : \"))\n",
        "if n !=1 and n !=2 and n !=3:\n",
        "  print(\"Error\")\n",
        "elif n==1:\n",
        "  ss = input(\"school subject : \")\n",
        "  f=open('Subject.txt','w')\n",
        "  f.write(ss)\n",
        "  f.close()\n",
        "elif n==2:\n",
        "  try:\n",
        "    f=open('Subject.txt','r')\n",
        "    print(f.read())\n",
        "  except:\n",
        "    print(\"Error\")\n",
        "elif n==3:\n",
        "  ns = input(\"new subject : \")\n",
        "  f=open('Subject.txt','a')\n",
        "  f.write(ns)\n",
        "  f.close\n",
        "\n"
      ],
      "metadata": {
        "id": "aO_ecgesocCO"
      },
      "execution_count": null,
      "outputs": []
    },
    {
      "cell_type": "code",
      "source": [
        "# 29이지은에서 나에게 (DM) 04:55 PM\n",
        "file = open('Subject.txt','w')\n",
        "file.close()\n",
        "\n",
        "ask = int(input('1) Create a new file\\n2)Display the file\\n3)Add a new item to the file'))\n",
        "\n",
        "if ask > 3:\n",
        "  print('error')\n",
        "\n",
        "elif ask == 1:\n",
        "  sub = input('학교 과목 입력하시오 >>')\n",
        "  file = open('Subject.txt','a')\n",
        "  file.write(sub)\n",
        "  file.close()\n",
        "elif ask == 2:  \n",
        "  file = open('Subject.txt','r')\n",
        "  print(file.read())\n",
        "elif ask == 3:\n",
        "  sub = input('학교 과목 입력하시오 >>')\n",
        "  file = open('Subject.txt','a')\n",
        "  file.write(sub)\n",
        "  file.close()\n",
        "  file = open('Subject.txt','r')\n",
        "  print(file.read())\n"
      ],
      "metadata": {
        "id": "WQlBgwyCoeS7"
      },
      "execution_count": null,
      "outputs": []
    },
    {
      "cell_type": "code",
      "source": [
        "#  김수연\n",
        "\n",
        "# Display the following menu to the user:\n",
        "#      1) Create a new file\n",
        "#      2) Display the file\n",
        "#      3) Add a new item to the file\n",
        "#      Make a selection\n",
        "file = open('Subject.txt', 'w')\n",
        "\n",
        "while True:\n",
        "    ans = input(\"Enter the number (1) Create a new file \\n2) Display the file \\n3) Add a new item to the file\")\n",
        "    if '1' in ans:\n",
        "        sch = input('enter a school subject')\n",
        "        file = open('Subject.txt', 'w')\n",
        "        file.write(sch)\n",
        "\n",
        "    if '2' in ans:\n",
        "        file = open('Countries.txt', 'r')\n",
        "        print(file.read())\n",
        "\n",
        "    if '3' in ans:\n",
        "        sub = input(\"enter a new subject\")\n",
        "        file = open('Subject.txt', 'w')\n",
        "        file.write(sub)\n",
        "        file = open('Subject.txt', 'r')\n",
        "        print(file.read())\n",
        "\n",
        "    if '1' not in ans and '2' not in ans and '3' not in ans:\n",
        "        print(\"Error\")\n",
        "    \n",
        "    if 'break' in ans:\n",
        "        break\n"
      ],
      "metadata": {
        "id": "9PJpQ8Z2ohQU"
      },
      "execution_count": null,
      "outputs": []
    },
    {
      "cell_type": "code",
      "source": [
        "print('1) Create a new file')\n",
        "print('2) Display the file')\n",
        "print('3) Add a new item to the file')\n",
        "print()\n",
        "\n",
        "choice = int(input('enter 1,2 or 3 : '))\n",
        "\n",
        "if choice == 1:\n",
        "    school = input('which school subject? ')\n",
        "    file = open('Subject.txt','w')\n",
        "    file.write(school + '\\n')\n",
        "    file.close()\n",
        "elif choice == 2:\n",
        "    file = open('Subject.txt','r')\n",
        "    print(file.read())\n",
        "elif choice == 3:\n",
        "    new = input('enter a new subject: ')\n",
        "    file = open('Subject.txt','a')\n",
        "    file.write(new + '\\n')\n",
        "    file.close()\n",
        "    file = open('Subject.txt','r')\n",
        "    print(file.read())\n",
        "else:\n",
        "    print('Incorrect number')\n"
      ],
      "metadata": {
        "colab": {
          "base_uri": "https://localhost:8080/"
        },
        "id": "Jlh-aEaavzTl",
        "outputId": "12a1b6e9-8b7b-4850-c185-11f9ae990ecb"
      },
      "execution_count": 17,
      "outputs": [
        {
          "output_type": "stream",
          "name": "stdout",
          "text": [
            "1) Create a new file\n",
            "2) Display the file\n",
            "3) Add a new item to the file\n",
            "\n",
            "enter 1,2 or 3 : 3\n",
            "enter a new subject: korean\n",
            "korean\n",
            "\n"
          ]
        }
      ]
    }
  ]
}