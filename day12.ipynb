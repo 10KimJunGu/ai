{
  "nbformat": 4,
  "nbformat_minor": 0,
  "metadata": {
    "colab": {
      "name": "day12.ipynb",
      "provenance": [],
      "authorship_tag": "ABX9TyM0B/feW0q4AUAc7VQXbDap",
      "include_colab_link": true
    },
    "kernelspec": {
      "name": "python3",
      "display_name": "Python 3"
    },
    "language_info": {
      "name": "python"
    }
  },
  "cells": [
    {
      "cell_type": "markdown",
      "metadata": {
        "id": "view-in-github",
        "colab_type": "text"
      },
      "source": [
        "<a href=\"https://colab.research.google.com/github/32KimJunGu/ai/blob/main/day12.ipynb\" target=\"_parent\"><img src=\"https://colab.research.google.com/assets/colab-badge.svg\" alt=\"Open In Colab\"/></a>"
      ]
    },
    {
      "cell_type": "code",
      "execution_count": null,
      "metadata": {
        "colab": {
          "base_uri": "https://localhost:8080/"
        },
        "id": "VH6oVlbf36yx",
        "outputId": "253d1981-bad8-4e52-e167-e3d7fafe3317"
      },
      "outputs": [
        {
          "output_type": "stream",
          "name": "stdout",
          "text": [
            "3.14\n"
          ]
        }
      ],
      "source": [
        "# Maths\n",
        "\n",
        "num = 3.141592\n",
        "print(round(num,2)) # Display a number rounded to two decimal places. (둘째자리까지 표현한다)\n"
      ]
    },
    {
      "cell_type": "code",
      "source": [
        "10**2\n",
        "# To the power of ...  # 10의 제곱"
      ],
      "metadata": {
        "colab": {
          "base_uri": "https://localhost:8080/"
        },
        "id": "dBgygQkC7KOB",
        "outputId": "8377a151-dc1b-4327-b80c-426280c32584"
      },
      "execution_count": null,
      "outputs": [
        {
          "output_type": "execute_result",
          "data": {
            "text/plain": [
              "100"
            ]
          },
          "metadata": {},
          "execution_count": 54
        }
      ]
    },
    {
      "cell_type": "code",
      "source": [
        "import math\n",
        "\n",
        "math.sqrt(225)\n",
        "\n",
        "# The square root of a number but you must have the line 'import math' \n",
        "# at the top of your program for this to work."
      ],
      "metadata": {
        "colab": {
          "base_uri": "https://localhost:8080/"
        },
        "id": "XZ8lHeyW7VMP",
        "outputId": "bd999bd4-a0e7-46a8-fea1-a6c4ba67474f"
      },
      "execution_count": null,
      "outputs": [
        {
          "output_type": "execute_result",
          "data": {
            "text/plain": [
              "15.0"
            ]
          },
          "metadata": {},
          "execution_count": 55
        }
      ]
    },
    {
      "cell_type": "code",
      "source": [
        "math.pi\n",
        "\n",
        "# Gives you pi to decimal places, but you must have the line 'import math'\n",
        "# at the top of your program for this to work."
      ],
      "metadata": {
        "colab": {
          "base_uri": "https://localhost:8080/"
        },
        "id": "Cad32oN-7wns",
        "outputId": "1667f48f-b787-46dc-82fe-af964de3306a"
      },
      "execution_count": null,
      "outputs": [
        {
          "output_type": "execute_result",
          "data": {
            "text/plain": [
              "3.141592653589793"
            ]
          },
          "metadata": {},
          "execution_count": 5
        }
      ]
    },
    {
      "cell_type": "code",
      "source": [
        "15 // 2\n",
        "\n",
        "# Whole number division. 15//2 gives the answer 7.\n",
        "# 나머지는 버리고 몫만 취한다"
      ],
      "metadata": {
        "colab": {
          "base_uri": "https://localhost:8080/"
        },
        "id": "9LK4ozH870vM",
        "outputId": "84d78168-f783-40ce-f26f-57dd9d6cf340"
      },
      "execution_count": null,
      "outputs": [
        {
          "output_type": "execute_result",
          "data": {
            "text/plain": [
              "7"
            ]
          },
          "metadata": {},
          "execution_count": 7
        }
      ]
    },
    {
      "cell_type": "code",
      "source": [
        "15 % 2\n",
        "\n",
        "# Finds the remainder. 15%2 gives the answer1.\n",
        "# 몫은 버리고 나머지만 취한다"
      ],
      "metadata": {
        "colab": {
          "base_uri": "https://localhost:8080/"
        },
        "id": "0xQRfZSe8HBR",
        "outputId": "d0b5dae2-b977-4f74-dd05-ff501aaf8b6a"
      },
      "execution_count": null,
      "outputs": [
        {
          "output_type": "execute_result",
          "data": {
            "text/plain": [
              "1"
            ]
          },
          "metadata": {},
          "execution_count": 8
        }
      ]
    },
    {
      "cell_type": "code",
      "source": [
        "# Ask the user to enter an integer that is over 500. Work out the \n",
        "# square root of that number and display it to two decimal places.\n",
        "\n",
        "# (input) 'Enter a number over 500 : '\n",
        "\n",
        "import math\n",
        "\n",
        "num = int(input('Enter a number over 500 :'))\n",
        "ans = math.sqrt(num)\n",
        "print(round(ans,2))"
      ],
      "metadata": {
        "colab": {
          "base_uri": "https://localhost:8080/"
        },
        "id": "zqA60iS18ZNE",
        "outputId": "a7d5c113-a9a6-4d72-fd4b-d485f434128f"
      },
      "execution_count": null,
      "outputs": [
        {
          "output_type": "stream",
          "name": "stdout",
          "text": [
            "Enter a number over 500 :500\n",
            "22.36\n"
          ]
        }
      ]
    },
    {
      "cell_type": "code",
      "source": [
        "# Ask the user to enter the radius of a circle.\n",
        "# Work out the area of the circle. (pi * radius ** 2)\n",
        "\n",
        "#(input) ' Enter the redius of the circle'\n",
        "\n",
        "import math\n",
        "\n",
        "num = int(input('Enter the redius of the circle'))\n",
        "print(math.pi*num**2)\n"
      ],
      "metadata": {
        "colab": {
          "base_uri": "https://localhost:8080/"
        },
        "id": "IugJbjei-FF_",
        "outputId": "be07a713-3535-448b-e48c-15b3c159f3f8"
      },
      "execution_count": null,
      "outputs": [
        {
          "output_type": "stream",
          "name": "stdout",
          "text": [
            "Enter the redius of the circle5\n",
            "78.53981633974483\n"
          ]
        }
      ]
    },
    {
      "cell_type": "code",
      "source": [
        "# Ask the user to enter two numbers. Use whole number division to divide\n",
        "# the first number by the second and also work out the remainder and\n",
        "# display the answer in a user-friendly way... \n",
        "# if they enter 7 and 2 display 7 divided by 2 is 3 with 1 ramaining\n",
        "\n",
        "# (input) 'Enter a first number :'\n",
        "# (input) 'Enter a second number :'\n",
        "# (output) 7 divided by 2 is 3 with 1 ramaining\n",
        "import math\n",
        "\n",
        "n1 = int(input('Enter a first number :'))\n",
        "n2 = int(input('Enter a first number :'))\n",
        "\n",
        "a = n1 // n2\n",
        "b = n1 % n2\n",
        "\n",
        "print(f'{n1} divided by {n2} is {a} with {b} remaining')\n"
      ],
      "metadata": {
        "colab": {
          "base_uri": "https://localhost:8080/"
        },
        "id": "VACU9pmb--F5",
        "outputId": "3c6f1b74-0ada-4515-971d-7f1646d13656"
      },
      "execution_count": null,
      "outputs": [
        {
          "output_type": "stream",
          "name": "stdout",
          "text": [
            "Enter a first number :7\n",
            "Enter a first number :2\n",
            "7 divided by 2 is 3 with 1 remaining\n"
          ]
        }
      ]
    },
    {
      "cell_type": "code",
      "source": [
        "#  Display the following message:\n",
        "# 1) Square\n",
        "# 2) Triangle\n",
        "\n",
        "# Enter a number :\n",
        "\n",
        "# if the user enters 1, then is should ask them for the length of one of its\n",
        "# sides and display the area. If they select 3, it should ask for the base and\n",
        "# height of the triangle and display the area. If they type in anything else,\n",
        "# it should give them a suitable error message.\n",
        "\n",
        "# 사각형을 고르냐, 삼각형을 고르냐에 따라 다르다.\n",
        "# 1번케이스에따라다르고 2번케이스에 따라 다르다, 그리고 면적을 구하라\n",
        "\n",
        "print('(1) Square')\n",
        "print('(2) Triangle')\n",
        "\n",
        "no = int(input('Enter a number : '))\n",
        "\n",
        "if no == 1:\n",
        "  side = int(input('Enter the lenth of one side : '))\n",
        "  area = side * side\n",
        "  print('The area of your chosen shape is ', area)\n",
        "elif no == 1:\n",
        "  base = int(input('Enter the lenth of the base : '))\n",
        "  height = int(input('Enter the height of the triangle : '))  \n",
        "  area = (base * height) / 2\n",
        "  print('The area of your chosen shape is ', area)\n",
        "else:\n",
        "  print('Incorrect option selected')"
      ],
      "metadata": {
        "colab": {
          "base_uri": "https://localhost:8080/"
        },
        "id": "zmVjpA2zASIZ",
        "outputId": "12689776-1e6f-40e9-fbed-d34c384200c9"
      },
      "execution_count": null,
      "outputs": [
        {
          "output_type": "stream",
          "name": "stdout",
          "text": [
            "(1) Square\n",
            "(2) Triangle\n",
            "Enter a number : 1\n",
            "Enter the lenth of one side : 3\n",
            "The area of your chosen shape is  9\n"
          ]
        }
      ]
    },
    {
      "cell_type": "code",
      "source": [
        "#################################################################################\n",
        "# for문 \n",
        "#################################################################################\n",
        "\n",
        "# The range function is often used in for loops and lists the starting number,\n",
        "# the ending number and can also include the steps\n",
        "\n",
        "# for i in range(start, stop, step)\n",
        "\n",
        "for i in range(0,5):\n",
        "  print(i)"
      ],
      "metadata": {
        "colab": {
          "base_uri": "https://localhost:8080/"
        },
        "id": "ugTZ3j8PDuJm",
        "outputId": "ab9f1e38-653e-4a30-ed42-ec4ca21c5fee"
      },
      "execution_count": null,
      "outputs": [
        {
          "output_type": "stream",
          "name": "stdout",
          "text": [
            "0\n",
            "1\n",
            "2\n",
            "3\n",
            "4\n"
          ]
        }
      ]
    },
    {
      "cell_type": "code",
      "source": [
        "for i in range(0,5,1):\n",
        "  print(i)"
      ],
      "metadata": {
        "colab": {
          "base_uri": "https://localhost:8080/"
        },
        "id": "tMHT590CJBGv",
        "outputId": "484efb4b-334d-40fe-8a19-bd47ee40566f"
      },
      "execution_count": null,
      "outputs": [
        {
          "output_type": "stream",
          "name": "stdout",
          "text": [
            "0\n",
            "1\n",
            "2\n",
            "3\n",
            "4\n"
          ]
        }
      ]
    },
    {
      "cell_type": "code",
      "source": [
        "for i in range(5):\n",
        "  print(i)"
      ],
      "metadata": {
        "colab": {
          "base_uri": "https://localhost:8080/"
        },
        "id": "JJQdpdeGJJrp",
        "outputId": "5164e58d-d443-4031-8617-f833d54ebb55"
      },
      "execution_count": null,
      "outputs": [
        {
          "output_type": "stream",
          "name": "stdout",
          "text": [
            "0\n",
            "1\n",
            "2\n",
            "3\n",
            "4\n"
          ]
        }
      ]
    },
    {
      "cell_type": "code",
      "source": [
        "for i in range(10,1,-3):\n",
        "  print(i)"
      ],
      "metadata": {
        "colab": {
          "base_uri": "https://localhost:8080/"
        },
        "id": "LSDudq0rJR3r",
        "outputId": "d0b1da37-f4e9-4d95-85c1-efd7c612b322"
      },
      "execution_count": null,
      "outputs": [
        {
          "output_type": "stream",
          "name": "stdout",
          "text": [
            "10\n",
            "7\n",
            "4\n"
          ]
        }
      ]
    },
    {
      "cell_type": "code",
      "source": [
        "no = [0,1,2,3,4]\n",
        "\n",
        "for i in no :     # 리스트에서 하나씩 뽑아서 한다\n",
        "  print(i)"
      ],
      "metadata": {
        "colab": {
          "base_uri": "https://localhost:8080/"
        },
        "id": "WlI-HIWuJYrc",
        "outputId": "dfb7745c-53fd-4e5f-bc64-4462b820c573"
      },
      "execution_count": null,
      "outputs": [
        {
          "output_type": "stream",
          "name": "stdout",
          "text": [
            "0\n",
            "1\n",
            "2\n",
            "3\n",
            "4\n"
          ]
        }
      ]
    },
    {
      "cell_type": "code",
      "source": [
        "# Ask the user to enter their name and then display their name three times\n",
        "\n",
        "# name = input('your name??? >>')\n",
        "\n",
        "# for i in range (3):\n",
        "#   print(name)\n",
        "\n",
        "\n",
        "\n",
        "\n",
        "# Alter program, so that it will ask the user to enter their name and a number\n",
        "# and then display their name that number of times.\n",
        "\n",
        "name = input('your name??? >>')\n",
        "no = int(input('how many???>>>'))\n",
        "for i in range(no):\n",
        "  print(name)\n"
      ],
      "metadata": {
        "colab": {
          "base_uri": "https://localhost:8080/"
        },
        "id": "SX4oL3n1JmTP",
        "outputId": "e27ec426-74c6-4f9b-9397-585f30839935"
      },
      "execution_count": null,
      "outputs": [
        {
          "output_type": "stream",
          "name": "stdout",
          "text": [
            "your name??? >>jungu\n",
            "how many???>>>6\n",
            "jungu\n",
            "jungu\n",
            "jungu\n",
            "jungu\n",
            "jungu\n",
            "jungu\n"
          ]
        }
      ]
    },
    {
      "cell_type": "code",
      "source": [
        "# Ask the user to enter their name and \n",
        "# display each letter in their name on a separate line.\n",
        "\n",
        "name = input('your name??? >>')\n",
        "\n",
        "for i in name:\n",
        "  print(i)"
      ],
      "metadata": {
        "colab": {
          "base_uri": "https://localhost:8080/"
        },
        "id": "W1sV9VKNLbyP",
        "outputId": "0207f968-0038-4fdc-ad5e-f54c66491987"
      },
      "execution_count": null,
      "outputs": [
        {
          "output_type": "stream",
          "name": "stdout",
          "text": [
            "your name??? >>jungu\n",
            "j\n",
            "u\n",
            "n\n",
            "g\n",
            "u\n"
          ]
        }
      ]
    },
    {
      "cell_type": "code",
      "source": [
        "# Ask for a number below 50 and then count down from 50 to that number,\n",
        "# making sure you show the number they entered in the output\n",
        "# 50 미만의 수를 입력받아 50부터 거꾸로 카운트다운하면서 숫자를 출력한다.\n",
        "# 입력한 숫자까지 출력하자\n",
        "\n",
        "\n",
        "\n",
        "\n",
        "# a = int(input('number >>>'))\n",
        "\n",
        "# for i in range(a,1,-1):\n",
        "#   print(i)\n",
        "\n",
        "\n",
        "num = int(input('Enter num (not over 50'))\n",
        "for i in range(50,num-1,-1):\n",
        "  print(i)\n",
        "print('you entered', num)"
      ],
      "metadata": {
        "id": "gvGKQmNDMmMW"
      },
      "execution_count": null,
      "outputs": []
    },
    {
      "cell_type": "code",
      "source": [
        "# Set a variable called total to 0. Ask the user to enter five numbers and after each\n",
        "# input ask them if they want that number included. \n",
        "# If they do, then add the number to the total\n",
        "# After they have entered all five numbers, display the total\n",
        "\n",
        "# total 변수에 0을 설정하세요\n",
        "# 5번 숫자를 입력하라고 반복 요청하고 숫자를 입력할때마다 \n",
        "# 입력한 값을 total에 더할 것인지 묻는다. 더하기를 원하는 답을 하면 total에 더하고\n",
        "# 아니면 더하지 않는다. 5번 숫자를 입력하면 total출력한다.\n",
        "\n",
        "total = 0\n",
        "for i in range (5):\n",
        "  num = int(input('Enter a number : '))\n",
        "  ans = input('Do you want this number included? (y/n)')\n",
        "  if ans == 'y':\n",
        "    total = total + num\n",
        "print(total)\n",
        "  2"
      ],
      "metadata": {
        "colab": {
          "base_uri": "https://localhost:8080/"
        },
        "id": "Lp4XcOmZOjtg",
        "outputId": "0384562b-4aa0-4fc2-99ff-e382d5d2e747"
      },
      "execution_count": null,
      "outputs": [
        {
          "output_type": "stream",
          "name": "stdout",
          "text": [
            "Enter a number : 1\n",
            "Do you want this number included? (y/n)y\n",
            "Enter a number : 2\n",
            "Do you want this number included? (y/n)y\n",
            "Enter a number : 3\n",
            "Do you want this number included? (y/n)n\n",
            "Enter a number : 444\n",
            "Do you want this number included? (y/n)y\n",
            "Enter a number : 3\n",
            "Do you want this number included? (y/n)y\n",
            "450\n"
          ]
        }
      ]
    },
    {
      "cell_type": "code",
      "source": [
        "# Ask which direction the user wants to count (up or down).\n",
        "# If they select up, then ask them for the top number and then count from 1 to that number.\n",
        "# If they select down, ask them to enter a number below 20 and then count down from 20\n",
        "# to that number. If they enterend osmthing other than up or down,\n",
        "# display the message 'i dont understand.'\n",
        "\n",
        "# 사용자가 원하는 카운트 방향(위로 또는 아래로)을 묻고\n",
        "# 만약, up을 선택하면 큰 수를 묻고 1부터 그 수까지 출력한다.\n",
        "# 만약, down을 선택하면 20미만의 수를 묻고 20부터 그 수까지를 출력한다.\n",
        "# up 또는 down이 아닌 것을 선택하면 'i dont understand.'를 출력한다.\n",
        "\n",
        "\n",
        "direction = input('Do you want to count up or down???  (u/d)')\n",
        "\n",
        "if direction == 'u':\n",
        "  num = int(input('Whatis the top number ?'))\n",
        "  for i in range(1, num+1):\n",
        "    print(i)\n",
        "elif direction == 'd':\n",
        "  num = int(input('Enter a number below 20 :'))\n",
        "  for i in range(20, num-1, -1):\n",
        "    print(i)\n",
        "else:\n",
        "  print('i dont understand')"
      ],
      "metadata": {
        "colab": {
          "base_uri": "https://localhost:8080/"
        },
        "id": "m3k7TVYERs_z",
        "outputId": "0457c51d-86ce-45b7-8878-5b325eb72d78"
      },
      "execution_count": null,
      "outputs": [
        {
          "output_type": "stream",
          "name": "stdout",
          "text": [
            "Do you want to count up or down???  (u/d)d\n",
            "Enter a number below 20 :9\n",
            "20\n",
            "19\n",
            "18\n",
            "17\n",
            "16\n",
            "15\n",
            "14\n",
            "13\n",
            "12\n",
            "11\n",
            "10\n",
            "9\n"
          ]
        }
      ]
    },
    {
      "cell_type": "code",
      "source": [
        "# Ask how many people the user wants to invite to a party.\n",
        "# If they enter a number below 10, ask for the names and after each name display\n",
        "# '[name] has been invited'\n",
        "# If they enter a number which is 10 or higher, display the message 'Too many people'\n",
        "\n",
        "# 파티에 몇명을 초대할지 묻자.\n",
        "# 만약 10 미만으로 입력하면 이름을 묻고 '[name] has been invited'를 출력한다.\n",
        "# 만약 10 이상으로 입력하면 'Too many people'를 출력한다.\n",
        "\n",
        "\n",
        "\n",
        "#########내가 한것\n",
        "\n",
        "# question = int(input('how many people ???'))\n",
        "\n",
        "# if question <10:\n",
        "#   name = input('name : ')\n",
        "#   print(f'{name} has been invited')\n",
        "# elif question >= 10:\n",
        "#   print('Too many people')\n",
        "\n",
        "\n",
        "\n",
        "\n",
        "########## 선생님이 한것\n",
        "\n",
        "no = int(input('how many ???'))\n",
        "\n",
        "if no <10:\n",
        "  for i in range(no):\n",
        "    name = input('Name ??? ')\n",
        "    print(name, 'has been invited')\n",
        "else:\n",
        "  print('Too many people')"
      ],
      "metadata": {
        "colab": {
          "base_uri": "https://localhost:8080/"
        },
        "id": "tZiK_14yYq1S",
        "outputId": "db7390b3-4415-4212-d126-7fbc16a455eb"
      },
      "execution_count": null,
      "outputs": [
        {
          "output_type": "stream",
          "name": "stdout",
          "text": [
            "how many ???3\n",
            "Name ??? jungu\n",
            "jungu has been invited\n"
          ]
        }
      ]
    },
    {
      "cell_type": "code",
      "source": [
        "################################################################################\n",
        "# while 문\n",
        "################################################################################\n",
        "\n",
        "# A while loop allows code to be repeted an unknown number of times \n",
        "# as long as condition is being met.\n",
        "# This may be 100 times, just the once or even never \n",
        "# It is important, therefore, to make sure the correct conditions are in place\n",
        "# to run the roop before it starts.\n",
        "\n",
        "\n",
        "\n",
        "total = 0\n",
        "\n",
        "while total < 100:\n",
        "  num = int(input('Enter a number : '))\n",
        "  total = total + num\n",
        "print('The total is', total)"
      ],
      "metadata": {
        "id": "6mRxb5_SbFLj"
      },
      "execution_count": null,
      "outputs": []
    },
    {
      "cell_type": "code",
      "source": [
        "# Set the total to 0 to start with. While the total is 50 or less,\n",
        "# ask the user to input a number. Add that number to the total and \n",
        "# print the message 'The total is .... [total]. \n",
        "# Stop the loop when the total is over 50\n",
        "\n",
        "total = 0 \n",
        "\n",
        "while total <= 50:\n",
        "  no = int(input('number ? >>>'))\n",
        "  total += no \n",
        "\n",
        "print('The total is ....', total)\n",
        "\n"
      ],
      "metadata": {
        "colab": {
          "base_uri": "https://localhost:8080/"
        },
        "id": "DQKAAabrdXiz",
        "outputId": "00a8b790-ea81-41a9-c798-3413dd7b7f78"
      },
      "execution_count": null,
      "outputs": [
        {
          "output_type": "stream",
          "name": "stdout",
          "text": [
            "number ? >>>40\n",
            "number ? >>>7\n",
            "number ? >>>8\n",
            "The total is .... 55\n"
          ]
        }
      ]
    },
    {
      "cell_type": "code",
      "source": [
        "# prime number 소수 출력\n",
        "# 1과 그 자신으로만 나누어 진다.\n",
        "\n",
        "# 소수에 대해서 공부하라\n",
        "\n",
        "\n",
        "# number = 100\n",
        "# prime = []\n",
        "\n",
        "# for i in range(2, number+1):\n",
        "#   if number % i == 0:\n",
        "\n",
        "\n",
        "\n",
        "\n",
        "a = 17\n",
        "\n",
        "\n",
        "for i in range(2, a):    #2,3,4,5,6,7,8 .....\n",
        "  if a % i == 0:\n",
        "    print('소수가 아닙니다.')\n",
        "    break\n",
        "\n",
        "# https://it-garden.tistory.com/402"
      ],
      "metadata": {
        "id": "T5zQt_qXpCbO"
      },
      "execution_count": null,
      "outputs": []
    },
    {
      "cell_type": "code",
      "source": [
        "n = 100\n",
        "a = []\n",
        "\n",
        "for i in range(2, n + 1):\n",
        "  for j in range(2,i):\n",
        "    if i % j == 0:\n",
        "      break\n",
        "  else:\n",
        "    a.append(i)\n",
        "\n",
        "print(a)\n"
      ],
      "metadata": {
        "id": "qhRs-ILB52Cj",
        "outputId": "95e59e5a-c6ff-4534-a717-10418c3385b4",
        "colab": {
          "base_uri": "https://localhost:8080/"
        }
      },
      "execution_count": 1,
      "outputs": [
        {
          "output_type": "stream",
          "name": "stdout",
          "text": [
            "[2, 3, 5, 7, 11, 13, 17, 19, 23, 29, 31, 37, 41, 43, 47, 53, 59, 61, 67, 71, 73, 79, 83, 89, 97]\n"
          ]
        }
      ]
    },
    {
      "cell_type": "code",
      "source": [
        ""
      ],
      "metadata": {
        "id": "C78zzuiY6GiU"
      },
      "execution_count": null,
      "outputs": []
    }
  ]
}