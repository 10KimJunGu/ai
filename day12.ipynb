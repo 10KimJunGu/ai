{
  "nbformat": 4,
  "nbformat_minor": 0,
  "metadata": {
    "colab": {
      "name": "day12.ipynb",
      "provenance": [],
      "authorship_tag": "ABX9TyPBJ+R21nQsjZsfE6h7pcFl",
      "include_colab_link": true
    },
    "kernelspec": {
      "name": "python3",
      "display_name": "Python 3"
    },
    "language_info": {
      "name": "python"
    }
  },
  "cells": [
    {
      "cell_type": "markdown",
      "metadata": {
        "id": "view-in-github",
        "colab_type": "text"
      },
      "source": [
        "<a href=\"https://colab.research.google.com/github/32KimJunGu/ai/blob/main/day12.ipynb\" target=\"_parent\"><img src=\"https://colab.research.google.com/assets/colab-badge.svg\" alt=\"Open In Colab\"/></a>"
      ]
    },
    {
      "cell_type": "code",
      "execution_count": 1,
      "metadata": {
        "colab": {
          "base_uri": "https://localhost:8080/"
        },
        "id": "VH6oVlbf36yx",
        "outputId": "253d1981-bad8-4e52-e167-e3d7fafe3317"
      },
      "outputs": [
        {
          "output_type": "stream",
          "name": "stdout",
          "text": [
            "3.14\n"
          ]
        }
      ],
      "source": [
        "# Maths\n",
        "\n",
        "num = 3.141592\n",
        "print(round(num,2)) # Display a number rounded to two decimal places. (둘째자리까지 표현한다)\n"
      ]
    },
    {
      "cell_type": "code",
      "source": [
        "10**2\n",
        "# To the power of ...  # 10의 제곱"
      ],
      "metadata": {
        "colab": {
          "base_uri": "https://localhost:8080/"
        },
        "id": "dBgygQkC7KOB",
        "outputId": "355c59e5-bdc3-414a-9ed6-7263e0060620"
      },
      "execution_count": 2,
      "outputs": [
        {
          "output_type": "execute_result",
          "data": {
            "text/plain": [
              "100"
            ]
          },
          "metadata": {},
          "execution_count": 2
        }
      ]
    },
    {
      "cell_type": "code",
      "source": [
        "import math\n",
        "\n",
        "math.sqrt(100)\n",
        "\n",
        "# The square root of a number but you must have the line 'import math' \n",
        "# at the top of your program for this to work."
      ],
      "metadata": {
        "colab": {
          "base_uri": "https://localhost:8080/"
        },
        "id": "XZ8lHeyW7VMP",
        "outputId": "2f9f34e4-4d19-46b0-d144-3d78cead4f2b"
      },
      "execution_count": 4,
      "outputs": [
        {
          "output_type": "execute_result",
          "data": {
            "text/plain": [
              "10.0"
            ]
          },
          "metadata": {},
          "execution_count": 4
        }
      ]
    },
    {
      "cell_type": "code",
      "source": [
        "math.pi\n",
        "\n",
        "# Gives you pi to decimal places, but you must have the line 'import math'\n",
        "# at the top of your program for this to work."
      ],
      "metadata": {
        "colab": {
          "base_uri": "https://localhost:8080/"
        },
        "id": "Cad32oN-7wns",
        "outputId": "1667f48f-b787-46dc-82fe-af964de3306a"
      },
      "execution_count": 5,
      "outputs": [
        {
          "output_type": "execute_result",
          "data": {
            "text/plain": [
              "3.141592653589793"
            ]
          },
          "metadata": {},
          "execution_count": 5
        }
      ]
    },
    {
      "cell_type": "code",
      "source": [
        "15 // 2\n",
        "\n",
        "# Whole number division. 15//2 gives the answer 7.\n",
        "# 나머지는 버리고 몫만 취한다"
      ],
      "metadata": {
        "colab": {
          "base_uri": "https://localhost:8080/"
        },
        "id": "9LK4ozH870vM",
        "outputId": "84d78168-f783-40ce-f26f-57dd9d6cf340"
      },
      "execution_count": 7,
      "outputs": [
        {
          "output_type": "execute_result",
          "data": {
            "text/plain": [
              "7"
            ]
          },
          "metadata": {},
          "execution_count": 7
        }
      ]
    },
    {
      "cell_type": "code",
      "source": [
        "15 % 2\n",
        "\n",
        "# Finds the remainder. 15%2 gives the answer1.\n",
        "# 몫은 버리고 나머지만 취한다"
      ],
      "metadata": {
        "colab": {
          "base_uri": "https://localhost:8080/"
        },
        "id": "0xQRfZSe8HBR",
        "outputId": "d0b5dae2-b977-4f74-dd05-ff501aaf8b6a"
      },
      "execution_count": 8,
      "outputs": [
        {
          "output_type": "execute_result",
          "data": {
            "text/plain": [
              "1"
            ]
          },
          "metadata": {},
          "execution_count": 8
        }
      ]
    },
    {
      "cell_type": "code",
      "source": [
        "# Ash the user to enter an integer that is over 500. Work out the \n",
        "# square root of that number and display it to two decimal places.\n",
        "\n",
        "# (input) 'Enter a number over 500 : '\n",
        "\n",
        "import math\n",
        "\n",
        "num = int(input('Enter a number over 500 :'))\n",
        "ans = math.sqrt(num)\n",
        "print(round(ans,2))"
      ],
      "metadata": {
        "colab": {
          "base_uri": "https://localhost:8080/"
        },
        "id": "zqA60iS18ZNE",
        "outputId": "a7d5c113-a9a6-4d72-fd4b-d485f434128f"
      },
      "execution_count": 10,
      "outputs": [
        {
          "output_type": "stream",
          "name": "stdout",
          "text": [
            "Enter a number over 500 :500\n",
            "22.36\n"
          ]
        }
      ]
    },
    {
      "cell_type": "code",
      "source": [
        "# Ask the user to enter the radius of a circle.\n",
        "# Work out the area of the circle. (pi * radius ** 2)\n",
        "\n",
        "#(input) ' Enter the redius of the circle'\n",
        "\n",
        "import math\n",
        "\n",
        "num = int(input('Enter the redius of the circle'))\n",
        "print(math.pi*num**2)\n"
      ],
      "metadata": {
        "colab": {
          "base_uri": "https://localhost:8080/"
        },
        "id": "IugJbjei-FF_",
        "outputId": "be07a713-3535-448b-e48c-15b3c159f3f8"
      },
      "execution_count": 11,
      "outputs": [
        {
          "output_type": "stream",
          "name": "stdout",
          "text": [
            "Enter the redius of the circle5\n",
            "78.53981633974483\n"
          ]
        }
      ]
    },
    {
      "cell_type": "code",
      "source": [
        "# Ask the user to enter two numbers. Use whole number division to divide\n",
        "# the first number by the second and also work out the remainder and\n",
        "# display the answer in a user-friendly way... \n",
        "# if they enter 7 and 2 display 7 divided by 2 is 3 with 1 ramaining\n",
        "\n",
        "# (input) 'Enter a first number :'\n",
        "# (input) 'Enter a second number :'\n",
        "# (output) 7 divided by 2 is 3 with 1 ramaining\n",
        "import math\n",
        "\n",
        "n1 = int(input('Enter a first number :'))\n",
        "n2 = int(input('Enter a first number :'))\n",
        "\n",
        "a = n1 // n2\n",
        "b = n1 % n2\n",
        "\n",
        "print(f'{n1} divided by {n2} is {a} with {b} remaining')\n"
      ],
      "metadata": {
        "colab": {
          "base_uri": "https://localhost:8080/"
        },
        "id": "VACU9pmb--F5",
        "outputId": "3c6f1b74-0ada-4515-971d-7f1646d13656"
      },
      "execution_count": 12,
      "outputs": [
        {
          "output_type": "stream",
          "name": "stdout",
          "text": [
            "Enter a first number :7\n",
            "Enter a first number :2\n",
            "7 divided by 2 is 3 with 1 remaining\n"
          ]
        }
      ]
    },
    {
      "cell_type": "code",
      "source": [
        "#  Display the following message:\n",
        "# 1) Square\n",
        "# 2) Triangle\n",
        "\n",
        "# Enter a number :\n",
        "\n",
        "# if the user enters 1, then is should ask them for the length of one of its\n",
        "# sides and display the area. If they select 3, it should ask for the base and\n",
        "# height of the triangle and display the area. If they type in anything else,\n",
        "# it should give them a suitable error message.\n",
        "\n",
        "# 사각형을 고르냐, 삼각형을 고르냐에 따라 다르다.\n",
        "# 1번케이스에따라다르고 2번케이스에 따라 다르다, 그리고 면적을 구하라\n",
        "\n",
        "print('(1) Square')\n",
        "print('(2) Triangle')\n",
        "\n",
        "no = int(input('Enter a number : '))\n",
        "\n",
        "if no == 1:\n",
        "  side = int(input('Enter the lenth of one side : '))\n",
        "  area = side * side\n",
        "  print('The area of your chosen shape is ', area)\n",
        "elif no == 1:\n",
        "  base = int(input('Enter the lenth of the base : '))\n",
        "  height = int(input('Enter the height of the triangle : '))  \n",
        "  area = (base * height) / 2\n",
        "  print('The area of your chosen shape is ', area)\n",
        "else:\n",
        "  print('Incorrect option selected')"
      ],
      "metadata": {
        "colab": {
          "base_uri": "https://localhost:8080/"
        },
        "id": "zmVjpA2zASIZ",
        "outputId": "472f5363-c584-46b2-8f75-dcec2093f8d8"
      },
      "execution_count": 20,
      "outputs": [
        {
          "output_type": "stream",
          "name": "stdout",
          "text": [
            "(1) Square\n",
            "(2) Triangle\n",
            "Enter a number : 6\n",
            "Incorrect option selected\n"
          ]
        }
      ]
    },
    {
      "cell_type": "code",
      "source": [
        "##################################################\n",
        "# for문 \n",
        "##################################################\n",
        "\n",
        "# The range function is often used in for loops and lists the starting number,\n",
        "# the ending number and can also include the steps\n",
        "\n",
        "# for i in range(start, stop, step)\n",
        "\n",
        "for i in range(0,5):\n",
        "  print(i)"
      ],
      "metadata": {
        "colab": {
          "base_uri": "https://localhost:8080/"
        },
        "id": "ugTZ3j8PDuJm",
        "outputId": "ab9f1e38-653e-4a30-ed42-ec4ca21c5fee"
      },
      "execution_count": 26,
      "outputs": [
        {
          "output_type": "stream",
          "name": "stdout",
          "text": [
            "0\n",
            "1\n",
            "2\n",
            "3\n",
            "4\n"
          ]
        }
      ]
    },
    {
      "cell_type": "code",
      "source": [
        "for i in range(0,5,1):\n",
        "  print(i)"
      ],
      "metadata": {
        "colab": {
          "base_uri": "https://localhost:8080/"
        },
        "id": "tMHT590CJBGv",
        "outputId": "484efb4b-334d-40fe-8a19-bd47ee40566f"
      },
      "execution_count": 27,
      "outputs": [
        {
          "output_type": "stream",
          "name": "stdout",
          "text": [
            "0\n",
            "1\n",
            "2\n",
            "3\n",
            "4\n"
          ]
        }
      ]
    },
    {
      "cell_type": "code",
      "source": [
        "for i in range(5):\n",
        "  print(i)"
      ],
      "metadata": {
        "colab": {
          "base_uri": "https://localhost:8080/"
        },
        "id": "JJQdpdeGJJrp",
        "outputId": "5164e58d-d443-4031-8617-f833d54ebb55"
      },
      "execution_count": 28,
      "outputs": [
        {
          "output_type": "stream",
          "name": "stdout",
          "text": [
            "0\n",
            "1\n",
            "2\n",
            "3\n",
            "4\n"
          ]
        }
      ]
    },
    {
      "cell_type": "code",
      "source": [
        "for i in range(10,1,-3):\n",
        "  print(i)"
      ],
      "metadata": {
        "colab": {
          "base_uri": "https://localhost:8080/"
        },
        "id": "LSDudq0rJR3r",
        "outputId": "d0b1da37-f4e9-4d95-85c1-efd7c612b322"
      },
      "execution_count": 29,
      "outputs": [
        {
          "output_type": "stream",
          "name": "stdout",
          "text": [
            "10\n",
            "7\n",
            "4\n"
          ]
        }
      ]
    },
    {
      "cell_type": "code",
      "source": [
        ""
      ],
      "metadata": {
        "id": "WlI-HIWuJYrc"
      },
      "execution_count": null,
      "outputs": []
    }
  ]
}