{
  "cells": [
    {
      "cell_type": "markdown",
      "metadata": {
        "id": "view-in-github",
        "colab_type": "text"
      },
      "source": [
        "<a href=\"https://colab.research.google.com/github/32KimJunGu/ai/blob/main/day4_(1).ipynb\" target=\"_parent\"><img src=\"https://colab.research.google.com/assets/colab-badge.svg\" alt=\"Open In Colab\"/></a>"
      ]
    },
    {
      "cell_type": "code",
      "execution_count": null,
      "id": "0ccaba7d-89a9-47d2-8db6-9fd46d815270",
      "metadata": {
        "id": "0ccaba7d-89a9-47d2-8db6-9fd46d815270",
        "outputId": "e85c2b07-0a67-4c5e-a25f-ab1f8651081a"
      },
      "outputs": [
        {
          "name": "stdout",
          "output_type": "stream",
          "text": [
            "Hello Python Programming\n",
            "52\n"
          ]
        }
      ],
      "source": [
        "#print()\n",
        "print('Hello Python Programming')\n",
        "print('52')"
      ]
    },
    {
      "cell_type": "code",
      "execution_count": null,
      "id": "c262433c",
      "metadata": {
        "id": "c262433c",
        "outputId": "58698a2c-5edc-4ba6-dbda-9c8113a25963"
      },
      "outputs": [
        {
          "name": "stdout",
          "output_type": "stream",
          "text": [
            "52 11 world\n"
          ]
        }
      ],
      "source": [
        "print(52,11,'world')"
      ]
    },
    {
      "cell_type": "code",
      "execution_count": null,
      "id": "c77b227e",
      "metadata": {
        "id": "c77b227e",
        "outputId": "0098644e-2c84-43bd-fad4-7de0cd65cd43"
      },
      "outputs": [
        {
          "name": "stdout",
          "output_type": "stream",
          "text": [
            "hello world\n",
            "\n",
            "1 2 3 4 5\n"
          ]
        }
      ],
      "source": [
        "print('hello world')\n",
        "print()\n",
        "print(1,2,3,4,5)"
      ]
    },
    {
      "cell_type": "code",
      "execution_count": null,
      "id": "a56a72dd",
      "metadata": {
        "id": "a56a72dd",
        "outputId": "a07168a4-86c1-412c-e1f9-145056e245b6"
      },
      "outputs": [
        {
          "name": "stdout",
          "output_type": "stream",
          "text": [
            "한글 사용\n"
          ]
        }
      ],
      "source": [
        "# 주석은 컴퓨터는 읽지 않는다.\n",
        "print('한글 사용') # 주석은 코드에 대한 설명을 표현한다."
      ]
    },
    {
      "cell_type": "code",
      "execution_count": null,
      "id": "52c1ef43",
      "metadata": {
        "id": "52c1ef43",
        "outputId": "45eb906a-17a3-4f9a-ae15-5ab121a64799"
      },
      "outputs": [
        {
          "name": "stdout",
          "output_type": "stream",
          "text": [
            "<class 'str'>\n",
            "<class 'str'>\n",
            "<class 'int'>\n",
            "\"안녕\"이라고 했다\n",
            "'안녕'이라고 했다\n",
            "\"안녕\"이라고 했다\n",
            "\n"
          ]
        }
      ],
      "source": [
        "#기본자료형\n",
        "#문자열 str  '안녕','hello'\n",
        "#숫자 int        1,2,3,4,5\n",
        "#논리(불) boolean  True, False\n",
        "\n",
        "print(type('안녕'))\n",
        "print(type(\"안녕\"))\n",
        "print(type(123))\n",
        "print('\"안녕\"이라고 했다')\n",
        "print(\"'안녕'이라고 했다\")\n",
        "print(\"\\\"안녕\\\"이라고 했다\") #이스케이프 문자\n",
        "print()"
      ]
    },
    {
      "cell_type": "code",
      "execution_count": null,
      "id": "4ef7fecd",
      "metadata": {
        "id": "4ef7fecd",
        "outputId": "98fb1da9-8f83-4ec3-d479-62e693447bb3"
      },
      "outputs": [
        {
          "name": "stdout",
          "output_type": "stream",
          "text": [
            "이름\t나이\t지역\n",
            "김현아\t20\t강남구\n"
          ]
        }
      ],
      "source": [
        "print('이름\\t나이\\t지역')\n",
        "print('김현아\\t20\\t강남구')\n"
      ]
    },
    {
      "cell_type": "code",
      "execution_count": null,
      "id": "837bd69c",
      "metadata": {
        "id": "837bd69c",
        "outputId": "9ed64b71-f7ce-4ca3-87e8-1dd6248f5c0c"
      },
      "outputs": [
        {
          "name": "stdout",
          "output_type": "stream",
          "text": [
            "hello\n",
            "world\n"
          ]
        }
      ],
      "source": [
        "print('hello\\nworld')"
      ]
    },
    {
      "cell_type": "code",
      "execution_count": null,
      "id": "49141f1f",
      "metadata": {
        "id": "49141f1f",
        "outputId": "e9929f1b-015a-4be8-d841-dcf3c8924ae8"
      },
      "outputs": [
        {
          "name": "stdout",
          "output_type": "stream",
          "text": [
            "안녕하세요\n"
          ]
        }
      ],
      "source": [
        "print('안녕'+'하세요')"
      ]
    },
    {
      "cell_type": "code",
      "execution_count": null,
      "id": "4a8e53e0",
      "metadata": {
        "id": "4a8e53e0",
        "outputId": "2f44bb73-fa74-4110-c35e-94ed6abc9474"
      },
      "outputs": [
        {
          "name": "stdout",
          "output_type": "stream",
          "text": [
            "안녕 하세요\n"
          ]
        }
      ],
      "source": [
        "print('안녕','하세요')"
      ]
    },
    {
      "cell_type": "code",
      "execution_count": null,
      "id": "5b1bf121",
      "metadata": {
        "id": "5b1bf121",
        "outputId": "5e457b64-99c4-4397-81e5-d50bfd8c6b6b"
      },
      "outputs": [
        {
          "name": "stdout",
          "output_type": "stream",
          "text": [
            "------------------------------\n"
          ]
        }
      ],
      "source": [
        "print('-' * 30)"
      ]
    },
    {
      "cell_type": "code",
      "execution_count": null,
      "id": "87995f6f",
      "metadata": {
        "id": "87995f6f",
        "outputId": "bfebd9e0-4b1c-4e51-b295-0e5ef9a6a225"
      },
      "outputs": [
        {
          "ename": "TypeError",
          "evalue": "can only concatenate str (not \"int\") to str",
          "output_type": "error",
          "traceback": [
            "\u001b[1;31m---------------------------------------------------------------------------\u001b[0m",
            "\u001b[1;31mTypeError\u001b[0m                                 Traceback (most recent call last)",
            "\u001b[1;32m~\\AppData\\Local\\Temp/ipykernel_18248/4129630768.py\u001b[0m in \u001b[0;36m<module>\u001b[1;34m\u001b[0m\n\u001b[1;32m----> 1\u001b[1;33m \u001b[0mprint\u001b[0m\u001b[1;33m(\u001b[0m\u001b[1;34m'-'\u001b[0m \u001b[1;33m+\u001b[0m \u001b[1;36m30\u001b[0m\u001b[1;33m)\u001b[0m\u001b[1;33m\u001b[0m\u001b[1;33m\u001b[0m\u001b[0m\n\u001b[0m",
            "\u001b[1;31mTypeError\u001b[0m: can only concatenate str (not \"int\") to str"
          ]
        }
      ],
      "source": [
        "print('-' + 30)"
      ]
    },
    {
      "cell_type": "code",
      "execution_count": null,
      "id": "0c534a67",
      "metadata": {
        "id": "0c534a67"
      },
      "outputs": [],
      "source": [
        "#만자열에서 인덱싱(문자 하나를 선택)\n",
        "\n",
        "print('안녕하세요'[0])   #파이썬은 0에서 시작\n",
        "print('안녕하세요'[1])\n",
        "print('안녕하세요'[2])\n",
        "print('안녕하세요'[3])\n",
        "print('안녕하세요'[4])\n"
      ]
    },
    {
      "cell_type": "code",
      "execution_count": null,
      "id": "3622aab5",
      "metadata": {
        "scrolled": true,
        "id": "3622aab5"
      },
      "outputs": [],
      "source": [
        "print('안녕하세요'[-1])   \n",
        "print('안녕하세요'[-2])\n",
        "print('안녕하세요'[-3])\n",
        "print('안녕하세요'[-4])\n",
        "print('안녕하세요'[-5])"
      ]
    },
    {
      "cell_type": "code",
      "execution_count": null,
      "id": "cea504c1",
      "metadata": {
        "id": "cea504c1"
      },
      "outputs": [],
      "source": [
        "#문자열에서의 슬라이싱(문자열에서 여러글자 선택)\n",
        "\n",
        "print('안녕하세요'[1:4]) #[1부터 4미만]\n",
        "print('안녕하세요'[1:])\n",
        "print('안녕하세요'[:3])\n",
        "print('안녕하세요'[:])"
      ]
    },
    {
      "cell_type": "code",
      "execution_count": null,
      "id": "ba627271",
      "metadata": {
        "scrolled": true,
        "id": "ba627271"
      },
      "outputs": [],
      "source": [
        "print('안녕하세요'[9])"
      ]
    },
    {
      "cell_type": "code",
      "execution_count": null,
      "id": "b40b9d05",
      "metadata": {
        "id": "b40b9d05"
      },
      "outputs": [],
      "source": [
        "#문자열의 길이 구하기\n",
        "print(len('안녕하세요'))  #길이는 1에서 시작한다"
      ]
    },
    {
      "cell_type": "code",
      "execution_count": null,
      "id": "30561058",
      "metadata": {
        "id": "30561058"
      },
      "outputs": [],
      "source": [
        "# 조건문\n",
        "\n",
        "#bool & if\n",
        "\n",
        "print(True)"
      ]
    },
    {
      "cell_type": "code",
      "execution_count": null,
      "id": "3d9a6d15",
      "metadata": {
        "id": "3d9a6d15"
      },
      "outputs": [],
      "source": [
        "print(true)"
      ]
    },
    {
      "cell_type": "code",
      "execution_count": null,
      "id": "c26dd307",
      "metadata": {
        "id": "c26dd307"
      },
      "outputs": [],
      "source": [
        "print(10 == 100)\n",
        "print(10 != 100)\n",
        "print(10<100)\n",
        "print(10>100)\n",
        "print(10>=100)"
      ]
    },
    {
      "cell_type": "code",
      "execution_count": null,
      "id": "ba081305",
      "metadata": {
        "id": "ba081305"
      },
      "outputs": [],
      "source": [
        "print(\"가방\" == \"가방\")\n",
        "print(\"가방\" == \"백\")\n",
        "print(\"가방\" != \"백\")\n",
        "print(\"가방\" > \"백\") # 한글은 사전 순서(가나다순)\n",
        "print(\"가방\" < \"백\")"
      ]
    },
    {
      "cell_type": "code",
      "execution_count": null,
      "id": "848bd509",
      "metadata": {
        "id": "848bd509"
      },
      "outputs": [],
      "source": [
        "# if 조건문\n",
        "# 조건에 따라 특정 코드를 실행하거나 특정 코드를 실행하지 않게 만들고 싶을때 사용\n",
        "# 코드의 실행 흐름을 변경시키는 것을 조건 분기라고 부른다.\n",
        "\n",
        "num = int(input('정수를 입력하세요 >>'))\n",
        "\n",
        "if num > 0 :\n",
        "    print('양수입니다')\n",
        "    \n",
        "if num < 0:\n",
        "    print('음수입니다')\n",
        "if num == 0:\n",
        "    print('0입니다')"
      ]
    },
    {
      "cell_type": "code",
      "execution_count": null,
      "id": "3046b11f",
      "metadata": {
        "id": "3046b11f"
      },
      "outputs": [],
      "source": [
        "# 날짜/시간과 관련된 기능을 가져온다.\n",
        "\n",
        "import datetime\n",
        "\n",
        "# 현재의 날짜와 시간을 구하는 함수\n",
        "now = datetime.datetime.now()\n",
        "\n",
        "print(now)\n",
        "print(now.year,'년')\n",
        "print(now.month,'월')\n",
        "print(now.day)\n",
        "print(now.hour)\n",
        "print(now.minute)\n",
        "print(now.second)"
      ]
    },
    {
      "cell_type": "code",
      "execution_count": null,
      "id": "4d35e60d",
      "metadata": {
        "id": "4d35e60d"
      },
      "outputs": [],
      "source": [
        "#현재 시각은 14시 33분 오후힙니다\n",
        "#현재 시각은 08시 01분 오전입니다\n",
        "\n",
        "import datetime\n",
        "\n",
        "now = datetime.datetime.now()\n",
        "\n",
        "if now.hour<12:\n",
        "    print(f'현재시각은{now.hour}시 {now.minute}분 오전입니다')\n",
        "    \n",
        "if now.hour>=12:\n",
        "    print(f'현재시각은{now.hour}시 {now.minute}분 오후입니다')\n"
      ]
    },
    {
      "cell_type": "code",
      "execution_count": null,
      "id": "1c64c2a8",
      "metadata": {
        "id": "1c64c2a8"
      },
      "outputs": [],
      "source": [
        "#12,1,2 겨울 3,4,5,봄 6,7,8 여름 9,10,11 가을\n",
        "# 이번 달은 1월로 겨울입니다.\n",
        "#if만 사용하세요\n",
        "\n",
        "season = ''\n",
        "\n",
        "if 3 <= now.month <=5 :\n",
        "    season = '봄'\n",
        "if 6 <= now.month <=8 :\n",
        "    season = '여름'\n",
        "if 9 <= now.month <=11 :\n",
        "    season = '가을'\n",
        "if now.month == 12 or 1 <= now.month <= 2:\n",
        "    season = '겨울'\n",
        "    \n",
        "print(f'이번달은 {now.month}월로 {season}입니다')"
      ]
    },
    {
      "cell_type": "code",
      "execution_count": null,
      "id": "9f07d8d7",
      "metadata": {
        "id": "9f07d8d7"
      },
      "outputs": [],
      "source": [
        "# % 연산자를 사용하지않고\n",
        "# 정수를 입력받아 그 수가 짝수인지 홀수인지를 알려주는 프로그램을 작성하세요\n",
        "\n",
        "# (입력) 정수를 입력하세요 >>>52\n",
        "# (출력) 짝수입니다.\n",
        "\n",
        "number = input('정수를 입력하세요 >>>')\n",
        "\n",
        "if number[-1] in \"02468\":\n",
        "    print('짝수입니다.')\n",
        "if number[-1] in \"13579\":\n",
        "    print('홀수입니다.')"
      ]
    },
    {
      "cell_type": "code",
      "execution_count": null,
      "id": "ee9d002f",
      "metadata": {
        "id": "ee9d002f"
      },
      "outputs": [],
      "source": [
        "#pass\n",
        "\n",
        "number = int(input('정수입력'))\n",
        "\n",
        "if number > 0:\n",
        "    pass\n",
        "else :\n",
        "    pass"
      ]
    },
    {
      "cell_type": "code",
      "execution_count": null,
      "id": "b2831cd4",
      "metadata": {
        "id": "b2831cd4"
      },
      "outputs": [],
      "source": [
        "#리스트와 반복문\n",
        "\n",
        "li = [1,2,3,4,5]  # collection, mutable, ordered\n",
        "\n",
        "for i in li:\n",
        "    if i >=3:\n",
        "        print(i)"
      ]
    },
    {
      "cell_type": "code",
      "execution_count": null,
      "id": "c36a05d6",
      "metadata": {
        "id": "c36a05d6"
      },
      "outputs": [],
      "source": [
        "# 딕셔너리와 반복문\n",
        "\n",
        "dict = {\n",
        "    1:'홍길동',\n",
        "    2:'이몽룡'\n",
        "}\n",
        "print(dict[2])"
      ]
    },
    {
      "cell_type": "code",
      "execution_count": null,
      "id": "09d4ebea",
      "metadata": {
        "id": "09d4ebea"
      },
      "outputs": [],
      "source": [
        "for i in dict:\n",
        "    print(i,dict[i])"
      ]
    },
    {
      "cell_type": "code",
      "execution_count": null,
      "id": "6dde6951",
      "metadata": {
        "id": "6dde6951"
      },
      "outputs": [],
      "source": [
        ""
      ]
    },
    {
      "cell_type": "code",
      "execution_count": null,
      "id": "6250687e",
      "metadata": {
        "id": "6250687e"
      },
      "outputs": [],
      "source": [
        "list(range (0,5,2)) # 시작을 생략하면 0부터 5 미만까지 , 증감값을 생략하면 1씩 증가"
      ]
    },
    {
      "cell_type": "code",
      "execution_count": null,
      "id": "14cafec0",
      "metadata": {
        "id": "14cafec0",
        "outputId": "c6559aa2-dd23-4508-e5b5-be37c086d6e9"
      },
      "outputs": [
        {
          "name": "stdout",
          "output_type": "stream",
          "text": [
            "0번째 반복\n",
            "1번째 반복\n",
            "2번째 반복\n",
            "0번째 반복\n",
            "1번째 반복\n",
            "2번째 반복\n"
          ]
        }
      ],
      "source": [
        "# for : 반복횟수를 정확히 알고 있을때 주로 사용\n",
        "# while : 반복횟수를 정확히 알 수 없을때 주로 사용\n",
        "\n",
        "# while 1 ,for 1\n",
        "\n",
        "# 0번째 반복\n",
        "# 1번째 반복\n",
        "# 2번째 반복\n",
        "\n",
        "for i in range(3) :\n",
        "    print(f'{i}번째 반복')\n",
        "    \n",
        "    \n",
        "    \n",
        "i = 0\n",
        "while i < 3:\n",
        "    print(f'{i}번째 반복')\n",
        "    i += 1\n",
        "\n",
        "    \n",
        "    "
      ]
    },
    {
      "cell_type": "code",
      "execution_count": null,
      "id": "c32e1ad2",
      "metadata": {
        "id": "c32e1ad2",
        "outputId": "b870ab06-e29c-4e2f-db16-ac3a5ddba974"
      },
      "outputs": [
        {
          "name": "stdout",
          "output_type": "stream",
          "text": [
            "2번째 반복\n",
            "1번째 반복\n",
            "0번째 반복\n"
          ]
        }
      ],
      "source": [
        "# 2번째 반복\n",
        "# 1번째 반복\n",
        "# 0번째 반복\n",
        "\n",
        "\n",
        "for i in range(2,-1,-1) :\n",
        "    print(f'{i}번째 반복')\n",
        "    \n",
        "    \n",
        "    "
      ]
    },
    {
      "cell_type": "code",
      "execution_count": null,
      "id": "62ba0826",
      "metadata": {
        "id": "62ba0826"
      },
      "outputs": [],
      "source": [
        "# break / continue\n",
        "\n",
        "# break 반복문 종료\n",
        "\n",
        "i = 0\n",
        "\n",
        "while True:\n",
        "    print(f'{i}번째 반복입니다.')\n",
        "    i+=1\n",
        "    \n",
        "    inp = input('종료할까요(y)>>')\n",
        "    if inp in ['Y','y']\n",
        "        print('반복을 종료합니다.')\n",
        "        break"
      ]
    },
    {
      "cell_type": "code",
      "execution_count": null,
      "id": "8df76868",
      "metadata": {
        "id": "8df76868",
        "outputId": "fd683552-be5f-4790-d2fb-8be9c6bb13dc"
      },
      "outputs": [
        {
          "name": "stdout",
          "output_type": "stream",
          "text": [
            "1\n",
            "3\n",
            "5\n",
            "7\n",
            "9\n"
          ]
        }
      ],
      "source": [
        "# continue 현재 반복을 중지하고 다음 반복으로 넘어갈때 사용\n",
        "# 전체반복에서 부분을 빼고 일부만 실행할때 사용\n",
        "\n",
        "for num in range(1,11):\n",
        "    if num % 2 ==0:\n",
        "        continue\n",
        "    print(num)"
      ]
    },
    {
      "cell_type": "code",
      "execution_count": null,
      "id": "72183002",
      "metadata": {
        "id": "72183002",
        "outputId": "16feca67-c1c2-4e6b-f219-5080c4120f95"
      },
      "outputs": [
        {
          "name": "stdout",
          "output_type": "stream",
          "text": [
            "1번진구\n",
            "2번철수\n",
            "3번미애\n",
            "4번형구\n",
            "5번진수\n"
          ]
        }
      ],
      "source": [
        "# enumerate()  리스트의 요소를 반복할 때 현재 인덱스가 몇번째인지 확인\n",
        "\n",
        "\n",
        "# 0번 진구\n",
        "# 1번 철수\n",
        "# 2번 미애\n",
        "# 3번 형구\n",
        "# 4번 진수\n",
        "\n",
        "# student = ['진구','철수','미애','형구','진수']\n",
        "# no = 0\n",
        "# for name in student :\n",
        "#     print(f'{no}번 {name}')\n",
        "#     no+=1\n",
        "    \n",
        "    \n",
        "    \n",
        "    \n",
        "student = ['진구','철수','미애','형구','진수']   \n",
        "for no, name in enumerate(student):\n",
        "    print(f'{no+1}번{name}')"
      ]
    },
    {
      "cell_type": "code",
      "execution_count": null,
      "id": "425bb381",
      "metadata": {
        "id": "425bb381",
        "outputId": "507d6719-3fee-4061-a7ce-4d2b360838b9"
      },
      "outputs": [
        {
          "name": "stdout",
          "output_type": "stream",
          "text": [
            "홍길동의 키는 185입니다\n",
            "이몽룡의 키는 189입니다\n",
            "성춘향의 키는 168입니다\n"
          ]
        }
      ],
      "source": [
        "# items() 딕셔너리는 items()함수를 사용하여 key와 value값을 한번에 추출할 수 있다.\n",
        "\n",
        "dict = {\n",
        "    '홍길동' : 185,\n",
        "    '이몽룡' : 189,\n",
        "    '성춘향' : 168\n",
        "}\n",
        "\n",
        "# 홍길동의 키는 185입니다\n",
        "\n",
        "for name,height in dict.items():\n",
        "    print(f'{name}의 키는 {height}입니다')"
      ]
    },
    {
      "cell_type": "code",
      "execution_count": null,
      "id": "5c80c347",
      "metadata": {
        "id": "5c80c347",
        "outputId": "c761fb60-b7b1-4901-f81a-c7a58980d644"
      },
      "outputs": [
        {
          "data": {
            "text/plain": [
              "[0, 2, 4, 6, 8, 10, 12, 14, 16, 18]"
            ]
          },
          "execution_count": 26,
          "metadata": {},
          "output_type": "execute_result"
        }
      ],
      "source": [
        "# 리스트 내포 list comprehensions\n",
        "\n",
        "array = []\n",
        "\n",
        "for i in range(0,20,2):\n",
        "    array.append(i)\n",
        "    \n",
        "array"
      ]
    },
    {
      "cell_type": "code",
      "execution_count": null,
      "id": "c8ef4b7c",
      "metadata": {
        "id": "c8ef4b7c",
        "outputId": "bbd294a1-0bab-4908-d5fa-1df0a310139f"
      },
      "outputs": [
        {
          "name": "stdout",
          "output_type": "stream",
          "text": [
            "[0, 2, 4, 6, 8, 10, 12, 14, 16, 18]\n"
          ]
        }
      ],
      "source": [
        "array = [i            for i in range(0,20,2)          ]\n",
        "print(array)"
      ]
    },
    {
      "cell_type": "code",
      "execution_count": null,
      "id": "9f25d5ad",
      "metadata": {
        "id": "9f25d5ad",
        "outputId": "080b7d26-6c93-4311-a3f6-3c07668cd152"
      },
      "outputs": [
        {
          "name": "stdout",
          "output_type": "stream",
          "text": [
            "['사과', '체리', '바나나']\n"
          ]
        }
      ],
      "source": [
        "array = ['사과','체리','바나나','과자']\n",
        "\n",
        "output = [i            for i in array            if i !='과자']\n",
        "\n",
        "print(output)"
      ]
    },
    {
      "cell_type": "code",
      "execution_count": null,
      "id": "211628dd",
      "metadata": {
        "id": "211628dd"
      },
      "outputs": [],
      "source": [
        ""
      ]
    },
    {
      "cell_type": "code",
      "execution_count": null,
      "id": "a7b85972",
      "metadata": {
        "id": "a7b85972"
      },
      "outputs": [],
      "source": [
        ""
      ]
    }
  ],
  "metadata": {
    "kernelspec": {
      "display_name": "Python 3 (ipykernel)",
      "language": "python",
      "name": "python3"
    },
    "language_info": {
      "codemirror_mode": {
        "name": "ipython",
        "version": 3
      },
      "file_extension": ".py",
      "mimetype": "text/x-python",
      "name": "python",
      "nbconvert_exporter": "python",
      "pygments_lexer": "ipython3",
      "version": "3.9.7"
    },
    "colab": {
      "name": "day4 (1).ipynb",
      "provenance": [],
      "include_colab_link": true
    }
  },
  "nbformat": 4,
  "nbformat_minor": 5
}