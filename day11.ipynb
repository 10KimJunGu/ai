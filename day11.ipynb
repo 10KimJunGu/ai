{
  "nbformat": 4,
  "nbformat_minor": 0,
  "metadata": {
    "colab": {
      "name": "day11.ipynb",
      "provenance": [],
      "authorship_tag": "ABX9TyOTk4npcPoR2m+9ukS1zVgr",
      "include_colab_link": true
    },
    "kernelspec": {
      "name": "python3",
      "display_name": "Python 3"
    },
    "language_info": {
      "name": "python"
    }
  },
  "cells": [
    {
      "cell_type": "markdown",
      "metadata": {
        "id": "view-in-github",
        "colab_type": "text"
      },
      "source": [
        "<a href=\"https://colab.research.google.com/github/32KimJunGu/ai/blob/main/day11.ipynb\" target=\"_parent\"><img src=\"https://colab.research.google.com/assets/colab-badge.svg\" alt=\"Open In Colab\"/></a>"
      ]
    },
    {
      "cell_type": "code",
      "execution_count": null,
      "metadata": {
        "id": "mXSfnCMIify3"
      },
      "outputs": [],
      "source": [
        "#######################################################################################\n",
        "# General\n",
        "#######################################################################################\n",
        "\n",
        "\n",
        "# 001 Ask for the user's first name and display the output message\n",
        "\n",
        "# (output)Hello[First Name]\n",
        "# (input) First Name : \n",
        "\n",
        "\n",
        "fname = input('First name : ')\n",
        "print('Hello', fname) "
      ]
    },
    {
      "cell_type": "code",
      "source": [
        "# 002 Ask for the user's first name and then as for their surname and display the output message\n",
        "\n",
        "# (output) Hello[First Name] [Surname]\n",
        "# (input) 'Please enter your surname : '\n",
        "# (input) 'Please enter your firstname : '\n",
        "\n",
        "\n",
        "sname = input('Please enter your surname')\n",
        "fname = input('Please enter your firstname')\n",
        "print('Hello', fname, sname)        #기본 출력  \n",
        "print(f'Hello {fname}{sname}')      # 제일많이 쓰는 출력"
      ],
      "metadata": {
        "colab": {
          "base_uri": "https://localhost:8080/"
        },
        "id": "hxv1BsylkiP4",
        "outputId": "29616b85-0e16-4e78-c563-da1276e2c559"
      },
      "execution_count": 7,
      "outputs": [
        {
          "output_type": "stream",
          "name": "stdout",
          "text": [
            "Please enter your surnamejungu\n",
            "Please enter your firstnamekim\n",
            "Hello kim jungu\n",
            "Hello kimjungu\n"
          ]
        }
      ]
    },
    {
      "cell_type": "code",
      "source": [
        "# 003 Ask the user to enter tow numbers. Add them together and display the answer as \n",
        "\n",
        "# (output) The total is [answer]\n",
        "# (input) 'Please enter your first number : '\n",
        "# (input) 'Please enter your second number : '\n",
        "\n",
        "\n",
        "no1 = int(input('Please enter your first number : '))\n",
        "no2 = int(input('Please enter your second number : '))\n",
        "\n",
        "print(f'The total is {no1 + no2}')   #f-string은 계산 할 수 있다"
      ],
      "metadata": {
        "id": "09ByIcAblzy8"
      },
      "execution_count": null,
      "outputs": []
    },
    {
      "cell_type": "code",
      "source": [
        "# 004 Ask now many slices of pizza the user started with and ask how many slices they have eaten.\n",
        "# Work out how many slices they have left and display the answer in a user friendly format\n",
        "\n",
        "# (input)'Enter the number of slice of pizza you started with : '\n",
        "# (input)'How many slices have you eaten?'\n",
        "# (output)'The answer is [answer]'\n",
        "\n",
        "\n",
        "num1 = int(input('Enter the number of slice of pizza you started with : '))\n",
        "num2 = int(input('How many slices have you eaten?'))\n",
        "\n",
        "print(f'The answer is {num1-num2}')"
      ],
      "metadata": {
        "colab": {
          "base_uri": "https://localhost:8080/"
        },
        "id": "HucaJOI9nZqP",
        "outputId": "46f2f6bb-83d5-4150-ee48-9417fa94af05"
      },
      "execution_count": 10,
      "outputs": [
        {
          "output_type": "stream",
          "name": "stdout",
          "text": [
            "Enter the number of slice of pizza you started with : 8\n",
            "How many slices have you eaten?4\n",
            "The answer is 4\n"
          ]
        }
      ]
    },
    {
      "cell_type": "code",
      "source": [
        "# 005 Write a program that will ask for a number of days and then will show \n",
        "# how many hours, minutes and seconds are in that number of days.\n",
        "# 일수, 날짜수를 입력받아서 그 일수 까지의 몇시간 몇분 몇초가 남았는지를 계산하여 출력하시오\n",
        "\n",
        "# (input)'Enter the number of days :'\n",
        "# (output)'In [days], days there are ...'\n",
        "#   [hours]hours,\n",
        "#   [minutes]minutes,\n",
        "#   [seconds]seconds\n",
        "\n",
        "\n",
        "days = int(input('Enter the number of days :'))\n",
        "print(f'In {days}, days there are ...\\n\\t\\t{days*24}hours,\\n\\t\\t{days*24*60}minutes,\\n\\t\\t{days*24*60*60}seconds.')"
      ],
      "metadata": {
        "colab": {
          "base_uri": "https://localhost:8080/"
        },
        "id": "pza5V3FPpFdH",
        "outputId": "d3bc8af7-aa56-486f-df39-08232116220f"
      },
      "execution_count": 12,
      "outputs": [
        {
          "output_type": "stream",
          "name": "stdout",
          "text": [
            "Enter the number of days :2\n",
            "In 2, days there are ...\n",
            "\t\t48hours,\n",
            "\t\t2880minutes,\n",
            "\t\t172800seconds.\n"
          ]
        }
      ]
    },
    {
      "cell_type": "code",
      "source": [
        "# 006 Task the user to enter a number over 100 and then enter a number\n",
        "# under 10 and tell them how many times the smaller number goes into the larger\n",
        "# number in a user-friendly format.\n",
        "# 사용자로부터 100이 넘는 숫자를 입력받고, 10미만의 숫자 하나를 입력받아 \n",
        "# 작은숫자가 큰 숫자안에 몇번 들어가는지 사용자 친화적으로 출력하시오\n",
        "\n",
        "# (input)'Enter the number over 100 : '\n",
        "# (input)'Enter the number under 10 : '\n",
        "# (output)'[smaller]goes into [larger] answer[times]'\n",
        "\n",
        "\n",
        "larger =  int(input('Enter the number over 100 : '))\n",
        "smaller =  int(input('Enter the number under 10 : '))\n",
        "\n",
        "print(f'{smaller}goes into {larger} answer{larger // smaller}times')     #  //는 몫만 취하고 나머지는 버린다\n"
      ],
      "metadata": {
        "colab": {
          "base_uri": "https://localhost:8080/"
        },
        "id": "7yNFOuy-rPcj",
        "outputId": "e96521ce-cbdb-4e8e-9185-98c0dda1b36b"
      },
      "execution_count": 14,
      "outputs": [
        {
          "output_type": "stream",
          "name": "stdout",
          "text": [
            "Enter the number over 100 : 200\n",
            "Enter the number under 10 : 8\n",
            "8goes into 200 answer25times\n"
          ]
        }
      ]
    },
    {
      "cell_type": "code",
      "source": [
        "#######################################################################################\n",
        "# IF Statemet\n",
        "#######################################################################################\n",
        "\n",
        "\n",
        "# Ask for two numbers. If the first one is larger than the second, display the second number first and\n",
        "# then the first number, otherwise show the first number first and then the second.\n",
        "\n",
        "# (input)'Enter first number : '3\n",
        "# (input)'Enter second number : '2\n",
        "# (output) 2 3\n",
        "\n"
      ],
      "metadata": {
        "id": "v_zl0wutyppn"
      },
      "execution_count": null,
      "outputs": []
    }
  ]
}