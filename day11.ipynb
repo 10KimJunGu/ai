{
  "nbformat": 4,
  "nbformat_minor": 0,
  "metadata": {
    "colab": {
      "name": "day11.ipynb",
      "provenance": [],
      "authorship_tag": "ABX9TyO3+ekxXQfUAEwsvaNBaWXT",
      "include_colab_link": true
    },
    "kernelspec": {
      "name": "python3",
      "display_name": "Python 3"
    },
    "language_info": {
      "name": "python"
    }
  },
  "cells": [
    {
      "cell_type": "markdown",
      "metadata": {
        "id": "view-in-github",
        "colab_type": "text"
      },
      "source": [
        "<a href=\"https://colab.research.google.com/github/32KimJunGu/ai/blob/main/day11.ipynb\" target=\"_parent\"><img src=\"https://colab.research.google.com/assets/colab-badge.svg\" alt=\"Open In Colab\"/></a>"
      ]
    },
    {
      "cell_type": "code",
      "execution_count": null,
      "metadata": {
        "id": "mXSfnCMIify3"
      },
      "outputs": [],
      "source": [
        "# 001 Ask for the user's first name and display the output message\n",
        "\n",
        "# (output)Hello[First Name]\n",
        "# (input) First Name : \n",
        "\n",
        "\n",
        "fname = input('First name : ')\n",
        "print('Hello', fname) "
      ]
    },
    {
      "cell_type": "code",
      "source": [
        "# 002 Ask for the user's first name and then as for their surname and display the output message\n",
        "\n",
        "# (output) Hello[First Name] [Surname]\n",
        "# (input) 'Please enter your surname : '\n",
        "# (input) 'Please enter your firstname : '\n",
        "\n",
        "\n",
        "sname = input('Please enter your surname')\n",
        "fname = input('Please enter your firstname')\n",
        "print('Hello', fname, sname)        #기본 출력  \n",
        "print(f'Hello {fname}{sname}')      # 제일많이 쓰는 출력"
      ],
      "metadata": {
        "colab": {
          "base_uri": "https://localhost:8080/"
        },
        "id": "hxv1BsylkiP4",
        "outputId": "29616b85-0e16-4e78-c563-da1276e2c559"
      },
      "execution_count": 7,
      "outputs": [
        {
          "output_type": "stream",
          "name": "stdout",
          "text": [
            "Please enter your surnamejungu\n",
            "Please enter your firstnamekim\n",
            "Hello kim jungu\n",
            "Hello kimjungu\n"
          ]
        }
      ]
    },
    {
      "cell_type": "code",
      "source": [
        "# 003 Ask the user to enter tow numbers. Add them together and display the answer as \n",
        "\n",
        "# (output) The total is [answer]\n",
        "# (input) 'Please enter your first number : '\n",
        "# (input) 'Please enter your second number : '\n",
        "\n",
        "\n",
        "no1 = int(input('Please enter your first number : '))\n",
        "no2 = int(input('Please enter your second number : '))\n",
        "\n",
        "print(f'The total is {no1 + no2}')   #f-string은 계산 할 수 있다"
      ],
      "metadata": {
        "id": "09ByIcAblzy8"
      },
      "execution_count": null,
      "outputs": []
    },
    {
      "cell_type": "code",
      "source": [
        "# 004 Ask now many slices of pizza the user started with and ask how many slices they have eaten.\n",
        "# Work out how many slices they have left and display the answer in a user friendly format\n",
        "\n",
        "# (input)'Enter the number of slice of pizza you started with : '\n",
        "# (input)'How many slices have you eaten?'\n",
        "# (output)'The answer is [answer]'\n",
        "\n",
        "\n",
        "num1 = int(input('Enter the number of slice of pizza you started with : '))\n",
        "num2 = int(input('How many slices have you eaten?'))\n",
        "\n",
        "print(f'The answer is {num1-num2}')"
      ],
      "metadata": {
        "colab": {
          "base_uri": "https://localhost:8080/"
        },
        "id": "HucaJOI9nZqP",
        "outputId": "46f2f6bb-83d5-4150-ee48-9417fa94af05"
      },
      "execution_count": 10,
      "outputs": [
        {
          "output_type": "stream",
          "name": "stdout",
          "text": [
            "Enter the number of slice of pizza you started with : 8\n",
            "How many slices have you eaten?4\n",
            "The answer is 4\n"
          ]
        }
      ]
    },
    {
      "cell_type": "code",
      "source": [
        ""
      ],
      "metadata": {
        "id": "pza5V3FPpFdH"
      },
      "execution_count": null,
      "outputs": []
    }
  ]
}