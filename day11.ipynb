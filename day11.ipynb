{
  "nbformat": 4,
  "nbformat_minor": 0,
  "metadata": {
    "colab": {
      "name": "day11.ipynb",
      "provenance": [],
      "authorship_tag": "ABX9TyPplkJYzEHMF14Rj/G94tFp",
      "include_colab_link": true
    },
    "kernelspec": {
      "name": "python3",
      "display_name": "Python 3"
    },
    "language_info": {
      "name": "python"
    }
  },
  "cells": [
    {
      "cell_type": "markdown",
      "metadata": {
        "id": "view-in-github",
        "colab_type": "text"
      },
      "source": [
        "<a href=\"https://colab.research.google.com/github/32KimJunGu/ai/blob/main/day11.ipynb\" target=\"_parent\"><img src=\"https://colab.research.google.com/assets/colab-badge.svg\" alt=\"Open In Colab\"/></a>"
      ]
    },
    {
      "cell_type": "code",
      "execution_count": null,
      "metadata": {
        "id": "mXSfnCMIify3"
      },
      "outputs": [],
      "source": [
        "#######################################################################################\n",
        "# General\n",
        "#######################################################################################\n",
        "\n",
        "\n",
        "# 001 Ask for the user's first name and display the output message\n",
        "\n",
        "# (output)Hello[First Name]\n",
        "# (input) First Name : \n",
        "\n",
        "\n",
        "fname = input('First name : ')\n",
        "print('Hello', fname) "
      ]
    },
    {
      "cell_type": "code",
      "source": [
        "# 002 Ask for the user's first name and then as for their surname and display the output message\n",
        "\n",
        "# (output) Hello[First Name] [Surname]\n",
        "# (input) 'Please enter your surname : '\n",
        "# (input) 'Please enter your firstname : '\n",
        "\n",
        "\n",
        "sname = input('Please enter your surname')\n",
        "fname = input('Please enter your firstname')\n",
        "print('Hello', fname, sname)        #기본 출력  \n",
        "print(f'Hello {fname}{sname}')      # 제일많이 쓰는 출력"
      ],
      "metadata": {
        "colab": {
          "base_uri": "https://localhost:8080/"
        },
        "id": "hxv1BsylkiP4",
        "outputId": "29616b85-0e16-4e78-c563-da1276e2c559"
      },
      "execution_count": 7,
      "outputs": [
        {
          "output_type": "stream",
          "name": "stdout",
          "text": [
            "Please enter your surnamejungu\n",
            "Please enter your firstnamekim\n",
            "Hello kim jungu\n",
            "Hello kimjungu\n"
          ]
        }
      ]
    },
    {
      "cell_type": "code",
      "source": [
        "# 003 Ask the user to enter tow numbers. Add them together and display the answer as \n",
        "\n",
        "# (output) The total is [answer]\n",
        "# (input) 'Please enter your first number : '\n",
        "# (input) 'Please enter your second number : '\n",
        "\n",
        "\n",
        "no1 = int(input('Please enter your first number : '))\n",
        "no2 = int(input('Please enter your second number : '))\n",
        "\n",
        "print(f'The total is {no1 + no2}')   #f-string은 계산 할 수 있다"
      ],
      "metadata": {
        "id": "09ByIcAblzy8"
      },
      "execution_count": null,
      "outputs": []
    },
    {
      "cell_type": "code",
      "source": [
        "# 004 Ask now many slices of pizza the user started with and ask how many slices they have eaten.\n",
        "# Work out how many slices they have left and display the answer in a user friendly format\n",
        "\n",
        "# (input)'Enter the number of slice of pizza you started with : '\n",
        "# (input)'How many slices have you eaten?'\n",
        "# (output)'The answer is [answer]'\n",
        "\n",
        "\n",
        "num1 = int(input('Enter the number of slice of pizza you started with : '))\n",
        "num2 = int(input('How many slices have you eaten?'))\n",
        "\n",
        "print(f'The answer is {num1-num2}')"
      ],
      "metadata": {
        "colab": {
          "base_uri": "https://localhost:8080/"
        },
        "id": "HucaJOI9nZqP",
        "outputId": "46f2f6bb-83d5-4150-ee48-9417fa94af05"
      },
      "execution_count": 10,
      "outputs": [
        {
          "output_type": "stream",
          "name": "stdout",
          "text": [
            "Enter the number of slice of pizza you started with : 8\n",
            "How many slices have you eaten?4\n",
            "The answer is 4\n"
          ]
        }
      ]
    },
    {
      "cell_type": "code",
      "source": [
        "# 005 Write a program that will ask for a number of days and then will show \n",
        "# how many hours, minutes and seconds are in that number of days.\n",
        "# 일수, 날짜수를 입력받아서 그 일수 까지의 몇시간 몇분 몇초가 남았는지를 계산하여 출력하시오\n",
        "\n",
        "# (input)'Enter the number of days :'\n",
        "# (output)'In [days], days there are ...'\n",
        "#   [hours]hours,\n",
        "#   [minutes]minutes,\n",
        "#   [seconds]seconds\n",
        "\n",
        "\n",
        "days = int(input('Enter the number of days :'))\n",
        "print(f'In {days}, days there are ...\\n\\t\\t{days*24}hours,\\n\\t\\t{days*24*60}minutes,\\n\\t\\t{days*24*60*60}seconds.')"
      ],
      "metadata": {
        "colab": {
          "base_uri": "https://localhost:8080/"
        },
        "id": "pza5V3FPpFdH",
        "outputId": "d3bc8af7-aa56-486f-df39-08232116220f"
      },
      "execution_count": 12,
      "outputs": [
        {
          "output_type": "stream",
          "name": "stdout",
          "text": [
            "Enter the number of days :2\n",
            "In 2, days there are ...\n",
            "\t\t48hours,\n",
            "\t\t2880minutes,\n",
            "\t\t172800seconds.\n"
          ]
        }
      ]
    },
    {
      "cell_type": "code",
      "source": [
        "# 006 Task the user to enter a number over 100 and then enter a number\n",
        "# under 10 and tell them how many times the smaller number goes into the larger\n",
        "# number in a user-friendly format.\n",
        "# 사용자로부터 100이 넘는 숫자를 입력받고, 10미만의 숫자 하나를 입력받아 \n",
        "# 작은숫자가 큰 숫자안에 몇번 들어가는지 사용자 친화적으로 출력하시오\n",
        "\n",
        "# (input)'Enter the number over 100 : '\n",
        "# (input)'Enter the number under 10 : '\n",
        "# (output)'[smaller]goes into [larger] answer[times]'\n",
        "\n",
        "\n",
        "larger =  int(input('Enter the number over 100 : '))\n",
        "smaller =  int(input('Enter the number under 10 : '))\n",
        "\n",
        "print(f'{smaller}goes into {larger} answer{larger // smaller}times')     #  //는 몫만 취하고 나머지는 버린다\n"
      ],
      "metadata": {
        "colab": {
          "base_uri": "https://localhost:8080/"
        },
        "id": "7yNFOuy-rPcj",
        "outputId": "e96521ce-cbdb-4e8e-9185-98c0dda1b36b"
      },
      "execution_count": 14,
      "outputs": [
        {
          "output_type": "stream",
          "name": "stdout",
          "text": [
            "Enter the number over 100 : 200\n",
            "Enter the number under 10 : 8\n",
            "8goes into 200 answer25times\n"
          ]
        }
      ]
    },
    {
      "cell_type": "code",
      "source": [
        "#######################################################################################\n",
        "# IF Statemet\n",
        "#######################################################################################\n",
        "\n",
        "\n",
        "# Ask for two numbers. If the first one is larger than the second, display the second number first and\n",
        "# then the first number, otherwise show the first number first and then the second.\n",
        "# 두개의 숫자를 입력받아 만약 첫번째 숫자가 두번째 숫자보다 크면 두번째 숫자를 먼저 출력하고\n",
        "# 첫번째 숫자를 출력한다. 그렇지않으면 첫번째 숫자를 출력하고 두번째 숫자를 출력한다.\n",
        "\n",
        "# (input)'Enter first number : '3\n",
        "# (input)'Enter second number : '2\n",
        "# (output) 2 3\n",
        "\n",
        "no1 = int(input('Enter first number : '))\n",
        "no2 = int(input('Enter second number : '))\n",
        "\n",
        "if no1 > no2 :\n",
        "  print(no2,no1)\n",
        "else :\n",
        "  print(no1,no2) "
      ],
      "metadata": {
        "colab": {
          "base_uri": "https://localhost:8080/"
        },
        "id": "v_zl0wutyppn",
        "outputId": "e89307b9-d450-47fb-a261-e524506156dc"
      },
      "execution_count": 15,
      "outputs": [
        {
          "output_type": "stream",
          "name": "stdout",
          "text": [
            "Enter first number : 3\n",
            "Enter second number : 4\n",
            "3 4\n"
          ]
        }
      ]
    },
    {
      "cell_type": "code",
      "source": [
        "# Ask the user to enter a number between 10 and 20 If they enter a number within this range,\n",
        "# display the message 'Thank you' otherwise display the message 'incorrect number'\n",
        "# 10에서 20 사이의 숫자입력을 요청한다. 만약 입력된 값이 이 범위안의 숫자이면 'Thank you' 아니면\n",
        "# 'incorrect number'를 입력하라\n",
        "\n",
        "\n",
        "############### 내가 한것\n",
        "# no1 = int(input('Enter first number : '))\n",
        "\n",
        "# if 10 <= no1 <=20:        # 이 표현은 좋지 못하다\n",
        "#   print('Thank you')\n",
        "# else:\n",
        "#   print('incorrect number')\n",
        "\n",
        "\n",
        "###############선생님이 한것\n",
        "num = int(input('Enter a value between 10 and 20 :  '))\n",
        "if num >= 10 and num <= 20:\n",
        "  print('Thank you')\n",
        "else:\n",
        "  print('incorrect number')"
      ],
      "metadata": {
        "colab": {
          "base_uri": "https://localhost:8080/"
        },
        "id": "-1Mdzvbm1oQ8",
        "outputId": "f0688bc1-7e91-4031-8849-309ba0bd48c0"
      },
      "execution_count": 21,
      "outputs": [
        {
          "output_type": "stream",
          "name": "stdout",
          "text": [
            "Enter a value between 10 and 20 :  10\n",
            "Thank you\n"
          ]
        }
      ]
    },
    {
      "cell_type": "code",
      "source": [
        "# Ask the user to enter their favorite color. If they enter 'red', 'RED' or 'Red'\n",
        "# display the message 'I like red too', otherwise display the message \n",
        "# 'I dont like [color], I prefer red.'\n",
        "\n",
        "fc = input('favorite color :')\n",
        "\n",
        "if fc in ['red','RED','Red']:\n",
        "  print('I like it too')\n",
        "else:\n",
        "  print(f'i dont like {fc}, I prefer red.')"
      ],
      "metadata": {
        "colab": {
          "base_uri": "https://localhost:8080/"
        },
        "id": "n_5yW17c4T4Q",
        "outputId": "c47274f5-2277-46fd-dceb-49897362f970"
      },
      "execution_count": 23,
      "outputs": [
        {
          "output_type": "stream",
          "name": "stdout",
          "text": [
            "favorite color :red\n",
            "I like it too\n"
          ]
        }
      ]
    },
    {
      "cell_type": "code",
      "source": [
        "# Ask the user if it is raining and convert their answer to lower case \n",
        "# 사용자에게 지금 비가 오고 있는지 묻고 그 대답을 소문자로 변환하여\n",
        "# so it doesn't matter what case they type it in. If they answer 'yes',\n",
        "# 대소문자 입력한 값에 상관없도록한다. 만약 'yes'를 입력하면\n",
        "# ask if it is windy. If they answer 'yes' to this second question,\n",
        "# 바람이 부는지 다시 묻는다. 두번째 질문도 'yes'입력하면\n",
        "# display the answer 'It is too windy for an umbrella', otherwise\n",
        "# 'It is too windy for an umbrella'출력한다. 그렇지 않으면\n",
        "# display the message 'Take an umberlla'. If they did not answer yes to the first question\n",
        "# 'Take an umberlla' 출력한다. 첫번째 질문에 'yes'가 아니면 \n",
        "# display the answer 'Enjoy your day'\n",
        "# 'Enjoy your day'를 출력한다.\n",
        "\n",
        " \n",
        "# (input) Is it raining?\n",
        "# (input) Is it windy?\n",
        "# (output) 'It is too windy for an umbrella'\n",
        "# (output) 'Take an umbrella'\n",
        "# (output) 'Enjoy your day'\n",
        "\n",
        "\n",
        "raining = input('Is it raining?')\n",
        "raining = str.lower(raining)       # lower -> 전부 소문자로 바꿔주는 특징을 가짐\n",
        "\n",
        "if raining =='yes':\n",
        "  windy = input('Is it windy?')\n",
        "  windy = str.lower(windy)\n",
        "  if windy == 'yes':\n",
        "    print('It is too windy for an umbrella')\n",
        "  else:\n",
        "    print('Take an umbrella')\n",
        "else:\n",
        "  print('Enjoy your day')"
      ],
      "metadata": {
        "colab": {
          "base_uri": "https://localhost:8080/"
        },
        "id": "-xagYB7N5zjc",
        "outputId": "810b8a19-4595-47b6-c872-6c1b1f3c42da"
      },
      "execution_count": 2,
      "outputs": [
        {
          "output_type": "stream",
          "name": "stdout",
          "text": [
            "Is it raining?yes\n",
            "Is it windy?yes\n",
            "It is too windy for an umbrella\n"
          ]
        }
      ]
    },
    {
      "cell_type": "code",
      "source": [
        "# Ask the user's age. If they are 18 or over, display the message 'You can vote',\n",
        "# if they are aged 17, display the message 'You can learn to drive',\n",
        "# if they are 16, display the message 'You can by a lottery ticket',\n",
        "# if they are under 16, display the message 'You can go Trick or Treating'\n",
        "\n",
        "#(input) What is your age?\n",
        "\n",
        "#(output) 'You can vote',\n",
        "          #'You can learn to drive'\n",
        "          #'You can by a lottery ticket'\n",
        "          #'You can go Trick or Treating'\n",
        "\n",
        "\n",
        "###########내가 한것\n",
        "age = int(input('What is your age?'))\n",
        "\n",
        "if age >= 18:\n",
        "  print('You can vote')\n",
        "elif age == 17:\n",
        "  print('You can learn to drive')\n",
        "elif age == 16:\n",
        "  print('You can by a lottery ticket')\n",
        "else:\n",
        "  print('You can go Trick or Treating')\n",
        "\n",
        "###########선생님이 한것\n",
        "\n",
        "age = int(input('What is your age?'))\n",
        "\n",
        "if age >= 18:\n",
        "  print('You can vote')\n",
        "elif age == 17:\n",
        "  print('You can learn to drive')\n",
        "elif age == 16:\n",
        "  print('You can by a lottery ticket')\n",
        "else:\n",
        "  print('You can go Trick or Treating')"
      ],
      "metadata": {
        "id": "XSCD_MiKCFIM"
      },
      "execution_count": null,
      "outputs": []
    },
    {
      "cell_type": "code",
      "source": [
        "###########################################################################################\n",
        "# String\n",
        "###########################################################################################\n",
        "\n",
        "# Ask the user to enter their name and then display the length of their name\n",
        "\n",
        "\n",
        "name = input(\"name?\")\n",
        "print(len(name))"
      ],
      "metadata": {
        "colab": {
          "base_uri": "https://localhost:8080/"
        },
        "id": "uqoWeDLXES0V",
        "outputId": "21114941-fd9b-464a-cd15-83cefea07f1a"
      },
      "execution_count": 3,
      "outputs": [
        {
          "output_type": "stream",
          "name": "stdout",
          "text": [
            "name?jungu\n",
            "5\n"
          ]
        }
      ]
    },
    {
      "cell_type": "code",
      "source": [
        "# Ask the user to enter their first name and last name in lower case.\n",
        "# Change the case to title case and join them together\n",
        "# Display the finished result\n",
        "\n",
        "\n",
        "fname = input('Enter your first name in lowercase : ')\n",
        "lname = input('Enter your first name in lowercase : ')\n",
        "\n",
        "fname = fname.title()\n",
        "lname = lname.title()\n",
        "\n",
        "name = fname + \"\" + lname\n",
        "print(name)"
      ],
      "metadata": {
        "colab": {
          "base_uri": "https://localhost:8080/"
        },
        "id": "vwGyXkIYFkgP",
        "outputId": "04dc00fe-b7b1-4201-9c5f-8acc8b26c54d"
      },
      "execution_count": 4,
      "outputs": [
        {
          "output_type": "stream",
          "name": "stdout",
          "text": [
            "Enter your first name in lowercase : jungu\n",
            "Enter your first name in lowercase : kim\n",
            "JunguKim\n"
          ]
        }
      ]
    },
    {
      "cell_type": "code",
      "source": [
        "# Ask the user to enter their first name. If the length of their first name is under five characters,\n",
        "# ask them to enter their last name and join them together(without a space) and\n",
        "# display the name in upper case.If the length of the first name is five or more characters\n",
        "# display their first name in lower case\n",
        "\n",
        "fname = input('First name ? >>>')\n",
        "\n",
        "if len(fname) < 5:\n",
        "  lname = input('Last name ? >>>')\n",
        "  name = fname + lname\n",
        "  print(name.upper())\n",
        "else :\n",
        "  print(fname.lower())"
      ],
      "metadata": {
        "colab": {
          "base_uri": "https://localhost:8080/"
        },
        "id": "Y_fUQjgOM4g5",
        "outputId": "8861a3cb-f59a-436f-9d16-9fc903c91de9"
      },
      "execution_count": 7,
      "outputs": [
        {
          "output_type": "stream",
          "name": "stdout",
          "text": [
            "First name ? >>>j\n",
            "Last name ? >>>k\n",
            "JK\n"
          ]
        }
      ]
    },
    {
      "cell_type": "code",
      "source": [
        "# Pig Latin takes the first consonant of a word,\n",
        "# moves it to the end of the word and adds on an 'ay'\n",
        "# If a word begins with a vowel you just add 'way' to the end.\n",
        "#                 ['a','e','i','o','u']\n",
        "# 피그 라틴은 단 어의 첫 자음을 가져와서 단어의 끝으로 이동하고 마지막에 'ay'를 추가한다\n",
        "# 만약 단어가 모음으로 시작하면 단어의 끝에 그냥 'way'를 붙인다.\n",
        "# For example, pig becomes igpay, banana becomes ananabay and aadvark becomes\n",
        "# aaddvarkway. Create a program that will ask the user to enter a word and \n",
        "# change it into PigLatin. Make sure the new word is displayed in lower case.\n",
        "\n",
        "word = input('Please enter a word : ')\n",
        "first = word[0]\n",
        "length = len(word)\n",
        "rest = word[1:length]\n",
        "\n",
        "if first not in ['a','e','i','o','u']:\n",
        "  newword = rest + first + 'ay'\n",
        "else :\n",
        "  newword = word + 'way' \n",
        "\n",
        "print(newword.lower())"
      ],
      "metadata": {
        "colab": {
          "base_uri": "https://localhost:8080/"
        },
        "id": "FzAuLcdSPTC2",
        "outputId": "f103b9a4-e58c-438d-e62a-416abc03825b"
      },
      "execution_count": 8,
      "outputs": [
        {
          "output_type": "stream",
          "name": "stdout",
          "text": [
            "Please enter a word : pig\n",
            "pigway\n"
          ]
        }
      ]
    }
  ]
}