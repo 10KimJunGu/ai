{
 "cells": [
  {
   "cell_type": "code",
   "execution_count": 1,
   "id": "0ccaba7d-89a9-47d2-8db6-9fd46d815270",
   "metadata": {},
   "outputs": [
    {
     "name": "stdout",
     "output_type": "stream",
     "text": [
      "Hello Python Programming\n",
      "52\n"
     ]
    }
   ],
   "source": [
    "#print()\n",
    "print('Hello Python Programming')\n",
    "print('52')"
   ]
  },
  {
   "cell_type": "code",
   "execution_count": 2,
   "id": "c262433c",
   "metadata": {},
   "outputs": [
    {
     "name": "stdout",
     "output_type": "stream",
     "text": [
      "52 11 world\n"
     ]
    }
   ],
   "source": [
    "print(52,11,'world')"
   ]
  },
  {
   "cell_type": "code",
   "execution_count": 5,
   "id": "c77b227e",
   "metadata": {},
   "outputs": [
    {
     "name": "stdout",
     "output_type": "stream",
     "text": [
      "hello world\n",
      "\n",
      "1 2 3 4 5\n"
     ]
    }
   ],
   "source": [
    "print('hello world')\n",
    "print()\n",
    "print(1,2,3,4,5)"
   ]
  },
  {
   "cell_type": "code",
   "execution_count": 6,
   "id": "a56a72dd",
   "metadata": {},
   "outputs": [
    {
     "name": "stdout",
     "output_type": "stream",
     "text": [
      "한글 사용\n"
     ]
    }
   ],
   "source": [
    "# 주석은 컴퓨터는 읽지 않는다.\n",
    "print('한글 사용') # 주석은 코드에 대한 설명을 표현한다."
   ]
  },
  {
   "cell_type": "code",
   "execution_count": 9,
   "id": "52c1ef43",
   "metadata": {},
   "outputs": [
    {
     "name": "stdout",
     "output_type": "stream",
     "text": [
      "<class 'str'>\n",
      "<class 'str'>\n",
      "<class 'int'>\n",
      "\"안녕\"이라고 했다\n",
      "'안녕'이라고 했다\n",
      "\"안녕\"이라고 했다\n"
     ]
    }
   ],
   "source": [
    "#기본자료형\n",
    "#문자열 str  '안녕','hello'\n",
    "#숫자 int        1,2,3,4,5\n",
    "#논리(불) boolean  True, False\n",
    "\n",
    "print(type('안녕'))\n",
    "print(type(\"안녕\"))\n",
    "print(type(123))\n",
    "print('\"안녕\"이라고 했다')\n",
    "print(\"'안녕'이라고 했다\")\n",
    "print(\"\\\"안녕\\\"이라고 했다\") #이스케이프 문자\n",
    "print()"
   ]
  },
  {
   "cell_type": "code",
   "execution_count": 10,
   "id": "4ef7fecd",
   "metadata": {},
   "outputs": [
    {
     "name": "stdout",
     "output_type": "stream",
     "text": [
      "이름\t나이\t지역\n",
      "김현아\t20\t강남구\n"
     ]
    }
   ],
   "source": [
    "print('이름\\t나이\\t지역')\n",
    "print('김현아\\t20\\t강남구')\n"
   ]
  },
  {
   "cell_type": "code",
   "execution_count": 11,
   "id": "837bd69c",
   "metadata": {},
   "outputs": [
    {
     "name": "stdout",
     "output_type": "stream",
     "text": [
      "hello\n",
      "world\n"
     ]
    }
   ],
   "source": [
    "print('hello\\nworld')"
   ]
  },
  {
   "cell_type": "code",
   "execution_count": 12,
   "id": "49141f1f",
   "metadata": {},
   "outputs": [
    {
     "name": "stdout",
     "output_type": "stream",
     "text": [
      "안녕하세요\n"
     ]
    }
   ],
   "source": [
    "print('안녕'+'하세요')"
   ]
  },
  {
   "cell_type": "code",
   "execution_count": 13,
   "id": "4a8e53e0",
   "metadata": {},
   "outputs": [
    {
     "name": "stdout",
     "output_type": "stream",
     "text": [
      "안녕 하세요\n"
     ]
    }
   ],
   "source": [
    "print('안녕','하세요')"
   ]
  },
  {
   "cell_type": "code",
   "execution_count": 14,
   "id": "5b1bf121",
   "metadata": {},
   "outputs": [
    {
     "name": "stdout",
     "output_type": "stream",
     "text": [
      "------------------------------\n"
     ]
    }
   ],
   "source": [
    "print('-' * 30)"
   ]
  },
  {
   "cell_type": "code",
   "execution_count": 15,
   "id": "87995f6f",
   "metadata": {},
   "outputs": [
    {
     "ename": "TypeError",
     "evalue": "can only concatenate str (not \"int\") to str",
     "output_type": "error",
     "traceback": [
      "\u001b[1;31m---------------------------------------------------------------------------\u001b[0m",
      "\u001b[1;31mTypeError\u001b[0m                                 Traceback (most recent call last)",
      "\u001b[1;32m~\\AppData\\Local\\Temp/ipykernel_852/4129630768.py\u001b[0m in \u001b[0;36m<module>\u001b[1;34m\u001b[0m\n\u001b[1;32m----> 1\u001b[1;33m \u001b[0mprint\u001b[0m\u001b[1;33m(\u001b[0m\u001b[1;34m'-'\u001b[0m \u001b[1;33m+\u001b[0m \u001b[1;36m30\u001b[0m\u001b[1;33m)\u001b[0m\u001b[1;33m\u001b[0m\u001b[1;33m\u001b[0m\u001b[0m\n\u001b[0m",
      "\u001b[1;31mTypeError\u001b[0m: can only concatenate str (not \"int\") to str"
     ]
    }
   ],
   "source": [
    "print('-' + 30)"
   ]
  },
  {
   "cell_type": "code",
   "execution_count": 17,
   "id": "0c534a67",
   "metadata": {},
   "outputs": [
    {
     "name": "stdout",
     "output_type": "stream",
     "text": [
      "안\n",
      "녕\n",
      "하\n",
      "세\n",
      "요\n"
     ]
    }
   ],
   "source": [
    "#만자열에서 인덱싱(문자 하나를 선택)\n",
    "\n",
    "print('안녕하세요'[0])   #파이썬은 0에서 시작\n",
    "print('안녕하세요'[1])\n",
    "print('안녕하세요'[2])\n",
    "print('안녕하세요'[3])\n",
    "print('안녕하세요'[4])\n"
   ]
  },
  {
   "cell_type": "code",
   "execution_count": 18,
   "id": "3622aab5",
   "metadata": {},
   "outputs": [
    {
     "name": "stdout",
     "output_type": "stream",
     "text": [
      "요\n",
      "세\n",
      "하\n",
      "녕\n",
      "안\n"
     ]
    }
   ],
   "source": [
    "print('안녕하세요'[-1])   \n",
    "print('안녕하세요'[-2])\n",
    "print('안녕하세요'[-3])\n",
    "print('안녕하세요'[-4])\n",
    "print('안녕하세요'[-5])"
   ]
  },
  {
   "cell_type": "code",
   "execution_count": 20,
   "id": "cea504c1",
   "metadata": {},
   "outputs": [
    {
     "name": "stdout",
     "output_type": "stream",
     "text": [
      "녕하세\n",
      "녕하세요\n",
      "안녕하\n",
      "안녕하세요\n"
     ]
    }
   ],
   "source": [
    "#문자열에서의 슬라이싱(문자열에서 여러글자 선택)\n",
    "\n",
    "print('안녕하세요'[1:4]) #[1부터 4미만]\n",
    "print('안녕하세요'[1:])\n",
    "print('안녕하세요'[:3])\n",
    "print('안녕하세요'[:])"
   ]
  },
  {
   "cell_type": "code",
   "execution_count": 21,
   "id": "ba627271",
   "metadata": {},
   "outputs": [
    {
     "ename": "IndexError",
     "evalue": "string index out of range",
     "output_type": "error",
     "traceback": [
      "\u001b[1;31m---------------------------------------------------------------------------\u001b[0m",
      "\u001b[1;31mIndexError\u001b[0m                                Traceback (most recent call last)",
      "\u001b[1;32m~\\AppData\\Local\\Temp/ipykernel_852/416421496.py\u001b[0m in \u001b[0;36m<module>\u001b[1;34m\u001b[0m\n\u001b[1;32m----> 1\u001b[1;33m \u001b[0mprint\u001b[0m\u001b[1;33m(\u001b[0m\u001b[1;34m'안녕하세요'\u001b[0m\u001b[1;33m[\u001b[0m\u001b[1;36m9\u001b[0m\u001b[1;33m]\u001b[0m\u001b[1;33m)\u001b[0m\u001b[1;33m\u001b[0m\u001b[1;33m\u001b[0m\u001b[0m\n\u001b[0m",
      "\u001b[1;31mIndexError\u001b[0m: string index out of range"
     ]
    }
   ],
   "source": [
    "print('안녕하세요'[9])"
   ]
  },
  {
   "cell_type": "code",
   "execution_count": 23,
   "id": "b40b9d05",
   "metadata": {},
   "outputs": [
    {
     "name": "stdout",
     "output_type": "stream",
     "text": [
      "5\n"
     ]
    }
   ],
   "source": [
    "print(len('안녕하세요'))  #길이는 1에서 시작한다"
   ]
  },
  {
   "cell_type": "code",
   "execution_count": null,
   "id": "30561058",
   "metadata": {},
   "outputs": [],
   "source": []
  }
 ],
 "metadata": {
  "kernelspec": {
   "display_name": "Python 3 (ipykernel)",
   "language": "python",
   "name": "python3"
  },
  "language_info": {
   "codemirror_mode": {
    "name": "ipython",
    "version": 3
   },
   "file_extension": ".py",
   "mimetype": "text/x-python",
   "name": "python",
   "nbconvert_exporter": "python",
   "pygments_lexer": "ipython3",
   "version": "3.9.7"
  }
 },
 "nbformat": 4,
 "nbformat_minor": 5
}
